{
 "cells": [
  {
   "cell_type": "markdown",
   "id": "a84a1a6c-274d-4f1a-b7b5-713d845a798b",
   "metadata": {},
   "source": [
    "# Biên tập dữ liệu"
   ]
  },
  {
   "cell_type": "code",
   "execution_count": 3,
   "id": "8524115c-2140-434e-a7dd-4527d88b2584",
   "metadata": {},
   "outputs": [],
   "source": [
    "setwd('E:/Statistics-R/THONG KE R')\n",
    "chol <- read.table('chol.txt', header=TRUE)\n",
    "attach(chol)"
   ]
  },
  {
   "cell_type": "markdown",
   "id": "3112e847-1e50-45f5-b3c7-be0c9576c4d6",
   "metadata": {},
   "source": [
    " ## 4.1 Kiểm tra số liệu trống không (missing value)\n",
    "Trong nghiên cứu, vì nhiều lí do số liệu không thể thu thập được cho tất cả đối\n",
    "tượng, hay không thể đo lường tất cả biến số cho một đối tượng. Trong trường hợp đó,\n",
    "số liệu trống được xem là “missing value” (mà tôi tạm dịch là số liệu trống không). R\n",
    "xem các số liệu trống không là NA. Có một số kiểm định thống kê đòi hỏi các số liệu\n",
    "trống không phải được loại ra (vì không thể tính toán được) trước khi phân tích. R có\n",
    "một lệnh rất có ích cho việc này: na.omit, và cách sử dụng như sau:"
   ]
  },
  {
   "cell_type": "code",
   "execution_count": 4,
   "id": "67f2efe3-6f96-4ad6-b7bb-f619a74f2607",
   "metadata": {},
   "outputs": [],
   "source": [
    "chol.new <- na.omit(chol)"
   ]
  },
  {
   "cell_type": "markdown",
   "id": "8d4d364e-0714-4bc0-8670-fc30d3b58f04",
   "metadata": {},
   "source": [
    "## 4.2 Tách rời dữ liệu: subset\n",
    "Nếu chúng ta, vì một lí do nào đó, chỉ muốn phân tích riêng cho nam giới, chúng\n",
    "ta có thể tách chol ra thành hai data.frame, tạm gọi là nam và nu. Để làm chuyện này,\n",
    "chúng ta dùng lệnh subset(data, cond), trong đó data là data.frame mà chúng ta\n",
    "muốn tách rời, và cond là điều kiện. Ví dụ:"
   ]
  },
  {
   "cell_type": "code",
   "execution_count": 6,
   "id": "72ce5c5c-1ba1-498e-b605-07f2a240a3fa",
   "metadata": {},
   "outputs": [],
   "source": [
    "nam <- subset(chol, sex=='Nam')\n",
    "nu <- subset(chol, sex=='Nu')"
   ]
  },
  {
   "cell_type": "code",
   "execution_count": 7,
   "id": "383f68a1-bf22-4958-a5b3-6cadc91ef328",
   "metadata": {},
   "outputs": [
    {
     "data": {
      "text/html": [
       "<style>\n",
       ".list-inline {list-style: none; margin:0; padding: 0}\n",
       ".list-inline>li {display: inline-block}\n",
       ".list-inline>li:not(:last-child)::after {content: \"\\00b7\"; padding: 0 .5ex}\n",
       "</style>\n",
       "<ol class=list-inline><li>25</li><li>8</li></ol>\n"
      ],
      "text/latex": [
       "\\begin{enumerate*}\n",
       "\\item 25\n",
       "\\item 8\n",
       "\\end{enumerate*}\n"
      ],
      "text/markdown": [
       "1. 25\n",
       "2. 8\n",
       "\n",
       "\n"
      ],
      "text/plain": [
       "[1] 25  8"
      ]
     },
     "metadata": {},
     "output_type": "display_data"
    }
   ],
   "source": [
    "old <- subset(chol, age>=60)\n",
    "dim(old)"
   ]
  },
  {
   "cell_type": "code",
   "execution_count": 9,
   "id": "eaa20e5e-4945-41cc-b310-1a78992f53a2",
   "metadata": {},
   "outputs": [
    {
     "data": {
      "text/html": [
       "<style>\n",
       ".list-inline {list-style: none; margin:0; padding: 0}\n",
       ".list-inline>li {display: inline-block}\n",
       ".list-inline>li:not(:last-child)::after {content: \"\\00b7\"; padding: 0 .5ex}\n",
       "</style>\n",
       "<ol class=list-inline><li>10</li><li>8</li></ol>\n"
      ],
      "text/latex": [
       "\\begin{enumerate*}\n",
       "\\item 10\n",
       "\\item 8\n",
       "\\end{enumerate*}\n"
      ],
      "text/markdown": [
       "1. 10\n",
       "2. 8\n",
       "\n",
       "\n"
      ],
      "text/plain": [
       "[1] 10  8"
      ]
     },
     "metadata": {},
     "output_type": "display_data"
    }
   ],
   "source": [
    "n60 <- subset(chol, age>=60 & sex=='Nam')\n",
    "dim(n60)"
   ]
  },
  {
   "cell_type": "markdown",
   "id": "3ce0c1ec-b282-4967-931c-57670ec850b7",
   "metadata": {},
   "source": [
    "### 4.3 Chiết số liệu từ một data .frame"
   ]
  },
  {
   "cell_type": "code",
   "execution_count": 10,
   "id": "8eb61b0a-ccbf-4e8e-b5de-97de32640a13",
   "metadata": {},
   "outputs": [],
   "source": [
    "data2 <- chol[, c(1,3,7)]"
   ]
  },
  {
   "cell_type": "code",
   "execution_count": 11,
   "id": "845d2349-7aa2-46de-bbcf-201f20154507",
   "metadata": {},
   "outputs": [
    {
     "name": "stdout",
     "output_type": "stream",
     "text": [
      "   id age  tc\n",
      "1   1  57 4.0\n",
      "2   2  64 3.5\n",
      "3   3  60 4.7\n",
      "4   4  65 7.7\n",
      "5   5  47 5.0\n",
      "6   6  65 4.2\n",
      "7   7  76 5.9\n",
      "8   8  61 6.1\n",
      "9   9  59 5.9\n",
      "10 10  57 4.0\n"
     ]
    }
   ],
   "source": [
    "data3 <- chol[1:10, c(1,3,7)]\n",
    "print(data3)"
   ]
  },
  {
   "cell_type": "raw",
   "id": "fe293f4c-834d-4aa4-b55e-e58c8d22efdf",
   "metadata": {},
   "source": [
    "d <- merge(d1, d2, by=\"id\", all=TRUE)"
   ]
  },
  {
   "cell_type": "markdown",
   "id": "0dee14c6-5c8c-414b-a456-382d1e3b799e",
   "metadata": {},
   "source": [
    "### 4.5 Mã hóa số liệu (data coding)\n",
    "Trong việc xử lí số liệu dịch tễ học, nhiều khi chúng ta cần phải biến đổi số liệu từ biến\n",
    "liên tục sang biến mang tính cách phân loại. Chẳng hạn như trong chẩn đoán loãng\n",
    "xương, những phụ nữ có chỉ số T của mật độ chất khoáng trong xương (bone mineral\n",
    "density hay BMD) bằng hay thấp hơn -2.5 được xem là “loãng xương”, những ai có\n",
    "BMD giữa -2.5 và -1.0 là “xốp xương” (osteopenia), và trên -1.0 là “bình thường”. Ví\n",
    "dụ, chúng ta có số liệu BMD từ 10 bệnh nhân như sau:"
   ]
  },
  {
   "cell_type": "code",
   "execution_count": 13,
   "id": "80e0bb34-f70e-47f5-9929-082be7adb53f",
   "metadata": {},
   "outputs": [],
   "source": [
    "bmd <- c(-0.92,0.21,0.17,-3.21,-1.80,-2.60,-2.00,1.71,2.12,-2.11)"
   ]
  },
  {
   "cell_type": "markdown",
   "id": "59f28638-a472-45cd-a944-8605954f95c6",
   "metadata": {},
   "source": [
    "Để phân loại 3 nhóm loãng xương, xốp xương, và bình thường, chúng ta có thể dùng mã\n",
    "số 1, 2 và 3. Nói cách khác, chúng ta muốn tạo nên một biến số khác (hãy gọi là\n",
    "diagnosis) gồm 3 giá trị trên dựa vào giá trị của bmd. Để làm việc này, chúng ta sử\n",
    "dụng lệnh:"
   ]
  },
  {
   "cell_type": "code",
   "execution_count": 14,
   "id": "57a21ace-d49b-4645-8407-6d22b48f1ab0",
   "metadata": {},
   "outputs": [],
   "source": [
    "# tạm thời cho biến số diagnosis bằng bmd\n",
    "diagnosis <- bmd\n",
    "# biến đổi bmd thành diagnosis\n",
    "diagnosis[bmd <= -2.5] <- 1\n",
    "diagnosis[bmd > -2.5 & bmd <= 1.0] <- 2\n",
    "diagnosis[bmd > -1.0] <- 3\n",
    "# tạo thành một data frame\n",
    "data <- data.frame(bmd, diagnosis)"
   ]
  },
  {
   "cell_type": "code",
   "execution_count": 16,
   "id": "29c9ea66-f7ec-4838-accb-00d02da08594",
   "metadata": {},
   "outputs": [
    {
     "data": {
      "text/html": [
       "<table class=\"dataframe\">\n",
       "<caption>A data.frame: 10 × 2</caption>\n",
       "<thead>\n",
       "\t<tr><th scope=col>bmd</th><th scope=col>diagnosis</th></tr>\n",
       "\t<tr><th scope=col>&lt;dbl&gt;</th><th scope=col>&lt;dbl&gt;</th></tr>\n",
       "</thead>\n",
       "<tbody>\n",
       "\t<tr><td>-0.92</td><td>3</td></tr>\n",
       "\t<tr><td> 0.21</td><td>3</td></tr>\n",
       "\t<tr><td> 0.17</td><td>3</td></tr>\n",
       "\t<tr><td>-3.21</td><td>1</td></tr>\n",
       "\t<tr><td>-1.80</td><td>2</td></tr>\n",
       "\t<tr><td>-2.60</td><td>1</td></tr>\n",
       "\t<tr><td>-2.00</td><td>2</td></tr>\n",
       "\t<tr><td> 1.71</td><td>3</td></tr>\n",
       "\t<tr><td> 2.12</td><td>3</td></tr>\n",
       "\t<tr><td>-2.11</td><td>2</td></tr>\n",
       "</tbody>\n",
       "</table>\n"
      ],
      "text/latex": [
       "A data.frame: 10 × 2\n",
       "\\begin{tabular}{ll}\n",
       " bmd & diagnosis\\\\\n",
       " <dbl> & <dbl>\\\\\n",
       "\\hline\n",
       "\t -0.92 & 3\\\\\n",
       "\t  0.21 & 3\\\\\n",
       "\t  0.17 & 3\\\\\n",
       "\t -3.21 & 1\\\\\n",
       "\t -1.80 & 2\\\\\n",
       "\t -2.60 & 1\\\\\n",
       "\t -2.00 & 2\\\\\n",
       "\t  1.71 & 3\\\\\n",
       "\t  2.12 & 3\\\\\n",
       "\t -2.11 & 2\\\\\n",
       "\\end{tabular}\n"
      ],
      "text/markdown": [
       "\n",
       "A data.frame: 10 × 2\n",
       "\n",
       "| bmd &lt;dbl&gt; | diagnosis &lt;dbl&gt; |\n",
       "|---|---|\n",
       "| -0.92 | 3 |\n",
       "|  0.21 | 3 |\n",
       "|  0.17 | 3 |\n",
       "| -3.21 | 1 |\n",
       "| -1.80 | 2 |\n",
       "| -2.60 | 1 |\n",
       "| -2.00 | 2 |\n",
       "|  1.71 | 3 |\n",
       "|  2.12 | 3 |\n",
       "| -2.11 | 2 |\n",
       "\n"
      ],
      "text/plain": [
       "   bmd   diagnosis\n",
       "1  -0.92 3        \n",
       "2   0.21 3        \n",
       "3   0.17 3        \n",
       "4  -3.21 1        \n",
       "5  -1.80 2        \n",
       "6  -2.60 1        \n",
       "7  -2.00 2        \n",
       "8   1.71 3        \n",
       "9   2.12 3        \n",
       "10 -2.11 2        "
      ]
     },
     "metadata": {},
     "output_type": "display_data"
    }
   ],
   "source": [
    "# liệt kê để kiểm tra xem lệnh có hiệu quả không\n",
    "data"
   ]
  },
  {
   "cell_type": "markdown",
   "id": "94f8d696-2c3d-4007-b88a-29ff26dbb570",
   "metadata": {},
   "source": [
    "### 4.5.1 Biến đổi số liệu bằng cách dùng replace\n",
    "Một cách biến đổi số liệu khác là dùng replace, dù cách này có vẻ rườm rà chút ít.\n",
    "Tiếp tục ví dụ trên, chúng ta biến đổi từ bmd sang diagnosis như sau:"
   ]
  },
  {
   "cell_type": "code",
   "execution_count": 17,
   "id": "7f64eac8-3c3a-497f-93b1-187ba818328f",
   "metadata": {},
   "outputs": [],
   "source": [
    "diagnosis <- bmd\n",
    "diagnosis <- replace(diagnosis, bmd <= -2.5, 1)\n",
    "diagnosis <- replace(diagnosis, bmd > -2.5 & bmd <= 1.0, 2)\n",
    "diagnosis <- replace(diagnosis, bmd > -1.0, 3)"
   ]
  },
  {
   "cell_type": "markdown",
   "id": "1c672725-39c5-47bf-be21-aed80a2e46b2",
   "metadata": {},
   "source": [
    "### 4.5.2 Biến đổi thành yếu tố (factor)\n",
    "Trong phân tích thống kê, chúng ta phân biệt một biến số mang tính yếu tố (factor) và\n",
    "biến số liên tục bình thường. Biến số yếu tố không thể dùng để tính toán như cộng trừ\n",
    "nhân chia, nhưng biến số số học có thể sử dụng để tính toán. Chẳng hạn như trong ví dụ\n",
    "bmd và diagnosis trên, diagnosis là yếu tố vì giá trị trung bình giữa 1 và 2 chẳng\n",
    "có ý nghĩa thực tế gì cả; còn bmd là biến số số học.\n",
    "\n",
    "Nhưng hiện nay, diagnosis được xem là một biến số số học. Để biến thành biến số\n",
    "yếu tố, chúng ta cần sử dụng function factor như sau:\n"
   ]
  },
  {
   "cell_type": "code",
   "execution_count": 18,
   "id": "01574aa1-4cb3-463e-9c21-73b25f0ed7a0",
   "metadata": {},
   "outputs": [
    {
     "data": {
      "text/html": [
       "<style>\n",
       ".list-inline {list-style: none; margin:0; padding: 0}\n",
       ".list-inline>li {display: inline-block}\n",
       ".list-inline>li:not(:last-child)::after {content: \"\\00b7\"; padding: 0 .5ex}\n",
       "</style>\n",
       "<ol class=list-inline><li>3</li><li>3</li><li>3</li><li>1</li><li>2</li><li>1</li><li>2</li><li>3</li><li>3</li><li>2</li></ol>\n",
       "\n",
       "<details>\n",
       "\t<summary style=display:list-item;cursor:pointer>\n",
       "\t\t<strong>Levels</strong>:\n",
       "\t</summary>\n",
       "\t<style>\n",
       "\t.list-inline {list-style: none; margin:0; padding: 0}\n",
       "\t.list-inline>li {display: inline-block}\n",
       "\t.list-inline>li:not(:last-child)::after {content: \"\\00b7\"; padding: 0 .5ex}\n",
       "\t</style>\n",
       "\t<ol class=list-inline><li>'1'</li><li>'2'</li><li>'3'</li></ol>\n",
       "</details>"
      ],
      "text/latex": [
       "\\begin{enumerate*}\n",
       "\\item 3\n",
       "\\item 3\n",
       "\\item 3\n",
       "\\item 1\n",
       "\\item 2\n",
       "\\item 1\n",
       "\\item 2\n",
       "\\item 3\n",
       "\\item 3\n",
       "\\item 2\n",
       "\\end{enumerate*}\n",
       "\n",
       "\\emph{Levels}: \\begin{enumerate*}\n",
       "\\item '1'\n",
       "\\item '2'\n",
       "\\item '3'\n",
       "\\end{enumerate*}\n"
      ],
      "text/markdown": [
       "1. 3\n",
       "2. 3\n",
       "3. 3\n",
       "4. 1\n",
       "5. 2\n",
       "6. 1\n",
       "7. 2\n",
       "8. 3\n",
       "9. 3\n",
       "10. 2\n",
       "\n",
       "\n",
       "\n",
       "**Levels**: 1. '1'\n",
       "2. '2'\n",
       "3. '3'\n",
       "\n",
       "\n"
      ],
      "text/plain": [
       " [1] 3 3 3 1 2 1 2 3 3 2\n",
       "Levels: 1 2 3"
      ]
     },
     "metadata": {},
     "output_type": "display_data"
    }
   ],
   "source": [
    "diag <- factor(diagnosis)\n",
    "diag"
   ]
  },
  {
   "cell_type": "markdown",
   "id": "e46442de-cfba-4c8f-b7bc-7fa42bf6932a",
   "metadata": {},
   "source": [
    "Chú ý R bây giờ thông báo cho chúng ta biết diag có 3 bậc: 1, 2 và 3. Nếu chúng ta yêu\n",
    "cầu R tính số trung bình của diag, R sẽ không làm theo yêu cầu này, vì đó không phải là\n",
    "một biến số số học:"
   ]
  },
  {
   "cell_type": "code",
   "execution_count": 19,
   "id": "ba5979ab-ad2c-4531-acbc-5bf81944463a",
   "metadata": {},
   "outputs": [
    {
     "name": "stderr",
     "output_type": "stream",
     "text": [
      "Warning message in mean.default(diag):\n",
      "\"argument is not numeric or logical: returning NA\"\n"
     ]
    },
    {
     "data": {
      "text/html": [
       "&lt;NA&gt;"
      ],
      "text/latex": [
       "<NA>"
      ],
      "text/markdown": [
       "&lt;NA&gt;"
      ],
      "text/plain": [
       "[1] NA"
      ]
     },
     "metadata": {},
     "output_type": "display_data"
    }
   ],
   "source": [
    "mean(diag)"
   ]
  },
  {
   "cell_type": "markdown",
   "id": "d21b85d5-d719-4a22-b229-b2e2d5a5e084",
   "metadata": {},
   "source": [
    "Dĩ nhiên, chúng ta có thể tính giá trị trung bình của diagnosis:"
   ]
  },
  {
   "cell_type": "code",
   "execution_count": 20,
   "id": "7690839e-9944-4f23-97a1-3ecaff51f823",
   "metadata": {},
   "outputs": [
    {
     "data": {
      "text/html": [
       "2.3"
      ],
      "text/latex": [
       "2.3"
      ],
      "text/markdown": [
       "2.3"
      ],
      "text/plain": [
       "[1] 2.3"
      ]
     },
     "metadata": {},
     "output_type": "display_data"
    }
   ],
   "source": [
    "mean(diagnosis)"
   ]
  },
  {
   "cell_type": "markdown",
   "id": "8f0d2486-4908-467e-b605-e42c366ad137",
   "metadata": {},
   "source": [
    "nhưng kết quả 2.3 này không có ý nghĩa gì trong thực tế cả."
   ]
  },
  {
   "cell_type": "markdown",
   "id": "e2d89e97-8586-41c0-97e6-5fcdda51dcbc",
   "metadata": {},
   "source": [
    "### 4.6 Chia nhóm bằng cut"
   ]
  },
  {
   "cell_type": "markdown",
   "id": "f304d62f-ccf5-40d1-a1a3-b8706510b206",
   "metadata": {},
   "source": [
    "Với một biến liên tục, chúng ta có thể chia thành nhiều nhóm bằng hàm cut. Ví dụ,\n",
    "chúng ta có biến age như sau:"
   ]
  },
  {
   "cell_type": "code",
   "execution_count": 21,
   "id": "f25e67c4-c024-474b-8da5-80063f19b118",
   "metadata": {},
   "outputs": [],
   "source": [
    "age <- c(17,19,22,43,14,8,12,19,20,51,8,12,27,31,44)"
   ]
  },
  {
   "cell_type": "markdown",
   "id": "ff87fcad-c47b-4b8b-b42d-f73f2fec4bd1",
   "metadata": {},
   "source": [
    "Độ tuổi thấp nhất là 8 và cao nhất là 51. Nếu chúng ta muốn chia thành 2 nhóm tuổi:"
   ]
  },
  {
   "cell_type": "code",
   "execution_count": 22,
   "id": "e18dd9e5-8d01-4624-b4af-53078bfe0d3d",
   "metadata": {},
   "outputs": [
    {
     "data": {
      "text/html": [
       "<style>\n",
       ".list-inline {list-style: none; margin:0; padding: 0}\n",
       ".list-inline>li {display: inline-block}\n",
       ".list-inline>li:not(:last-child)::after {content: \"\\00b7\"; padding: 0 .5ex}\n",
       "</style>\n",
       "<ol class=list-inline><li>(7.96,29.5]</li><li>(7.96,29.5]</li><li>(7.96,29.5]</li><li>(29.5,51]</li><li>(7.96,29.5]</li><li>(7.96,29.5]</li><li>(7.96,29.5]</li><li>(7.96,29.5]</li><li>(7.96,29.5]</li><li>(29.5,51]</li><li>(7.96,29.5]</li><li>(7.96,29.5]</li><li>(7.96,29.5]</li><li>(29.5,51]</li><li>(29.5,51]</li></ol>\n",
       "\n",
       "<details>\n",
       "\t<summary style=display:list-item;cursor:pointer>\n",
       "\t\t<strong>Levels</strong>:\n",
       "\t</summary>\n",
       "\t<style>\n",
       "\t.list-inline {list-style: none; margin:0; padding: 0}\n",
       "\t.list-inline>li {display: inline-block}\n",
       "\t.list-inline>li:not(:last-child)::after {content: \"\\00b7\"; padding: 0 .5ex}\n",
       "\t</style>\n",
       "\t<ol class=list-inline><li>'(7.96,29.5]'</li><li>'(29.5,51]'</li></ol>\n",
       "</details>"
      ],
      "text/latex": [
       "\\begin{enumerate*}\n",
       "\\item (7.96,29.5{]}\n",
       "\\item (7.96,29.5{]}\n",
       "\\item (7.96,29.5{]}\n",
       "\\item (29.5,51{]}\n",
       "\\item (7.96,29.5{]}\n",
       "\\item (7.96,29.5{]}\n",
       "\\item (7.96,29.5{]}\n",
       "\\item (7.96,29.5{]}\n",
       "\\item (7.96,29.5{]}\n",
       "\\item (29.5,51{]}\n",
       "\\item (7.96,29.5{]}\n",
       "\\item (7.96,29.5{]}\n",
       "\\item (7.96,29.5{]}\n",
       "\\item (29.5,51{]}\n",
       "\\item (29.5,51{]}\n",
       "\\end{enumerate*}\n",
       "\n",
       "\\emph{Levels}: \\begin{enumerate*}\n",
       "\\item '(7.96,29.5{]}'\n",
       "\\item '(29.5,51{]}'\n",
       "\\end{enumerate*}\n"
      ],
      "text/markdown": [
       "1. (7.96,29.5]\n",
       "2. (7.96,29.5]\n",
       "3. (7.96,29.5]\n",
       "4. (29.5,51]\n",
       "5. (7.96,29.5]\n",
       "6. (7.96,29.5]\n",
       "7. (7.96,29.5]\n",
       "8. (7.96,29.5]\n",
       "9. (7.96,29.5]\n",
       "10. (29.5,51]\n",
       "11. (7.96,29.5]\n",
       "12. (7.96,29.5]\n",
       "13. (7.96,29.5]\n",
       "14. (29.5,51]\n",
       "15. (29.5,51]\n",
       "\n",
       "\n",
       "\n",
       "**Levels**: 1. '(7.96,29.5]'\n",
       "2. '(29.5,51]'\n",
       "\n",
       "\n"
      ],
      "text/plain": [
       " [1] (7.96,29.5] (7.96,29.5] (7.96,29.5] (29.5,51]   (7.96,29.5] (7.96,29.5]\n",
       " [7] (7.96,29.5] (7.96,29.5] (7.96,29.5] (29.5,51]   (7.96,29.5] (7.96,29.5]\n",
       "[13] (7.96,29.5] (29.5,51]   (29.5,51]  \n",
       "Levels: (7.96,29.5] (29.5,51]"
      ]
     },
     "metadata": {},
     "output_type": "display_data"
    }
   ],
   "source": [
    "cut(age, 2)"
   ]
  },
  {
   "cell_type": "markdown",
   "id": "4d37e249-0704-45ab-8ae1-db0a54f1319f",
   "metadata": {},
   "source": [
    "cut chia biến age thành 2 nhóm: nhóm 1 tuổi từ 7.96 đến 29.5; nhóm 2 từ 29.5 đến\n",
    "51. Chúng ta có thể đếm số đối tượng trong từng nhóm tuổi bằng hàm table như sau:"
   ]
  },
  {
   "cell_type": "code",
   "execution_count": 23,
   "id": "245b0c2b-2782-4ac4-b9a6-28e348e92bc9",
   "metadata": {},
   "outputs": [
    {
     "data": {
      "text/plain": [
       "\n",
       "(7.96,29.5]   (29.5,51] \n",
       "         11           4 "
      ]
     },
     "metadata": {},
     "output_type": "display_data"
    }
   ],
   "source": [
    "table(cut(age, 2))"
   ]
  },
  {
   "cell_type": "code",
   "execution_count": 24,
   "id": "b6f4dc9f-8ba5-4fad-83b0-939ef42aee10",
   "metadata": {},
   "outputs": [],
   "source": [
    "ageg <- cut(age, 3, labels=c(\"low\", \"medium\", \"high\"))"
   ]
  },
  {
   "cell_type": "code",
   "execution_count": 25,
   "id": "ab9c5525-9a52-490c-8777-8bdddd6af804",
   "metadata": {},
   "outputs": [
    {
     "data": {
      "text/plain": [
       "ageg\n",
       "   low medium   high \n",
       "    10      2      3 "
      ]
     },
     "metadata": {},
     "output_type": "display_data"
    }
   ],
   "source": [
    "ageg <- cut(age, 3, labels=c(\"low\", \"medium\", \"high\"))\n",
    "table(ageg)"
   ]
  },
  {
   "cell_type": "markdown",
   "id": "34432c4f-7ce9-4c92-b00a-955cd4ee8417",
   "metadata": {},
   "source": [
    "Tất nhiên, chúng ta cũng có thể chia age thành 4 nhóm (quartiles) bằng cách cho những\n",
    "thông số 0, 0.25, 0.50 và 0.75 như sau:"
   ]
  },
  {
   "cell_type": "code",
   "execution_count": 33,
   "id": "8722b455-3bdb-404d-8abc-91fbbb556a0e",
   "metadata": {},
   "outputs": [
    {
     "data": {
      "text/html": [
       "<style>\n",
       ".list-inline {list-style: none; margin:0; padding: 0}\n",
       ".list-inline>li {display: inline-block}\n",
       ".list-inline>li:not(:last-child)::after {content: \"\\00b7\"; padding: 0 .5ex}\n",
       "</style>\n",
       "<ol class=list-inline><li>q2</li><li>q2</li><li>q3</li><li>q4</li><li>q2</li><li>q1</li><li>q1</li><li>q2</li><li>q3</li><li>q4</li><li>q1</li><li>q1</li><li>q3</li><li>q4</li><li>q4</li></ol>\n",
       "\n",
       "<details>\n",
       "\t<summary style=display:list-item;cursor:pointer>\n",
       "\t\t<strong>Levels</strong>:\n",
       "\t</summary>\n",
       "\t<style>\n",
       "\t.list-inline {list-style: none; margin:0; padding: 0}\n",
       "\t.list-inline>li {display: inline-block}\n",
       "\t.list-inline>li:not(:last-child)::after {content: \"\\00b7\"; padding: 0 .5ex}\n",
       "\t</style>\n",
       "\t<ol class=list-inline><li>'q1'</li><li>'q2'</li><li>'q3'</li><li>'q4'</li></ol>\n",
       "</details>"
      ],
      "text/latex": [
       "\\begin{enumerate*}\n",
       "\\item q2\n",
       "\\item q2\n",
       "\\item q3\n",
       "\\item q4\n",
       "\\item q2\n",
       "\\item q1\n",
       "\\item q1\n",
       "\\item q2\n",
       "\\item q3\n",
       "\\item q4\n",
       "\\item q1\n",
       "\\item q1\n",
       "\\item q3\n",
       "\\item q4\n",
       "\\item q4\n",
       "\\end{enumerate*}\n",
       "\n",
       "\\emph{Levels}: \\begin{enumerate*}\n",
       "\\item 'q1'\n",
       "\\item 'q2'\n",
       "\\item 'q3'\n",
       "\\item 'q4'\n",
       "\\end{enumerate*}\n"
      ],
      "text/markdown": [
       "1. q2\n",
       "2. q2\n",
       "3. q3\n",
       "4. q4\n",
       "5. q2\n",
       "6. q1\n",
       "7. q1\n",
       "8. q2\n",
       "9. q3\n",
       "10. q4\n",
       "11. q1\n",
       "12. q1\n",
       "13. q3\n",
       "14. q4\n",
       "15. q4\n",
       "\n",
       "\n",
       "\n",
       "**Levels**: 1. 'q1'\n",
       "2. 'q2'\n",
       "3. 'q3'\n",
       "4. 'q4'\n",
       "\n",
       "\n"
      ],
      "text/plain": [
       " [1] q2 q2 q3 q4 q2 q1 q1 q2 q3 q4 q1 q1 q3 q4 q4\n",
       "Levels: q1 q2 q3 q4"
      ]
     },
     "metadata": {},
     "output_type": "display_data"
    }
   ],
   "source": [
    "cut(age, \n",
    "    breaks=quantile(age, c(0, 0.25, 0.50, 0.75, 1)), \n",
    "    labels=c('q1', 'q2', 'q3', 'q4'),\n",
    "    include.lowest=TRUE)"
   ]
  },
  {
   "cell_type": "code",
   "execution_count": 36,
   "id": "bd8a070e-0303-4e9c-9a58-dfaa30a2ea22",
   "metadata": {},
   "outputs": [
    {
     "data": {
      "text/html": [
       "<style>\n",
       ".list-inline {list-style: none; margin:0; padding: 0}\n",
       ".list-inline>li {display: inline-block}\n",
       ".list-inline>li:not(:last-child)::after {content: \"\\00b7\"; padding: 0 .5ex}\n",
       "</style>\n",
       "<ol class=list-inline><li>&lt;NA&gt;</li><li>&lt;NA&gt;</li><li>&lt;NA&gt;</li><li>&lt;NA&gt;</li><li>&lt;NA&gt;</li><li>&lt;NA&gt;</li><li>&lt;NA&gt;</li><li>&lt;NA&gt;</li><li>&lt;NA&gt;</li><li>&lt;NA&gt;</li><li>&lt;NA&gt;</li><li>&lt;NA&gt;</li><li>&lt;NA&gt;</li><li>&lt;NA&gt;</li><li>&lt;NA&gt;</li></ol>\n",
       "\n",
       "<details>\n",
       "\t<summary style=display:list-item;cursor:pointer>\n",
       "\t\t<strong>Levels</strong>:\n",
       "\t</summary>\n",
       "\t<style>\n",
       "\t.list-inline {list-style: none; margin:0; padding: 0}\n",
       "\t.list-inline>li {display: inline-block}\n",
       "\t.list-inline>li:not(:last-child)::after {content: \"\\00b7\"; padding: 0 .5ex}\n",
       "\t</style>\n",
       "\t<ol class=list-inline><li>'q1'</li><li>'q2'</li><li>'q3'</li><li>'q4'</li></ol>\n",
       "</details>"
      ],
      "text/latex": [
       "\\begin{enumerate*}\n",
       "\\item <NA>\n",
       "\\item <NA>\n",
       "\\item <NA>\n",
       "\\item <NA>\n",
       "\\item <NA>\n",
       "\\item <NA>\n",
       "\\item <NA>\n",
       "\\item <NA>\n",
       "\\item <NA>\n",
       "\\item <NA>\n",
       "\\item <NA>\n",
       "\\item <NA>\n",
       "\\item <NA>\n",
       "\\item <NA>\n",
       "\\item <NA>\n",
       "\\end{enumerate*}\n",
       "\n",
       "\\emph{Levels}: \\begin{enumerate*}\n",
       "\\item 'q1'\n",
       "\\item 'q2'\n",
       "\\item 'q3'\n",
       "\\item 'q4'\n",
       "\\end{enumerate*}\n"
      ],
      "text/markdown": [
       "1. &lt;NA&gt;\n",
       "2. &lt;NA&gt;\n",
       "3. &lt;NA&gt;\n",
       "4. &lt;NA&gt;\n",
       "5. &lt;NA&gt;\n",
       "6. &lt;NA&gt;\n",
       "7. &lt;NA&gt;\n",
       "8. &lt;NA&gt;\n",
       "9. &lt;NA&gt;\n",
       "10. &lt;NA&gt;\n",
       "11. &lt;NA&gt;\n",
       "12. &lt;NA&gt;\n",
       "13. &lt;NA&gt;\n",
       "14. &lt;NA&gt;\n",
       "15. &lt;NA&gt;\n",
       "\n",
       "\n",
       "\n",
       "**Levels**: 1. 'q1'\n",
       "2. 'q2'\n",
       "3. 'q3'\n",
       "4. 'q4'\n",
       "\n",
       "\n"
      ],
      "text/plain": [
       " [1] <NA> <NA> <NA> <NA> <NA> <NA> <NA> <NA> <NA> <NA> <NA> <NA> <NA> <NA> <NA>\n",
       "Levels: q1 q2 q3 q4"
      ]
     },
     "metadata": {},
     "output_type": "display_data"
    }
   ],
   "source": [
    "cut(age,\n",
    "    breaks=quantile(c(0, 0.25, 0.50, 0.75, 1)),\n",
    "    labels=c('q1', 'q2', 'q3', 'q4'),\n",
    "    include.lowest=TRUE)"
   ]
  },
  {
   "cell_type": "markdown",
   "id": "051b2d31-90ed-452d-96ec-44c0173088a1",
   "metadata": {},
   "source": [
    "### Tham khảo thêm hàm quantile"
   ]
  },
  {
   "cell_type": "code",
   "execution_count": 31,
   "id": "7b42c8cd-513d-4447-b508-6f92991749a4",
   "metadata": {},
   "outputs": [
    {
     "data": {
      "text/html": [
       "<style>\n",
       ".dl-inline {width: auto; margin:0; padding: 0}\n",
       ".dl-inline>dt, .dl-inline>dd {float: none; width: auto; display: inline-block}\n",
       ".dl-inline>dt::after {content: \":\\0020\"; padding-right: .5ex}\n",
       ".dl-inline>dt:not(:first-of-type) {padding-left: .5ex}\n",
       "</style><dl class=dl-inline><dt>0%</dt><dd>3</dd><dt>25%</dt><dd>12</dd><dt>50%</dt><dd>46</dd><dt>75%</dt><dd>78</dd><dt>100%</dt><dd>100</dd></dl>\n"
      ],
      "text/latex": [
       "\\begin{description*}\n",
       "\\item[0\\textbackslash{}\\%] 3\n",
       "\\item[25\\textbackslash{}\\%] 12\n",
       "\\item[50\\textbackslash{}\\%] 46\n",
       "\\item[75\\textbackslash{}\\%] 78\n",
       "\\item[100\\textbackslash{}\\%] 100\n",
       "\\end{description*}\n"
      ],
      "text/markdown": [
       "0%\n",
       ":   325%\n",
       ":   1250%\n",
       ":   4675%\n",
       ":   78100%\n",
       ":   100\n",
       "\n"
      ],
      "text/plain": [
       "  0%  25%  50%  75% 100% \n",
       "   3   12   46   78  100 "
      ]
     },
     "metadata": {},
     "output_type": "display_data"
    }
   ],
   "source": [
    "#creates a vector having some values and the quantile function will return the percentiles for the data.\n",
    "\n",
    "df<-c(12,3,4,56,78,18,46,78,100)\n",
    "quantile(df)"
   ]
  },
  {
   "cell_type": "markdown",
   "id": "8f0c82c5-f050-4d94-9c02-146ee86b22a7",
   "metadata": {},
   "source": [
    "### 4.7. Tập hợp số liệu bằng cut2 (Hmisc)\n",
    "\n",
    "Hàm cut trên chia biến số theo giá trị của biến, chứ không dựa vào số mẫu, cho\n",
    "nên số lượng mẫu trong từng nhóm không bằng nhau. Tuy nhiên, trong phân tích thống\n",
    "kê, có khi chúng ta cần phải phân chia một biến số liên tục thành nhiều nhóm dựa vào\n",
    "phân phối của biến số nhưng số mẫu bằng hay tương đương nhau. Chẳng hạn như đối\n",
    "với biến số bmd chúng ta có thể “cắt” dãy số thành 3 nhóm với số mẫu tương đương nhau\n",
    "bằng cách dùng function cut2 (trong thư viện Hmisc) như sau:"
   ]
  },
  {
   "cell_type": "code",
   "execution_count": 2,
   "id": "f1611297-0e85-410d-b57d-b7179d4868b7",
   "metadata": {},
   "outputs": [
    {
     "name": "stderr",
     "output_type": "stream",
     "text": [
      "\n",
      "Attaching package: 'Hmisc'\n",
      "\n",
      "\n",
      "The following objects are masked from 'package:base':\n",
      "\n",
      "    format.pval, units\n",
      "\n",
      "\n"
     ]
    },
    {
     "data": {
      "text/plain": [
       "group\n",
       "[-3.21,-0.92) [-0.92, 2.12] \n",
       "            5             5 "
      ]
     },
     "metadata": {},
     "output_type": "display_data"
    }
   ],
   "source": [
    "# nhập thư viện Hmisc để có thể dùng function cut2\n",
    "library(Hmisc)\n",
    "bmd <- c(-0.92,0.21,0.17,-3.21,-1.80,-2.60,-2.00,1.71,2.12,-2.11)\n",
    "# chia biến số bmd thành 2 nhóm và để trong đối tượng group\n",
    "group <- cut2(bmd, g=2)\n",
    "table(group)"
   ]
  },
  {
   "cell_type": "markdown",
   "id": "e0b52527-4e7a-4bbe-97ca-9c9dace5ab65",
   "metadata": {},
   "source": [
    "Như thấy qua ví dụ trên, g = 2 có nghĩa là chia thành 2 nhóm (g = group). R tự động\n",
    "chia thành nhóm 1 gồm giá trị bmd từ -3.21 đến -0.92, và nhóm 2 từ -0.92 đến 2.12. Mỗi\n",
    "nhóm gồm có 5 số.\n",
    "\n",
    "Tất nhiên, chúng ta cũng có thể chia thành 3 nhóm bằng lệnh:"
   ]
  },
  {
   "cell_type": "code",
   "execution_count": 3,
   "id": "b712814b-c783-49ec-af5d-98e9bc447e6d",
   "metadata": {},
   "outputs": [],
   "source": [
    "group <- cut2(bmd, g=3)"
   ]
  },
  {
   "cell_type": "markdown",
   "id": "eb86e419-9f75-444a-bd18-9ea4d6a8d343",
   "metadata": {},
   "source": [
    "Và với lệnh table chúng ta sẽ biết có 3 nhóm, nhóm 1 gồm 4 số, nhóm 2 và 3 mỗi nhóm\n",
    "có 3 số:"
   ]
  },
  {
   "cell_type": "code",
   "execution_count": 4,
   "id": "2bf842f1-46cc-49cd-934e-0aedd3a4cdf9",
   "metadata": {},
   "outputs": [
    {
     "data": {
      "text/plain": [
       "group\n",
       "[-3.21,-1.80) [-1.80, 0.21) [ 0.21, 2.12] \n",
       "            4             3             3 "
      ]
     },
     "metadata": {},
     "output_type": "display_data"
    }
   ],
   "source": [
    "table(group)"
   ]
  },
  {
   "cell_type": "code",
   "execution_count": null,
   "id": "d51b1241-b1b5-413b-b41d-2736d52051c8",
   "metadata": {},
   "outputs": [],
   "source": []
  }
 ],
 "metadata": {
  "kernelspec": {
   "display_name": "R",
   "language": "R",
   "name": "ir"
  },
  "language_info": {
   "codemirror_mode": "r",
   "file_extension": ".r",
   "mimetype": "text/x-r-source",
   "name": "R",
   "pygments_lexer": "r",
   "version": "4.3.3"
  }
 },
 "nbformat": 4,
 "nbformat_minor": 5
}
