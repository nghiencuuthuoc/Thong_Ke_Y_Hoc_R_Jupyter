{
 "cells": [
  {
   "cell_type": "markdown",
   "id": "50f13ce7-b146-4339-ad2b-6e7cb119816a",
   "metadata": {},
   "source": [
    "# Phân tích thống kê mô tả"
   ]
  },
  {
   "cell_type": "markdown",
   "id": "247079a3-ef5b-499d-88e4-44d560e0b9a3",
   "metadata": {},
   "source": [
    "## 9.0 Khái niệm tổng thể (population) và mẫu (sample)"
   ]
  },
  {
   "cell_type": "markdown",
   "id": "22d8fc77-6a05-45bd-ae4b-7f15f3be4448",
   "metadata": {},
   "source": [
    "## 9.1 Thống kê mô tả (descriptive statistics, summary)"
   ]
  },
  {
   "cell_type": "code",
   "execution_count": 2,
   "id": "6e7f7b6f-f0c0-4dc6-890b-487d118f254f",
   "metadata": {},
   "outputs": [],
   "source": [
    "igfdata <- read.table(\"igf.txt\", header=TRUE, na.strings=\".\")"
   ]
  },
  {
   "cell_type": "code",
   "execution_count": 6,
   "id": "df100944-c599-4575-adbd-5aae499be57f",
   "metadata": {},
   "outputs": [],
   "source": [
    "attach(igfdata)"
   ]
  },
  {
   "cell_type": "code",
   "execution_count": 7,
   "id": "5071cedb-30f0-43e5-9578-3783fac6e05f",
   "metadata": {},
   "outputs": [
    {
     "data": {
      "text/html": [
       "<style>\n",
       ".list-inline {list-style: none; margin:0; padding: 0}\n",
       ".list-inline>li {display: inline-block}\n",
       ".list-inline>li:not(:last-child)::after {content: \"\\00b7\"; padding: 0 .5ex}\n",
       "</style>\n",
       "<ol class=list-inline><li>'id'</li><li>'sex'</li><li>'age'</li><li>'weight'</li><li>'height'</li><li>'ethnicity'</li><li>'igfi'</li><li>'igfbp3'</li><li>'als'</li><li>'pinp'</li><li>'ictp'</li><li>'p3np'</li></ol>\n"
      ],
      "text/latex": [
       "\\begin{enumerate*}\n",
       "\\item 'id'\n",
       "\\item 'sex'\n",
       "\\item 'age'\n",
       "\\item 'weight'\n",
       "\\item 'height'\n",
       "\\item 'ethnicity'\n",
       "\\item 'igfi'\n",
       "\\item 'igfbp3'\n",
       "\\item 'als'\n",
       "\\item 'pinp'\n",
       "\\item 'ictp'\n",
       "\\item 'p3np'\n",
       "\\end{enumerate*}\n"
      ],
      "text/markdown": [
       "1. 'id'\n",
       "2. 'sex'\n",
       "3. 'age'\n",
       "4. 'weight'\n",
       "5. 'height'\n",
       "6. 'ethnicity'\n",
       "7. 'igfi'\n",
       "8. 'igfbp3'\n",
       "9. 'als'\n",
       "10. 'pinp'\n",
       "11. 'ictp'\n",
       "12. 'p3np'\n",
       "\n",
       "\n"
      ],
      "text/plain": [
       " [1] \"id\"        \"sex\"       \"age\"       \"weight\"    \"height\"    \"ethnicity\"\n",
       " [7] \"igfi\"      \"igfbp3\"    \"als\"       \"pinp\"      \"ictp\"      \"p3np\"     "
      ]
     },
     "metadata": {},
     "output_type": "display_data"
    }
   ],
   "source": [
    "names(igfdata)"
   ]
  },
  {
   "cell_type": "raw",
   "id": "08d9888c-6969-4926-ac9a-fa2194c78899",
   "metadata": {},
   "source": [
    "igfdata"
   ]
  },
  {
   "cell_type": "code",
   "execution_count": 11,
   "id": "6201fb29-05bb-4e57-8a6d-1ea9f6366bb0",
   "metadata": {},
   "outputs": [
    {
     "data": {
      "text/html": [
       "19.17"
      ],
      "text/latex": [
       "19.17"
      ],
      "text/markdown": [
       "19.17"
      ],
      "text/plain": [
       "[1] 19.17"
      ]
     },
     "metadata": {},
     "output_type": "display_data"
    }
   ],
   "source": [
    "mean(age)"
   ]
  },
  {
   "cell_type": "code",
   "execution_count": 12,
   "id": "a7bbd8a0-8383-458f-b038-f34245fcdb88",
   "metadata": {},
   "outputs": [
    {
     "data": {
      "text/html": [
       "15.3344444444444"
      ],
      "text/latex": [
       "15.3344444444444"
      ],
      "text/markdown": [
       "15.3344444444444"
      ],
      "text/plain": [
       "[1] 15.33444"
      ]
     },
     "metadata": {},
     "output_type": "display_data"
    }
   ],
   "source": [
    "var(age)"
   ]
  },
  {
   "cell_type": "code",
   "execution_count": 13,
   "id": "edf24543-03e0-46df-9bc3-f10f5aed19b3",
   "metadata": {},
   "outputs": [
    {
     "data": {
      "text/html": [
       "3.91592191500858"
      ],
      "text/latex": [
       "3.91592191500858"
      ],
      "text/markdown": [
       "3.91592191500858"
      ],
      "text/plain": [
       "[1] 3.915922"
      ]
     },
     "metadata": {},
     "output_type": "display_data"
    }
   ],
   "source": [
    "sd(age)"
   ]
  },
  {
   "cell_type": "code",
   "execution_count": 14,
   "id": "6cdc1605-27af-4983-9359-3345478d5788",
   "metadata": {},
   "outputs": [
    {
     "data": {
      "text/plain": [
       "       id             sex                 age            weight     \n",
       " Min.   :  1.00   Length:100         Min.   :13.00   Min.   :41.00  \n",
       " 1st Qu.: 25.75   Class :character   1st Qu.:16.00   1st Qu.:47.00  \n",
       " Median : 50.50   Mode  :character   Median :19.00   Median :50.00  \n",
       " Mean   : 50.50                      Mean   :19.17   Mean   :49.91  \n",
       " 3rd Qu.: 75.25                      3rd Qu.:21.25   3rd Qu.:53.00  \n",
       " Max.   :100.00                      Max.   :34.00   Max.   :60.00  \n",
       "     height       ethnicity              igfi            igfbp3     \n",
       " Min.   :149.0   Length:100         Min.   : 85.71   Min.   :2.000  \n",
       " 1st Qu.:157.0   Class :character   1st Qu.:137.17   1st Qu.:3.292  \n",
       " Median :162.0   Mode  :character   Median :161.50   Median :3.550  \n",
       " Mean   :163.1                      Mean   :165.59   Mean   :3.617  \n",
       " 3rd Qu.:168.0                      3rd Qu.:186.46   3rd Qu.:3.875  \n",
       " Max.   :196.0                      Max.   :427.00   Max.   :5.233  \n",
       "      als             pinp             ictp             p3np       \n",
       " Min.   :192.7   Min.   : 26.74   Min.   : 2.697   Min.   : 2.343  \n",
       " 1st Qu.:256.8   1st Qu.: 68.10   1st Qu.: 4.878   1st Qu.: 4.433  \n",
       " Median :292.5   Median :103.26   Median : 6.338   Median : 5.445  \n",
       " Mean   :301.8   Mean   :167.17   Mean   : 7.420   Mean   : 6.341  \n",
       " 3rd Qu.:331.2   3rd Qu.:196.45   3rd Qu.: 8.423   3rd Qu.: 7.150  \n",
       " Max.   :471.7   Max.   :742.68   Max.   :21.237   Max.   :16.303  "
      ]
     },
     "metadata": {},
     "output_type": "display_data"
    }
   ],
   "source": [
    "summary(igfdata)"
   ]
  },
  {
   "cell_type": "code",
   "execution_count": 15,
   "id": "4d0ba13c-279f-43d0-8ab5-31094b949ffa",
   "metadata": {},
   "outputs": [
    {
     "data": {
      "text/plain": [
       "   Min. 1st Qu.  Median    Mean 3rd Qu.    Max. \n",
       "  13.00   16.00   19.00   19.17   21.25   34.00 "
      ]
     },
     "metadata": {},
     "output_type": "display_data"
    }
   ],
   "source": [
    "summary(age)"
   ]
  },
  {
   "cell_type": "code",
   "execution_count": 16,
   "id": "1082c7e1-9134-4eb2-8e5f-1851d38be905",
   "metadata": {},
   "outputs": [],
   "source": [
    "desc <- function(x)\n",
    "{\n",
    "av <- mean(x)\n",
    "sd <- sd(x)\n",
    "se <- sd/sqrt(length(x))\n",
    "c(MEAN=av, SD=sd, SE=se)\n",
    "}"
   ]
  },
  {
   "cell_type": "code",
   "execution_count": 17,
   "id": "32e450db-c55a-416c-942c-00bfc0b00a6f",
   "metadata": {},
   "outputs": [
    {
     "data": {
      "text/html": [
       "<style>\n",
       ".dl-inline {width: auto; margin:0; padding: 0}\n",
       ".dl-inline>dt, .dl-inline>dd {float: none; width: auto; display: inline-block}\n",
       ".dl-inline>dt::after {content: \":\\0020\"; padding-right: .5ex}\n",
       ".dl-inline>dt:not(:first-of-type) {padding-left: .5ex}\n",
       "</style><dl class=dl-inline><dt>MEAN</dt><dd>301.84112</dd><dt>SD</dt><dd>58.9871886305061</dd><dt>SE</dt><dd>5.89871886305061</dd></dl>\n"
      ],
      "text/latex": [
       "\\begin{description*}\n",
       "\\item[MEAN] 301.84112\n",
       "\\item[SD] 58.9871886305061\n",
       "\\item[SE] 5.89871886305061\n",
       "\\end{description*}\n"
      ],
      "text/markdown": [
       "MEAN\n",
       ":   301.84112SD\n",
       ":   58.9871886305061SE\n",
       ":   5.89871886305061\n",
       "\n"
      ],
      "text/plain": [
       "      MEAN         SD         SE \n",
       "301.841120  58.987189   5.898719 "
      ]
     },
     "metadata": {},
     "output_type": "display_data"
    }
   ],
   "source": [
    "desc(als)"
   ]
  },
  {
   "cell_type": "code",
   "execution_count": 18,
   "id": "744347b7-5e88-486d-a785-2fd2b3108fd4",
   "metadata": {},
   "outputs": [
    {
     "data": {
      "text/plain": [
       "sex: Female\n",
       "       id           sex                 age            weight     \n",
       " Min.   : 1.0   Length:69          Min.   :13.00   Min.   :41.00  \n",
       " 1st Qu.:21.0   Class :character   1st Qu.:17.00   1st Qu.:47.00  \n",
       " Median :47.0   Mode  :character   Median :19.00   Median :50.00  \n",
       " Mean   :48.2                      Mean   :19.59   Mean   :49.35  \n",
       " 3rd Qu.:75.0                      3rd Qu.:22.00   3rd Qu.:52.00  \n",
       " Max.   :99.0                      Max.   :34.00   Max.   :60.00  \n",
       "     height       ethnicity              igfi            igfbp3     \n",
       " Min.   :149.0   Length:69          Min.   : 85.71   Min.   :2.767  \n",
       " 1st Qu.:156.0   Class :character   1st Qu.:136.67   1st Qu.:3.333  \n",
       " Median :162.0   Mode  :character   Median :163.33   Median :3.567  \n",
       " Mean   :161.9                      Mean   :167.97   Mean   :3.695  \n",
       " 3rd Qu.:166.0                      3rd Qu.:186.17   3rd Qu.:3.933  \n",
       " Max.   :196.0                      Max.   :427.00   Max.   :5.233  \n",
       "      als             pinp             ictp             p3np       \n",
       " Min.   :204.3   Min.   : 26.74   Min.   : 2.697   Min.   : 2.343  \n",
       " 1st Qu.:263.8   1st Qu.: 62.75   1st Qu.: 4.717   1st Qu.: 4.337  \n",
       " Median :302.7   Median : 78.50   Median : 5.537   Median : 5.143  \n",
       " Mean   :311.5   Mean   :108.74   Mean   : 6.183   Mean   : 5.643  \n",
       " 3rd Qu.:361.7   3rd Qu.:115.26   3rd Qu.: 7.320   3rd Qu.: 6.143  \n",
       " Max.   :471.7   Max.   :502.05   Max.   :13.633   Max.   :14.420  \n",
       "------------------------------------------------------------ \n",
       "sex: Male\n",
       "       id             sex                 age            weight     \n",
       " Min.   :  2.00   Length:31          Min.   :14.00   Min.   :44.00  \n",
       " 1st Qu.: 34.50   Class :character   1st Qu.:15.00   1st Qu.:48.50  \n",
       " Median : 56.00   Mode  :character   Median :17.00   Median :51.00  \n",
       " Mean   : 55.61                      Mean   :18.23   Mean   :51.16  \n",
       " 3rd Qu.: 75.00                      3rd Qu.:20.00   3rd Qu.:53.50  \n",
       " Max.   :100.00                      Max.   :27.00   Max.   :59.00  \n",
       "     height       ethnicity              igfi            igfbp3     \n",
       " Min.   :155.0   Length:31          Min.   : 94.67   Min.   :2.000  \n",
       " 1st Qu.:161.5   Class :character   1st Qu.:138.67   1st Qu.:3.183  \n",
       " Median :164.0   Mode  :character   Median :160.00   Median :3.500  \n",
       " Mean   :165.6                      Mean   :160.29   Mean   :3.443  \n",
       " 3rd Qu.:169.0                      3rd Qu.:183.00   3rd Qu.:3.775  \n",
       " Max.   :191.0                      Max.   :274.00   Max.   :4.500  \n",
       "      als             pinp             ictp             p3np       \n",
       " Min.   :192.7   Min.   : 56.28   Min.   : 3.650   Min.   : 3.390  \n",
       " 1st Qu.:249.8   1st Qu.:135.07   1st Qu.: 6.900   1st Qu.: 5.375  \n",
       " Median :276.0   Median :245.92   Median : 9.513   Median : 7.140  \n",
       " Mean   :280.2   Mean   :297.21   Mean   :10.173   Mean   : 7.895  \n",
       " 3rd Qu.:311.3   3rd Qu.:450.38   3rd Qu.:13.517   3rd Qu.:10.010  \n",
       " Max.   :388.7   Max.   :742.68   Max.   :21.237   Max.   :16.303  "
      ]
     },
     "metadata": {},
     "output_type": "display_data"
    }
   ],
   "source": [
    "by(igfdata, sex, summary)"
   ]
  },
  {
   "cell_type": "code",
   "execution_count": 29,
   "id": "7ff69afe-86d5-4ce1-b90d-4ecdc7f3d8f1",
   "metadata": {},
   "outputs": [
    {
     "data": {
      "image/png": "[encoded data removed]",
      "text/plain": [
       "Plot with title \"Histogram of p3np\""
      ]
     },
     "metadata": {
      "image/png": {
       "height": 420,
       "width": 420
      }
     },
     "output_type": "display_data"
    }
   ],
   "source": [
    "op <- par(mfrow=c(2,3))\n",
    "hist(igfi)\n",
    "hist(igfbp3)\n",
    "hist(als)\n",
    "hist(pinp)\n",
    "hist(ictp)\n",
    "hist(p3np)"
   ]
  },
  {
   "cell_type": "markdown",
   "id": "7de3dbce-5bbd-4eae-b33b-e40cb7e6d381",
   "metadata": {},
   "source": [
    "## 9.2 Kiểm định xem một biến có phải phân phối chuẩn\n",
    "\n",
    "Trong phân tích thống kê, phần lớn các phép tính dựa vào giả định biến số phải là\n",
    "một biến số phân phối chuẩn (normal distribution). Do đó, một trong những việc quan\n",
    "trọng khi xem xét dữ kiện là phải kiểm định giả thiết phân phối chuẩn của một biến số.\n",
    "Trong đồ thị trên, chúng ta thấy các biến số như igfi, pinp, ictp và p3np có vẻ\n",
    "tập trung vào các giá trị thấp và không cân đối, tức dấu hiệu của một sự phân phối không\n",
    "chuẩn."
   ]
  },
  {
   "cell_type": "code",
   "execution_count": 25,
   "id": "ecfede5a-537e-4f0e-a76d-6a3a175b3d69",
   "metadata": {},
   "outputs": [
    {
     "data": {
      "text/html": [
       "<style>\n",
       ".list-inline {list-style: none; margin:0; padding: 0}\n",
       ".list-inline>li {display: inline-block}\n",
       ".list-inline>li:not(:last-child)::after {content: \"\\00b7\"; padding: 0 .5ex}\n",
       "</style>\n",
       "<ol class=list-inline><li>'id'</li><li>'sex'</li><li>'age'</li><li>'weight'</li><li>'height'</li><li>'ethnicity'</li><li>'igfi'</li><li>'igfbp3'</li><li>'als'</li><li>'pinp'</li><li>'ictp'</li><li>'p3np'</li></ol>\n"
      ],
      "text/latex": [
       "\\begin{enumerate*}\n",
       "\\item 'id'\n",
       "\\item 'sex'\n",
       "\\item 'age'\n",
       "\\item 'weight'\n",
       "\\item 'height'\n",
       "\\item 'ethnicity'\n",
       "\\item 'igfi'\n",
       "\\item 'igfbp3'\n",
       "\\item 'als'\n",
       "\\item 'pinp'\n",
       "\\item 'ictp'\n",
       "\\item 'p3np'\n",
       "\\end{enumerate*}\n"
      ],
      "text/markdown": [
       "1. 'id'\n",
       "2. 'sex'\n",
       "3. 'age'\n",
       "4. 'weight'\n",
       "5. 'height'\n",
       "6. 'ethnicity'\n",
       "7. 'igfi'\n",
       "8. 'igfbp3'\n",
       "9. 'als'\n",
       "10. 'pinp'\n",
       "11. 'ictp'\n",
       "12. 'p3np'\n",
       "\n",
       "\n"
      ],
      "text/plain": [
       " [1] \"id\"        \"sex\"       \"age\"       \"weight\"    \"height\"    \"ethnicity\"\n",
       " [7] \"igfi\"      \"igfbp3\"    \"als\"       \"pinp\"      \"ictp\"      \"p3np\"     "
      ]
     },
     "metadata": {},
     "output_type": "display_data"
    }
   ],
   "source": [
    "names(igfdata)"
   ]
  },
  {
   "cell_type": "markdown",
   "id": "56d6d104-4ee5-4fb1-9a38-3ae516bf66eb",
   "metadata": {},
   "source": [
    "Để kiểm định nghiêm chỉnh, chúng ta cần phải sử dụng kiểm định thống kê có tên\n",
    "là “Shapiro test” và trong R gọi là hàm shapiro.test. Chẳng hạn như kiểm định giả\n",
    "thiết phân phối chuẩn của biến số pinp,"
   ]
  },
  {
   "cell_type": "code",
   "execution_count": 26,
   "id": "15045c03-7e17-494b-bb24-234f42a0b4c2",
   "metadata": {},
   "outputs": [
    {
     "data": {
      "text/plain": [
       "\n",
       "\tShapiro-Wilk normality test\n",
       "\n",
       "data:  pinp\n",
       "W = 0.74804, p-value = 8.314e-12\n"
      ]
     },
     "metadata": {},
     "output_type": "display_data"
    }
   ],
   "source": [
    "shapiro.test(pinp)"
   ]
  },
  {
   "cell_type": "markdown",
   "id": "e383cfdd-045b-4458-aae0-0461263ecaa0",
   "metadata": {},
   "source": [
    "Vì trị số p (p-value) thấp hơn 0.05, chúng ta có thể kết luận rằng biến số pinp không đáp\n",
    "ứng luật phân phối chuẩn.\n",
    "\n",
    "Nhưng với biến số weight (trọng lương cơ thể) thì kiểm định này cho biết đây là một\n",
    "biến số tuân theo luật phân phối chuẩn vì trị số p > 0.05."
   ]
  },
  {
   "cell_type": "code",
   "execution_count": 27,
   "id": "b02792d5-9b7b-42a0-a147-6faf0fc15446",
   "metadata": {},
   "outputs": [
    {
     "data": {
      "text/plain": [
       "\n",
       "\tShapiro-Wilk normality test\n",
       "\n",
       "data:  weight\n",
       "W = 0.98867, p-value = 0.5587\n"
      ]
     },
     "metadata": {},
     "output_type": "display_data"
    }
   ],
   "source": [
    "shapiro.test(weight)"
   ]
  },
  {
   "cell_type": "markdown",
   "id": "dd8da140-a2aa-4491-aca5-9a25bd9a3de9",
   "metadata": {},
   "source": [
    "Thật ra, kết quả trên cũng phù hợp với đồ thị của weight:"
   ]
  },
  {
   "cell_type": "code",
   "execution_count": 28,
   "id": "75316d3b-53d0-4cf2-9035-6fa9d0a7030f",
   "metadata": {},
   "outputs": [
    {
     "data": {
      "image/png": "[encoded data removed]",
      "text/plain": [
       "Plot with title \"Histogram of weight\""
      ]
     },
     "metadata": {
      "image/png": {
       "height": 420,
       "width": 420
      }
     },
     "output_type": "display_data"
    }
   ],
   "source": [
    "hist(weight)"
   ]
  },
  {
   "cell_type": "markdown",
   "id": "19e26578-44c1-4a57-be6e-0a710590db01",
   "metadata": {},
   "source": [
    "## 9.3 Thống kê mô tả theo từng nhóm\n",
    "Nếu chúng ta muốn tính trung bình của một biến số như igfi cho mỗi nhóm nam\n",
    "và nữ giới, hàm ```tapply``` trong R có thể dùng cho việc này:"
   ]
  },
  {
   "cell_type": "code",
   "execution_count": 30,
   "id": "d81a6aff-10fe-47d9-971e-63ed2e3cf6df",
   "metadata": {},
   "outputs": [
    {
     "data": {
      "text/html": [
       "<style>\n",
       ".dl-inline {width: auto; margin:0; padding: 0}\n",
       ".dl-inline>dt, .dl-inline>dd {float: none; width: auto; display: inline-block}\n",
       ".dl-inline>dt::after {content: \":\\0020\"; padding-right: .5ex}\n",
       ".dl-inline>dt:not(:first-of-type) {padding-left: .5ex}\n",
       "</style><dl class=dl-inline><dt>Female</dt><dd>167.974115942029</dd><dt>Male</dt><dd>160.290258064516</dd></dl>\n"
      ],
      "text/latex": [
       "\\begin{description*}\n",
       "\\item[Female] 167.974115942029\n",
       "\\item[Male] 160.290258064516\n",
       "\\end{description*}\n"
      ],
      "text/markdown": [
       "Female\n",
       ":   167.974115942029Male\n",
       ":   160.290258064516\n",
       "\n"
      ],
      "text/plain": [
       "  Female     Male \n",
       "167.9741 160.2903 "
      ]
     },
     "metadata": {},
     "output_type": "display_data"
    }
   ],
   "source": [
    "tapply(igfi, list(sex), mean)"
   ]
  },
  {
   "cell_type": "markdown",
   "id": "d6a29ebf-2fdb-42c3-ab60-fbfc1fae062e",
   "metadata": {},
   "source": [
    "Trong lệnh trên, igfi là biến số chúng ta cần tính, biến số phân nhóm là sex, và chỉ số\n",
    "thống kê chúng ta muốn là trung bình (mean). Qua kết quả trên, chúng ta thấy số trung\n",
    "bình của igfi cho nữ giới (167.97) cao hơn nam giới (160.29).\n",
    "\n",
    "Nhưng nếu chúng ta muốn tính cho từng giới tính và sắc tộc, chúng ta chỉ cần thêm một\n",
    "biến số trong hàm list:"
   ]
  },
  {
   "cell_type": "code",
   "execution_count": 31,
   "id": "b2b9bddd-8c33-4072-9940-c8ab837ddd08",
   "metadata": {},
   "outputs": [
    {
     "data": {
      "text/html": [
       "<table class=\"dataframe\">\n",
       "<caption>A matrix: 4 × 2 of type dbl</caption>\n",
       "<thead>\n",
       "\t<tr><th></th><th scope=col>Female</th><th scope=col>Male</th></tr>\n",
       "</thead>\n",
       "<tbody>\n",
       "\t<tr><th scope=row>African</th><td>145.1252</td><td>120.9168</td></tr>\n",
       "\t<tr><th scope=row>Asian</th><td>165.6589</td><td>160.4999</td></tr>\n",
       "\t<tr><th scope=row>Caucasian</th><td>176.6536</td><td>169.4790</td></tr>\n",
       "\t<tr><th scope=row>Others</th><td>      NA</td><td>200.5000</td></tr>\n",
       "</tbody>\n",
       "</table>\n"
      ],
      "text/latex": [
       "A matrix: 4 × 2 of type dbl\n",
       "\\begin{tabular}{r|ll}\n",
       "  & Female & Male\\\\\n",
       "\\hline\n",
       "\tAfrican & 145.1252 & 120.9168\\\\\n",
       "\tAsian & 165.6589 & 160.4999\\\\\n",
       "\tCaucasian & 176.6536 & 169.4790\\\\\n",
       "\tOthers &       NA & 200.5000\\\\\n",
       "\\end{tabular}\n"
      ],
      "text/markdown": [
       "\n",
       "A matrix: 4 × 2 of type dbl\n",
       "\n",
       "| <!--/--> | Female | Male |\n",
       "|---|---|---|\n",
       "| African | 145.1252 | 120.9168 |\n",
       "| Asian | 165.6589 | 160.4999 |\n",
       "| Caucasian | 176.6536 | 169.4790 |\n",
       "| Others |       NA | 200.5000 |\n",
       "\n"
      ],
      "text/plain": [
       "          Female   Male    \n",
       "African   145.1252 120.9168\n",
       "Asian     165.6589 160.4999\n",
       "Caucasian 176.6536 169.4790\n",
       "Others          NA 200.5000"
      ]
     },
     "metadata": {},
     "output_type": "display_data"
    }
   ],
   "source": [
    "tapply(igfi, list(ethnicity, sex), mean)"
   ]
  },
  {
   "cell_type": "markdown",
   "id": "ad33fa9c-f8ac-486b-bfe0-9e54034ee3bd",
   "metadata": {},
   "source": [
    "Trong kết quả trên, NA có nghĩa là “not available”, tức không có số liệu cho phụ nữ trong\n",
    "các sắc tộc “others”."
   ]
  },
  {
   "cell_type": "markdown",
   "id": "ede524e2-b094-4adc-9401-627b7637b5fb",
   "metadata": {},
   "source": [
    "## 9.4 Kiểm định t (```t.test```)\n",
    "Kiểm định t dựa vào giả thiết phân phối chuẩn. Có hai loại kiểm định t: kiểm\n",
    "định t cho một mẫu (one-sample t-test), và kiểm định t cho hai mẫu (two-sample t-test).\n",
    "Kiểm định t một mẫu nằm trả lời câu hỏi dữ liệu từ một mẫu có phải thật sự bằng một\n",
    "thông số nào đó hay không. Còn kiểm định t hai mẫu thì nhằm trả lời câu hỏi hai mẫu có\n",
    "cùng một luật phân phối, hay cụ thể hơn là hai mẫu có thật sự có cùng trị số trung bình\n",
    "hay không. Tôi sẽ lần lượt minh họa hai kiểm định này qua số liệu ```igfdata``` trên."
   ]
  },
  {
   "cell_type": "markdown",
   "id": "c705e79e-38e5-49d6-a443-a56611b9d6f2",
   "metadata": {},
   "source": [
    "### 9.1.1 Kiểm định ```t``` một mẫu\n",
    "#### Ví dụ 2: \n",
    "Qua phân tích trên, chúng ta thấy tuổi trung bình của 100 đối tượng\n",
    "trong nghiên cứu này là **19.17** tuổi. Chẳng hạn như trong quần thể này, trước đây chúng\n",
    "ta biết rằng tuổi trung bình là 30 tuổi. Vấn đề đặt ra là có phải mẫu mà chúng ta có được\n",
    "có đại diện cho quần thể hay không. Nói cách khác, chúng ta muốn biết giá trị trung bình\n",
    "19.17 có thật sự khác với giá trị trung bình 30 hay không.\n",
    "\n",
    "Để trả lời câu hỏi này, chúng ta sử dụng kiểm định t. Theo lí thuyết thống kê,\n",
    "kiểm định t được định nghĩa bằng công thức sau đây:\n",
    "$$t = \\frac{\\bar{x} - \\mu}{\\frac{s}{\\sqrt{n}}} \\$$\n",
    "\n",
    "Trong đó, $ \\bar{x} \\$ là giá trị trung bình của mẫu, μ là trung bình theo giả thiết (trong trường\n",
    "hợp này, 30), s là độ lệch chuẩn, và n là số lượng mẫu (100). Nếu giá trị t cao hơn giá trị\n",
    "lí thuyết theo phân phối t ở một tiêu chuẩn có ý nghĩa như 5% chẳng hạn thì chúng ta có\n",
    "lí do để phát biểu khác biệt có ý nghĩa thống kê. Giá trị này cho mẫu 100 có thể tính toán\n",
    "bằng hàm qt của R như sau:"
   ]
  },
  {
   "cell_type": "code",
   "execution_count": 33,
   "id": "f4750976-cb63-48fe-8470-983c8c6d2081",
   "metadata": {},
   "outputs": [
    {
     "data": {
      "text/html": [
       "1.66023432608534"
      ],
      "text/latex": [
       "1.66023432608534"
      ],
      "text/markdown": [
       "1.66023432608534"
      ],
      "text/plain": [
       "[1] 1.660234"
      ]
     },
     "metadata": {},
     "output_type": "display_data"
    }
   ],
   "source": [
    "qt(0.95, 100)"
   ]
  },
  {
   "cell_type": "markdown",
   "id": "031fa389-0624-40ca-bd81-024180e4b1f4",
   "metadata": {},
   "source": [
    "Nhưng có một cách tính toán nhanh gọn hơn để trả lời câu hỏi trên, bằng cách dùng hàm\n",
    "**t.test** như sau:"
   ]
  },
  {
   "cell_type": "code",
   "execution_count": 34,
   "id": "7809d7d1-a7d5-4b76-96c2-271044e17f78",
   "metadata": {},
   "outputs": [
    {
     "data": {
      "text/plain": [
       "\n",
       "\tOne Sample t-test\n",
       "\n",
       "data:  age\n",
       "t = -27.656, df = 99, p-value < 2.2e-16\n",
       "alternative hypothesis: true mean is not equal to 30\n",
       "95 percent confidence interval:\n",
       " 18.393 19.947\n",
       "sample estimates:\n",
       "mean of x \n",
       "    19.17 \n"
      ]
     },
     "metadata": {},
     "output_type": "display_data"
    }
   ],
   "source": [
    "t.test(age, mu=30)"
   ]
  },
  {
   "cell_type": "markdown",
   "id": "495a98e5-d14e-4aca-a2a3-63583d7da65c",
   "metadata": {},
   "source": [
    "Trong lệnh trên age là biến số chúng ta cần kiểm định, và mu=30 là giá trị giả thiết. R\n",
    "trình bày trị số t = -27.66, với 99 bậc tự do, và trị số p < 2.2e-16 (tức rất thấp). R\n",
    "cũng cho biết độ tin cậy 95% của age là từ 18.4 tuổi đến 19.9 tuổi (30 tuổi nằm quá ngoài\n",
    "khoảng tin cậy này). Nói cách khác, chúng ta có lí do để phát biểu rằng độ tuổi trung\n",
    "bình trong mẫu này thật sự thấp hơn độ tuổi trung bình của quần thể."
   ]
  },
  {
   "cell_type": "markdown",
   "id": "59d57dc8-be06-4cf1-83d1-e519e1572930",
   "metadata": {},
   "source": [
    "### 9.4.2 Kiểm định ```t``` hai mẫu\n",
    "**Ví dụ 3.** Qua phân tích mô tả trên (phầm summary) chúng ta thấy phụ nữ có độ\n",
    "hormone igfi cao hơn nam giới (167.97 và 160.29). Câu hỏi đặt ra là có phải thật sự đó\n",
    "là một khác biệt có hệ thống hay do các yếu tố ngẫu nhiên gây nên. Trả lời câu hỏi này,\n",
    "chúng ta cần xem xét mức độ khác biệt trung bình giữa hai nhóm và độ lệch chuẩn của độ\n",
    "khác biệt.\n",
    "\n",
    "$$t = \\frac{\\overline{x}_2 - \\overline{x}_1}{\\text{SED}} $$"
   ]
  },
  {
   "cell_type": "markdown",
   "id": "b5dbf428-ecbc-4856-bf2e-adf57f584f30",
   "metadata": {},
   "source": [
    "Trong đó x1 và x2 là số trung bình của hai nhóm nam và nữ, và SED là độ lệch chuẩn của ( x1 - x2 ) . Thực ra, SED có thể ước tính bằng công thức:\n",
    "$$ SED = \\sqrt{SE_1^2 + SE_2^2} \\$$"
   ]
  },
  {
   "cell_type": "markdown",
   "id": "076e73c6-d07e-4b76-a6c9-99b138122533",
   "metadata": {},
   "source": [
    "Trong đó SE1 và SE2 là sai số chuẩn (standard error) của hai nhóm nam và nữ. Theo lí thuyết xác suất, t tuân theo luật phân phối t với bậc tự do n1 + n2 - 2 , trong đó n1 và n2 là số mẫu của hai nhóm. Chúng ta có thể dùng R để trả lời câu hỏi trên bằng hàm t.test như sau:"
   ]
  },
  {
   "cell_type": "code",
   "execution_count": 35,
   "id": "4678d8b2-22f1-4d2c-9fc5-2a43e72bc72a",
   "metadata": {},
   "outputs": [
    {
     "data": {
      "text/plain": [
       "\n",
       "\tWelch Two Sample t-test\n",
       "\n",
       "data:  igfi by sex\n",
       "t = 0.84117, df = 88.329, p-value = 0.4025\n",
       "alternative hypothesis: true difference in means between group Female and group Male is not equal to 0\n",
       "95 percent confidence interval:\n",
       " -10.46855  25.83627\n",
       "sample estimates:\n",
       "mean in group Female   mean in group Male \n",
       "            167.9741             160.2903 \n"
      ]
     },
     "metadata": {},
     "output_type": "display_data"
    }
   ],
   "source": [
    "t.test(igfi~ sex)"
   ]
  },
  {
   "cell_type": "markdown",
   "id": "8c1e1adb-f3c5-4dbc-8aea-498d68677fd1",
   "metadata": {},
   "source": [
    "R trình bày các giá trị quan trọng trước hết:\n",
    "t = 0.8412, df = 88.329, p-value = 0.4025\n",
    "\n",
    "df là bậc tự do. Trị số p = 0.4025 cho thấy mức độ khác biệt giữa hai nhóm nam và nữ\n",
    "không có ý nghĩa thống kê (vì cao hơn 0.05 hay 5%).\n",
    "\n",
    "95 percent confidence interval: -10.46855 25.83627\n",
    "\n",
    "là khoảng tin cậy 95% về độ khác biệt giữa hai nhóm. Kết quả tính toán trên cho biết độ\n",
    "igf ở nữ giới có thể thấp hơn nam giới 10.5 ng/L hoặc cao hơn nam giới khoảng 25.8\n",
    "ng/L. Vì độ khác biệt quá lớn và đó là thêm bằng chứng cho thấy không có khác biệt có\n",
    "ý nghĩa thống kê giữa hai nhóm.\n",
    "\n",
    "Kiểm định trên dựa vào giả thiết hai nhóm nam và nữ có khác phương sai. Nếu\n",
    "chúng ta có lí do đề cho rằng hai nhóm có cùng phương sai, chúng ta chỉ thay đổi một\n",
    "thông số trong hàm t với var.equal=TRUE như sau:"
   ]
  },
  {
   "cell_type": "code",
   "execution_count": 36,
   "id": "c99b509a-772c-420d-9277-4e0c6164ce6c",
   "metadata": {},
   "outputs": [
    {
     "data": {
      "text/plain": [
       "\n",
       "\tTwo Sample t-test\n",
       "\n",
       "data:  igfi by sex\n",
       "t = 0.70708, df = 98, p-value = 0.4812\n",
       "alternative hypothesis: true difference in means between group Female and group Male is not equal to 0\n",
       "95 percent confidence interval:\n",
       " -13.88137  29.24909\n",
       "sample estimates:\n",
       "mean in group Female   mean in group Male \n",
       "            167.9741             160.2903 \n"
      ]
     },
     "metadata": {},
     "output_type": "display_data"
    }
   ],
   "source": [
    "t.test(igfi~ sex, var.equal=TRUE)"
   ]
  },
  {
   "cell_type": "markdown",
   "id": "10f0b961-2500-47c2-98f8-753bc7bfea7c",
   "metadata": {},
   "source": [
    "### 9.5 So sánh phương sai (var.test)\n",
    "Bây giờ chúng ta thử kiểm định xem phương sai giữa hai nhóm có khác nhau không. Để\n",
    "tiến hành phân tích, chúng ta chỉ cần lệnh:\n"
   ]
  },
  {
   "cell_type": "code",
   "execution_count": 37,
   "id": "c8ca0561-e586-4b84-a478-b10923bf7caa",
   "metadata": {},
   "outputs": [
    {
     "data": {
      "text/plain": [
       "\n",
       "\tF test to compare two variances\n",
       "\n",
       "data:  igfi by sex\n",
       "F = 2.6274, num df = 68, denom df = 30, p-value = 0.004529\n",
       "alternative hypothesis: true ratio of variances is not equal to 1\n",
       "95 percent confidence interval:\n",
       " 1.366187 4.691336\n",
       "sample estimates:\n",
       "ratio of variances \n",
       "          2.627396 \n"
      ]
     },
     "metadata": {},
     "output_type": "display_data"
    }
   ],
   "source": [
    "var.test(igfi ~ sex)"
   ]
  },
  {
   "cell_type": "markdown",
   "id": "c3490f15-6585-493b-a7e5-98e49f3c6b81",
   "metadata": {},
   "source": [
    "Kết quả trên cho thấy độ khác biệt về phương sai giữa hai nhóm cao 2.62 lần. Trị số p =\n",
    "0.0045 cho thấy phương sai giữa hai nhóm khác nhau có ý nghĩa thống kê. Như vậy,\n",
    "chúng ta chấp nhận kết quả phân tích của hàm t.test(igfi~ sex)."
   ]
  },
  {
   "cell_type": "markdown",
   "id": "aa744c2b-e062-4ffe-ab2d-5f40361a7c3b",
   "metadata": {},
   "source": [
    "### 9.6 Kiểm định Wilcoxon cho hai mẫu (wilcox.test)\n",
    "Kiểm định t dựa vào giả thiết là phân phối của một biến phải tuân theo luật phân\n",
    "phối chuẩn. Nếu giả định này không đúng, kết quả của kiểm định t có thể không hợp lí\n",
    "(valid). Để kiểm định phân phối của igfi, chúng ta có thể dùng hàm shapiro.test\n",
    "như sau:"
   ]
  },
  {
   "cell_type": "code",
   "execution_count": 38,
   "id": "47fd712b-a6c0-4244-80dc-250de4c5d7d9",
   "metadata": {},
   "outputs": [
    {
     "data": {
      "text/plain": [
       "\n",
       "\tShapiro-Wilk normality test\n",
       "\n",
       "data:  igfi\n",
       "W = 0.85278, p-value = 1.504e-08\n"
      ]
     },
     "metadata": {},
     "output_type": "display_data"
    }
   ],
   "source": [
    "shapiro.test(igfi)"
   ]
  },
  {
   "cell_type": "markdown",
   "id": "eac6cbb9-9117-4d4b-a5a9-34c8f469bf5d",
   "metadata": {},
   "source": [
    "Trị số p nhỏ hơn 0.05 rất nhiều, cho nên chúng ta có thể nói rằng phân phối của igfi\n",
    "không tuân theo luật phân phối chuẩn. Trong trường hợp này, việc so sánh giữa hai\n",
    "nhóm có thể dựa vào phương pháp phi tham số (non-parametric) có tên là kiểm định Wilcoxon, vì kiểm định này (không như kiểm định t) không tùy thuộc vào giả định phân\n",
    "phối chuẩn."
   ]
  },
  {
   "cell_type": "code",
   "execution_count": 39,
   "id": "b905e28f-b196-4286-a1c7-a2e4064a3f4e",
   "metadata": {},
   "outputs": [
    {
     "data": {
      "text/plain": [
       "\n",
       "\tWilcoxon rank sum test with continuity correction\n",
       "\n",
       "data:  igfi by sex\n",
       "W = 1125, p-value = 0.6819\n",
       "alternative hypothesis: true location shift is not equal to 0\n"
      ]
     },
     "metadata": {},
     "output_type": "display_data"
    }
   ],
   "source": [
    "wilcox.test(igfi ~ sex)"
   ]
  },
  {
   "cell_type": "markdown",
   "id": "b7701a7a-bc82-42ae-ad63-5504836d5343",
   "metadata": {},
   "source": [
    "Trị số p = 0.682 cho thấy quả thật độ khác biệt về igfi giữa hai nhóm nam và nữ không\n",
    "có ý nghĩa thống kê. Kết luận này cũng không khác với kết quả phân tích bằng kiểm định\n",
    "t."
   ]
  },
  {
   "cell_type": "markdown",
   "id": "ccbe3e3e-6a20-4215-8f4c-61d59343e6d5",
   "metadata": {},
   "source": [
    "### 9.7 Kiểm định t cho các biến số theo cặp (paired t-test,t.test)\n",
    "Kiểm định t vừa trình bày trên là cho các nghiên cứu gồm hai nhóm độc lập nhau\n",
    "(như giữa hai nhóm nam và nữ), nhưng không thể ứng dụng cho các nghiên cứu mà một\n",
    "nhóm đối tượng được theo dõi theo thời gian. Tôi tạm gọi các nghiên cứu này là nghiên\n",
    "cứu theo cặp. Trong các nghiên cứu này, chúng ta cần sử dụng một kiểm định t có tên là\n",
    "paired t-test.\n",
    "\n",
    "Ví dụ 4. Một nhóm bệnh nhân gồm 10 người được điều trị bằng một thuốc nhằm\n",
    "giảm huyết áp. Huyết áp của bệnh nhân được đo lúc khởi đầu nghiên cứu (lúc chưa điều\n",
    "trị), và sau khi điều khị. Số liệu huyết áp của 10 bệnh nhân như sau:"
   ]
  },
  {
   "cell_type": "code",
   "execution_count": 40,
   "id": "25e442f3-7157-45b4-ba2c-54cc11c104d1",
   "metadata": {},
   "outputs": [],
   "source": [
    "# nhập dữ kiện\n",
    "before <- c(180, 140, 160, 160, 220, 185, 145, 160, 160, 170)\n",
    "after <- c(170, 145, 145, 125, 205, 185, 150, 150, 145, 155)\n",
    "bp <- data.frame(before, after)"
   ]
  },
  {
   "cell_type": "markdown",
   "id": "e8c374cd-0b66-4a59-b718-3d2d154fc2e1",
   "metadata": {},
   "source": [
    "Câu hỏi đặt ra là độ biến chuyển huyết áp trên có đủ để kết luận rằng thuốc điều trị có\n",
    "hiệu quả giảm áp huyết. Để trả lời câu hỏi này, chúng ta dùng kiểm định t cho từng cặp\n",
    "như sau:"
   ]
  },
  {
   "cell_type": "code",
   "execution_count": 42,
   "id": "4c788d71-4d8d-401f-9c01-79c13e2ed606",
   "metadata": {},
   "outputs": [
    {
     "data": {
      "text/plain": [
       "\n",
       "\tPaired t-test\n",
       "\n",
       "data:  before and after\n",
       "t = 2.7924, df = 9, p-value = 0.02097\n",
       "alternative hypothesis: true mean difference is not equal to 0\n",
       "95 percent confidence interval:\n",
       "  1.993901 19.006099\n",
       "sample estimates:\n",
       "mean difference \n",
       "           10.5 \n"
      ]
     },
     "metadata": {},
     "output_type": "display_data"
    }
   ],
   "source": [
    "# kiểm định t\n",
    "t.test(before, after, paired=TRUE)"
   ]
  },
  {
   "cell_type": "markdown",
   "id": "5e9a4b05-fe9c-4eaf-8d29-aaaee8d9f610",
   "metadata": {},
   "source": [
    "Kết quả trên cho thấy sau khi điều trị áp suất máu giảm 10.5 mmHg, và khoảng tin cậy\n",
    "95% là từ 2.0 mmHg đến 19 mmHg, với trị số p = 0.0209. Như vậy, chúng ta có bằng\n",
    "chứng để phát biểu rằng mức độ giảm huyết áp có ý nghĩa thống kê."
   ]
  },
  {
   "cell_type": "code",
   "execution_count": 43,
   "id": "8cccd34c-aa6d-4f02-92b9-fb8a06d7518f",
   "metadata": {},
   "outputs": [
    {
     "data": {
      "text/plain": [
       "\n",
       "\tWelch Two Sample t-test\n",
       "\n",
       "data:  before and after\n",
       "t = 1.0208, df = 17.998, p-value = 0.3209\n",
       "alternative hypothesis: true difference in means is not equal to 0\n",
       "95 percent confidence interval:\n",
       " -11.11065  32.11065\n",
       "sample estimates:\n",
       "mean of x mean of y \n",
       "    168.0     157.5 \n"
      ]
     },
     "metadata": {},
     "output_type": "display_data"
    }
   ],
   "source": [
    "t.test(before, after)"
   ]
  },
  {
   "cell_type": "markdown",
   "id": "274ed80d-5518-4fda-aece-6f7f6b10e2f4",
   "metadata": {},
   "source": [
    "Chú ý nếu chúng ta phân tích phương sai bằng kiểm định thống kê cho hai nhóm độc lập dưới đây\n",
    "thì trị số p = 0.32 cho biết mức độ giảm áp suất không có ý nghĩa thống kê!"
   ]
  },
  {
   "cell_type": "markdown",
   "id": "0784090a-1d2f-4dde-ab3d-36b535371206",
   "metadata": {},
   "source": [
    "### 9.8 Kiểm định Wilcoxon cho các biến số theo cặp (wilcox.test)\n",
    "Thay vì dùng kiểm định t cho từng cặp, chúng ta cũng có thể sử dụng hàm\n",
    "wilcox.test cho cùng mục đích:"
   ]
  },
  {
   "cell_type": "code",
   "execution_count": 44,
   "id": "cbd88fea-e72b-44d2-bd6d-8fb9aa75d373",
   "metadata": {},
   "outputs": [
    {
     "name": "stderr",
     "output_type": "stream",
     "text": [
      "Warning message in wilcox.test.default(before, after, paired = TRUE):\n",
      "\"cannot compute exact p-value with ties\"\n",
      "Warning message in wilcox.test.default(before, after, paired = TRUE):\n",
      "\"cannot compute exact p-value with zeroes\"\n"
     ]
    },
    {
     "data": {
      "text/plain": [
       "\n",
       "\tWilcoxon signed rank test with continuity correction\n",
       "\n",
       "data:  before and after\n",
       "V = 42, p-value = 0.02291\n",
       "alternative hypothesis: true location shift is not equal to 0\n"
      ]
     },
     "metadata": {},
     "output_type": "display_data"
    }
   ],
   "source": [
    "wilcox.test(before, after, paired=TRUE)"
   ]
  },
  {
   "cell_type": "markdown",
   "id": "99702a6e-b611-46bb-8f2b-ea00365847fb",
   "metadata": {},
   "source": [
    "Kết quả trên một lần nữa khẳng định rằng độ giảm áp suất máu có ý nghĩa thống kê với\n",
    "trị số (p=0.023) chẳng khác mấy so với kiểm định t cho từng cặp."
   ]
  },
  {
   "cell_type": "markdown",
   "id": "8d2a6dad-7df3-45ac-9a34-479459df8c0a",
   "metadata": {},
   "source": [
    "### 9.9 Tần số (frequency)\n",
    "Hàm table trong R có chức năng cho chúng ta biết về tần số của một biến số\n",
    "mang tính phân loại như sex và ethnicity."
   ]
  },
  {
   "cell_type": "code",
   "execution_count": 45,
   "id": "e9647f86-4248-4295-a019-4c025abe7485",
   "metadata": {},
   "outputs": [
    {
     "data": {
      "text/plain": [
       "sex\n",
       "Female   Male \n",
       "    69     31 "
      ]
     },
     "metadata": {},
     "output_type": "display_data"
    }
   ],
   "source": [
    "table(sex)"
   ]
  },
  {
   "cell_type": "code",
   "execution_count": 46,
   "id": "985e7326-54ac-4d8f-a5d7-f7a9e3e6499d",
   "metadata": {},
   "outputs": [
    {
     "data": {
      "text/plain": [
       "ethnicity\n",
       "  African     Asian Caucasian    Others \n",
       "        8        60        30         2 "
      ]
     },
     "metadata": {},
     "output_type": "display_data"
    }
   ],
   "source": [
    "table(ethnicity)"
   ]
  },
  {
   "cell_type": "markdown",
   "id": "36301d05-53fa-4f37-8959-9525bab5e06a",
   "metadata": {},
   "source": [
    "Chú ý trong các bảng thống kê trên, hàm table không cung cấp cho chúng ta số phần\n",
    "trăm. Để tính số phần t"
   ]
  },
  {
   "cell_type": "code",
   "execution_count": 47,
   "id": "4cd0e6d2-a8f5-45e0-9eed-676ab9d665b0",
   "metadata": {},
   "outputs": [
    {
     "data": {
      "text/plain": [
       "        ethnicity\n",
       "sex      African Asian Caucasian Others\n",
       "  Female       4    43        22      0\n",
       "  Male         4    17         8      2"
      ]
     },
     "metadata": {},
     "output_type": "display_data"
    }
   ],
   "source": [
    "# tạo ra một object tên là freq để chứa kết quả tần số\n",
    "freq <- table(sex, ethnicity)\n",
    "# kiểm tra kết quả\n",
    "freq"
   ]
  },
  {
   "cell_type": "code",
   "execution_count": 48,
   "id": "21ed3642-2ab4-4ad2-86a1-b7b535365dc3",
   "metadata": {},
   "outputs": [
    {
     "data": {
      "text/plain": [
       "sex\n",
       "Female   Male \n",
       "    69     31 "
      ]
     },
     "metadata": {},
     "output_type": "display_data"
    }
   ],
   "source": [
    "# dùng hàm margin.table để xem kết quả\n",
    "margin.table(freq, 1)"
   ]
  },
  {
   "cell_type": "code",
   "execution_count": 49,
   "id": "90e26df3-0c04-41a2-8d70-9f0b8d040f3a",
   "metadata": {},
   "outputs": [
    {
     "data": {
      "text/plain": [
       "ethnicity\n",
       "  African     Asian Caucasian    Others \n",
       "        8        60        30         2 "
      ]
     },
     "metadata": {},
     "output_type": "display_data"
    }
   ],
   "source": [
    "margin.table(freq, 2)"
   ]
  },
  {
   "cell_type": "code",
   "execution_count": 51,
   "id": "714e044c-152d-4154-b73d-ce93950e796c",
   "metadata": {},
   "outputs": [
    {
     "data": {
      "text/plain": [
       "        ethnicity\n",
       "sex         African      Asian  Caucasian     Others\n",
       "  Female 0.05797101 0.62318841 0.31884058 0.00000000\n",
       "  Male   0.12903226 0.54838710 0.25806452 0.06451613"
      ]
     },
     "metadata": {},
     "output_type": "display_data"
    }
   ],
   "source": [
    "# tính phần trăm bằng hàm prop.table\n",
    "prop.table(freq, 1)"
   ]
  },
  {
   "cell_type": "markdown",
   "id": "f9de06e4-fd74-45d9-945f-2ba4700929c7",
   "metadata": {},
   "source": [
    "Trong bảng thống kê trên, prop.table tính tỉ lệ sắc tộc cho từng giới tính. Chẳng hạn\n",
    "như ở nữ giới (female), 5.8% là người Phi châu, 62.3% là người Á châu, 31.8% là người\n",
    "Tây phương da trắng . Tổng cộng là 100%. Tương tự, ớ nam giới tỉ lệ người Phi châu là\n",
    "12.9%, Á châu là 54.8%, v.v…"
   ]
  },
  {
   "cell_type": "code",
   "execution_count": 52,
   "id": "7dcb847b-7709-4bee-b382-97e32f4de059",
   "metadata": {},
   "outputs": [
    {
     "data": {
      "text/plain": [
       "        ethnicity\n",
       "sex        African     Asian Caucasian    Others\n",
       "  Female 0.5000000 0.7166667 0.7333333 0.0000000\n",
       "  Male   0.5000000 0.2833333 0.2666667 1.0000000"
      ]
     },
     "metadata": {},
     "output_type": "display_data"
    }
   ],
   "source": [
    "# tính phần trăm bằng hàm prop.table\n",
    "prop.table(freq, 2)"
   ]
  },
  {
   "cell_type": "markdown",
   "id": "3e736281-99e6-42bc-8b58-2c04500c5477",
   "metadata": {},
   "source": [
    "Trong bảng thống kê trên, prop.table tính tỉ lệ giới tính cho từng sắc tộc. Chẳng hạn\n",
    "như trong nhóm người Á châu, 71.7% là nữ và 28.3% là nam."
   ]
  },
  {
   "cell_type": "code",
   "execution_count": 54,
   "id": "4abb4dfd-c7ca-4a9c-9ff1-03909466b29f",
   "metadata": {},
   "outputs": [
    {
     "data": {
      "text/plain": [
       "        ethnicity\n",
       "sex      African Asian Caucasian Others\n",
       "  Female    0.04  0.43      0.22   0.00\n",
       "  Male      0.04  0.17      0.08   0.02"
      ]
     },
     "metadata": {},
     "output_type": "display_data"
    }
   ],
   "source": [
    "# tính phần trăm cho toàn bộ bảng\n",
    "freq/sum(freq)"
   ]
  },
  {
   "cell_type": "markdown",
   "id": "42b24740-589b-4db7-aae2-3903c454f911",
   "metadata": {},
   "source": [
    "### 9.10 Kiểm định tỉ lệ (proportion test, prop.test,)\n",
    "binom.test)\n",
    "Kiểm định một tỉ lệ thường dựa vào giả định phân phối nhị phân (binomial distribution).\n",
    "Với một số mẫu n và tỉ lệ p, và nếu n lớn (tức hơn 50 chẳng hạn), thì phân phối nhị phân\n",
    "có thể tương đương với phân phối chuẩn với số trung bình np và phương sai np(1 – p).\n",
    "Gọi x là số biến cố mà chúng ta quan tâm, kiểm định giả thiết p = π có thể sử dụng thống\n",
    "kê sau đây:\n",
    "$$z = \\frac{x - n\\pi}{\\sqrt{n\\pi(1-\\pi)}}$$\n",
    "\n",
    "Ở đây, z tuân theo luật phân phối chuẩn với trung bình 0 và phương sai 1. Cũng có thể\n",
    "nói $ z^2$ tuân theo luật phân phối Chi bình phương với bậc tự do bằng 1.\n",
    "\n",
    "**Ví dụ 5.** Trong nghiên cứu trên, chúng ta thấy có 69 nữ và 31 nam. Như vậy tỉ lệ\n",
    "nữ là 0.69 (hay 69%). Để kiểm định xem tỉ lệ này có thật sự khác với tỉ lệ 0.5 hay\n",
    "không, chúng ta có thể sử dụng hàm prop.test(x, n, π) như sau:"
   ]
  },
  {
   "cell_type": "code",
   "execution_count": 55,
   "id": "62771bd0-0386-4543-a763-9647dddc9663",
   "metadata": {},
   "outputs": [
    {
     "data": {
      "text/plain": [
       "\n",
       "\t1-sample proportions test with continuity correction\n",
       "\n",
       "data:  69 out of 100, null probability 0.5\n",
       "X-squared = 13.69, df = 1, p-value = 0.0002156\n",
       "alternative hypothesis: true p is not equal to 0.5\n",
       "95 percent confidence interval:\n",
       " 0.5885509 0.7766330\n",
       "sample estimates:\n",
       "   p \n",
       "0.69 \n"
      ]
     },
     "metadata": {},
     "output_type": "display_data"
    }
   ],
   "source": [
    "prop.test(69, 100, 0.50)"
   ]
  },
  {
   "cell_type": "raw",
   "id": "60d3a376-cf89-4b0a-b631-69b1d963ad1a",
   "metadata": {},
   "source": [
    "Trong kết quả trên, prop.test ước tính tỉ lệ nữ giới là 0.69, và khoảng tin cậy 95% là\n",
    "0.588 đến 0.776. Giá trị Chi bình phương là 13.69, với trị số p = 0.00216. Như vậy, nghiên cứu này có tỉ lệ nữ cao hơn 50%.\n",
    "Một cách tính chính xác hơn kiểm định tỉ lệ là kiểm định nhị phân bionom.test(x, n, π) như sau:"
   ]
  },
  {
   "cell_type": "code",
   "execution_count": 57,
   "id": "b5ae5916-34a6-4451-8b41-53b3db9f90cd",
   "metadata": {},
   "outputs": [
    {
     "data": {
      "text/plain": [
       "\n",
       "\tExact binomial test\n",
       "\n",
       "data:  69 and 100\n",
       "number of successes = 69, number of trials = 100, p-value = 0.0001831\n",
       "alternative hypothesis: true probability of success is not equal to 0.5\n",
       "95 percent confidence interval:\n",
       " 0.5896854 0.7787112\n",
       "sample estimates:\n",
       "probability of success \n",
       "                  0.69 \n"
      ]
     },
     "metadata": {},
     "output_type": "display_data"
    }
   ],
   "source": [
    "binom.test(69, 100, 0.50)"
   ]
  },
  {
   "cell_type": "markdown",
   "id": "61b59821-c110-4483-a6d6-9ebac8d220ac",
   "metadata": {},
   "source": [
    "Nói chung, kết quả của kiểm định nhị phân không khác gì so với kiểm định Chi bình\n",
    "phương, với trị số p = 0.00018, chúng ta càng có bằng chứng để kết luận rằng tỉ lệ nữ giới\n",
    "trong nghiên cứu này thật sự cao hơn 50%.\n",
    "\n",
    "### 9.11 So sánh hai tỉ lệ (prop.test, binom.test)\n",
    "\n",
    "Phương pháp so sánh hai tỉ lệ có thể khai triển trực tiếp từ lí thuyết kiểm định một tỉ lệ\n",
    "vừa trình bày trên. Cho hai mẫu với số đối tượng $n_1$ và $n_2$, và số biến cố là $x_1$ và $x_2$. Do\n",
    "đó, chúng ta có thể ước tính hai tỉ lệ $p_1$ và $p_2$. Lí thuyết xác suất cho phép chúng ta phát\n",
    "biểu rằng độ khác biệt giữa hai mẫu $d = p1 – p2 $ tuân theo luật phân phối chuẩn với số\n",
    "trung bình 0 và phương sai bằng:\n",
    "$$V_d = \\left(\\frac{1}{n_1} + \\frac{1}{n_2}\\right) p(1-p)$$\n",
    "Trong đó:\n",
    "$$p = \\frac{x_1 + x_2}{n_1 + n_2}$$\n",
    "\n",
    "Thành ra, $z = d/Vd$ tuân theo luật phân phối chuẩn với trung bình 0 và phương sai 1. Nói\n",
    "cách khác, $z^2$ tuân theo luật phân phối Chi bình phương với bậc tự do bằng 1. Do đó,\n",
    "chúng ta cũng có thể sử dụng prop.test để kiểm định hai tỉ lệ.\n",
    "\n",
    "**Ví dụ 6.** Một nghiên cứu được tiến hành so sánh hiệu quả của thuốc chống gãy\n",
    "xương. Bệnh nhân được chia thành hai nhóm: nhóm A được điều trị gồm có 100 bệnh\n",
    "nhân, và nhóm B không được điều trị gồm 110 bệnh nhân. Sau thời gian 12 tháng theo\n",
    "dõi, nhóm A có 7 người bị gãy xương, và nhóm B có 20 người gãy xương. Vấn đề đặt ra\n",
    "là tỉ lệ gãy xương trong hai nhóm này bằng nhau (tức thuốc không có hiệu quả)? Để\n",
    "kiểm định xem hai tỉ lệ này có thật sự khác nhau, chúng ta có thể sử dụng hàm\n",
    "prop.test(x, n, π) như sau:"
   ]
  },
  {
   "cell_type": "code",
   "execution_count": 58,
   "id": "66bc43c8-a40f-445c-8de9-11b7444259a5",
   "metadata": {},
   "outputs": [
    {
     "data": {
      "text/plain": [
       "\n",
       "\t2-sample test for equality of proportions with continuity correction\n",
       "\n",
       "data:  fracture out of total\n",
       "X-squared = 4.8901, df = 1, p-value = 0.02701\n",
       "alternative hypothesis: two.sided\n",
       "95 percent confidence interval:\n",
       " -0.20908963 -0.01454673\n",
       "sample estimates:\n",
       "   prop 1    prop 2 \n",
       "0.0700000 0.1818182 \n"
      ]
     },
     "metadata": {},
     "output_type": "display_data"
    }
   ],
   "source": [
    "fracture <- c(7, 20)\n",
    "total <- c(100, 110)\n",
    "prop.test(fracture, total)"
   ]
  },
  {
   "cell_type": "markdown",
   "id": "d02df248-3867-4402-974b-c467885807e1",
   "metadata": {},
   "source": [
    "Kết quả phân tích trên cho thấy tỉ lệ gãy xương trong nhóm 1 là 0.07 và nhóm 2 là 0.18.\n",
    "Phân tích trên còn cho thấy xác suất 95% rằng độ khác biệt giữa hai nhóm có thể 0.01\n",
    "đến 0.20 (tức 1 đến 20%). Với trị số p = 0.027, chúng ta có thể nói rằng tỉ lệ gãy xương\n",
    "trong nhóm A quả thật thấp hơn nhóm B."
   ]
  },
  {
   "cell_type": "markdown",
   "id": "1c1ad3ac-c580-458d-8dec-50e4afa30173",
   "metadata": {},
   "source": [
    "### 9.12 So sánh nhiều tỉ lệ (prop.test, chisq.test)\n",
    "Kiểm định prop.test còn có thể sử dụng để kiểm định nhiều tỉ lệ cùng một lúc.\n",
    "Trong nghiên cứu trên, chúng ta có 4 nhóm sắc tộc và tần số cho từng giới tính như sau:"
   ]
  },
  {
   "cell_type": "code",
   "execution_count": 59,
   "id": "34a1bd23-814b-4249-b869-a47b510893f6",
   "metadata": {},
   "outputs": [
    {
     "data": {
      "text/plain": [
       "        ethnicity\n",
       "sex      African Asian Caucasian Others\n",
       "  Female       4    43        22      0\n",
       "  Male         4    17         8      2"
      ]
     },
     "metadata": {},
     "output_type": "display_data"
    }
   ],
   "source": [
    "table(sex, ethnicity)"
   ]
  },
  {
   "cell_type": "markdown",
   "id": "ea6815bf-c900-4429-864c-6039eabd9d97",
   "metadata": {},
   "source": [
    "Chúng ta muốn biết tỉ lệ nữ giới giữa 4 nhóm sắc tộc có khác nhau hay không, và để trả\n",
    "lời câu hỏi này, chúng ta lại dùng prop.test như sau:"
   ]
  },
  {
   "cell_type": "code",
   "execution_count": 60,
   "id": "83cab2b4-7276-4240-8309-6ead199d415a",
   "metadata": {},
   "outputs": [
    {
     "name": "stderr",
     "output_type": "stream",
     "text": [
      "Warning message in prop.test(female, total):\n",
      "\"Chi-squared approximation may be incorrect\"\n"
     ]
    },
    {
     "data": {
      "text/plain": [
       "\n",
       "\t4-sample test for equality of proportions without continuity correction\n",
       "\n",
       "data:  female out of total\n",
       "X-squared = 6.2646, df = 3, p-value = 0.09942\n",
       "alternative hypothesis: two.sided\n",
       "sample estimates:\n",
       "   prop 1    prop 2    prop 3    prop 4 \n",
       "0.5000000 0.7166667 0.7333333 0.0000000 \n"
      ]
     },
     "metadata": {},
     "output_type": "display_data"
    }
   ],
   "source": [
    "female <- c( 4, 43, 22, 0)\n",
    "total <- c(8, 60, 30, 2)\n",
    "prop.test(female, total)"
   ]
  },
  {
   "cell_type": "markdown",
   "id": "16f4813c-725e-4131-bf8f-eeac89039e6d",
   "metadata": {},
   "source": [
    "Tuy tỉ lệ nữ giới giữa các nhóm có vẻ khác nhau lớn (73% trong nhóm 3 (người da trắng)\n",
    "so với 50% trong nhóm 1 (Phi châu) và 71.7% trong nhóm Á châu, nhưng kiểm định Chi\n",
    "bình phương cho biết trên phương diện thống kê, các tỉ lệ này không khác nhau, vì trị số\n",
    "p = 0.099."
   ]
  },
  {
   "cell_type": "markdown",
   "id": "6723fbb4-9206-40b3-b358-049c4e072a53",
   "metadata": {},
   "source": [
    "### 9.12.1 Kiểm định Chi bình phương (Chi squared test, chisq.test)\n",
    "Thật ra, kiểm định Chi bình phương còn có thể tính toán bằng hàm chisq.test như\n",
    "sau:"
   ]
  },
  {
   "cell_type": "code",
   "execution_count": 61,
   "id": "6938ddef-548f-46cc-aaf0-abf653517b6d",
   "metadata": {},
   "outputs": [
    {
     "name": "stderr",
     "output_type": "stream",
     "text": [
      "Warning message in chisq.test(sex, ethnicity):\n",
      "\"Chi-squared approximation may be incorrect\"\n"
     ]
    },
    {
     "data": {
      "text/plain": [
       "\n",
       "\tPearson's Chi-squared test\n",
       "\n",
       "data:  sex and ethnicity\n",
       "X-squared = 6.2646, df = 3, p-value = 0.09942\n"
      ]
     },
     "metadata": {},
     "output_type": "display_data"
    }
   ],
   "source": [
    "chisq.test(sex, ethnicity)"
   ]
  },
  {
   "cell_type": "markdown",
   "id": "01e53379-3c4f-4992-801d-a559f5da7e41",
   "metadata": {},
   "source": [
    "Kết quả này hoàn toàn giống với kết quả từ hàm prop.test."
   ]
  },
  {
   "cell_type": "markdown",
   "id": "2842807b-b560-4cb3-89aa-a74812c3497b",
   "metadata": {},
   "source": [
    "### 9.12.2 Kiểm định Fisher (Fisher’s exact test, fisher.test)"
   ]
  },
  {
   "cell_type": "markdown",
   "id": "a5c520f0-514f-4a31-bcf2-905962136192",
   "metadata": {},
   "source": [
    "Trong kiểm định Chi bình phương trên, chúng ta chú ý cảnh báo:\n",
    "\n",
    "***Warning message: mation may be incorrect in: prop.test(female, total)***\n",
    "\n",
    "Vì trong nhóm 4, không có nữ giới cho nên tỉ lệ là 0%. Hơn nữa, trong nhóm này chỉ có\n",
    "2 đối tượng. Vì số lượng đối tượng quá nhỏ, cho nên các ước tính thống kê có thể không\n",
    "đáng tin cậy. Một phương pháp khác có thể áp dụng cho các nghiên cứu với tần số thấp\n",
    "như trên là kiểm định fisher (còn gọi là Fisher’s exact test). Bạn đọc có thể tham khảo\n",
    "lí thuyết đằng sau kiểm định fisher để hiểu rõ hơn về logic của phương pháp này, nhưng\n",
    "ở đây, chúng ta chỉ quan tâm đến cách dùng R để tính toán kiểm định này. Chúng ta chỉ\n",
    "đơn giản lệnh:"
   ]
  },
  {
   "cell_type": "code",
   "execution_count": 62,
   "id": "7a838a87-2949-4616-8029-ee4110633333",
   "metadata": {},
   "outputs": [
    {
     "data": {
      "text/plain": [
       "\n",
       "\tFisher's Exact Test for Count Data\n",
       "\n",
       "data:  sex and ethnicity\n",
       "p-value = 0.1048\n",
       "alternative hypothesis: two.sided\n"
      ]
     },
     "metadata": {},
     "output_type": "display_data"
    }
   ],
   "source": [
    "fisher.test(sex, ethnicity)"
   ]
  },
  {
   "cell_type": "markdown",
   "id": "b001caf6-b252-4ff1-8c69-2384849ce39b",
   "metadata": {},
   "source": [
    "Chú ý trị số p từ kiểm định Fisher là 0.1048, tức rất gần với trị số p của kiểm định Chi\n",
    "bình phương. Cho nên, chúng ta có thêm bằng chứng để khẳng định rằng tỉ lệ nữ giới\n",
    "giữa các sắc tộc không khác nhau một cách đáng kể."
   ]
  },
  {
   "cell_type": "code",
   "execution_count": null,
   "id": "c66332c2-9cc5-4df6-83ab-baefeed19f7d",
   "metadata": {},
   "outputs": [],
   "source": []
  }
 ],
 "metadata": {
  "kernelspec": {
   "display_name": "R",
   "language": "R",
   "name": "ir"
  },
  "language_info": {
   "codemirror_mode": "r",
   "file_extension": ".r",
   "mimetype": "text/x-r-source",
   "name": "R",
   "pygments_lexer": "r",
   "version": "4.4.2"
  }
 },
 "nbformat": 4,
 "nbformat_minor": 5
}
