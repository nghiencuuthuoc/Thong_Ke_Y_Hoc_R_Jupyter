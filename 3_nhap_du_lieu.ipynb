{
 "cells": [
  {
   "cell_type": "markdown",
   "id": "0c19e8fc-d3e8-4001-a11d-e0b87e1d1ffa",
   "metadata": {},
   "source": [
    "# Nhập dữ liệu"
   ]
  },
  {
   "cell_type": "code",
   "execution_count": 1,
   "id": "bcd3c1aa-bfb1-432d-98c7-497ca7f7cce9",
   "metadata": {},
   "outputs": [],
   "source": [
    "age <- c(50,62, 60,40,48,47,57,70,48,67)\n",
    "insulin <- c(16.5,10.8,32.3,19.3,14.2,11.3,15.5,15.8,16.2,11.2)"
   ]
  },
  {
   "cell_type": "code",
   "execution_count": 2,
   "id": "e1506eef-0cb7-412b-a1da-41557c5a764f",
   "metadata": {},
   "outputs": [],
   "source": [
    "df <- data.frame(age, insulin)"
   ]
  },
  {
   "cell_type": "code",
   "execution_count": 3,
   "id": "a3652a2a-7640-450c-881a-2fcc69d69217",
   "metadata": {},
   "outputs": [],
   "source": [
    "setwd('E:/Statistics-R/THONG KE R')"
   ]
  },
  {
   "cell_type": "code",
   "execution_count": 6,
   "id": "ed4364bf-80d6-4ef2-97b5-1ee7657b15b1",
   "metadata": {},
   "outputs": [],
   "source": [
    "save(df, file='df_test.rda')"
   ]
  },
  {
   "cell_type": "raw",
   "id": "3438c24e-27ed-47ad-bfa3-217edbc16afb",
   "metadata": {},
   "source": [
    "?save"
   ]
  },
  {
   "cell_type": "markdown",
   "id": "5d72486e-9955-4b38-85df-13f95865efb3",
   "metadata": {},
   "source": [
    "### 3.2 Nhập số liệu trực tiếp: edit(data.frame())"
   ]
  },
  {
   "cell_type": "raw",
   "id": "a4af08fc-9297-43b6-b74c-444264c36602",
   "metadata": {},
   "source": [
    "ins <- edit(data.frame())"
   ]
  },
  {
   "cell_type": "markdown",
   "id": "77fcab5b-d59c-41ce-bf43-a5e160591bee",
   "metadata": {},
   "source": [
    "### 3.3 Nhập số liệu từ một text file: read.table"
   ]
  },
  {
   "cell_type": "code",
   "execution_count": 9,
   "id": "6264c8f9-bb94-4e9b-96a4-598bc2862cc6",
   "metadata": {},
   "outputs": [],
   "source": [
    "chol <- read.table(\"chol.txt\", header=TRUE)"
   ]
  },
  {
   "cell_type": "code",
   "execution_count": 10,
   "id": "fd8fde92-8e2a-4a12-af99-d81d710f6574",
   "metadata": {},
   "outputs": [
    {
     "data": {
      "text/html": [
       "<table class=\"dataframe\">\n",
       "<caption>A data.frame: 50 × 8</caption>\n",
       "<thead>\n",
       "\t<tr><th scope=col>id</th><th scope=col>sex</th><th scope=col>age</th><th scope=col>bmi</th><th scope=col>hdl</th><th scope=col>ldl</th><th scope=col>tc</th><th scope=col>tg</th></tr>\n",
       "\t<tr><th scope=col>&lt;int&gt;</th><th scope=col>&lt;chr&gt;</th><th scope=col>&lt;int&gt;</th><th scope=col>&lt;int&gt;</th><th scope=col>&lt;dbl&gt;</th><th scope=col>&lt;dbl&gt;</th><th scope=col>&lt;dbl&gt;</th><th scope=col>&lt;dbl&gt;</th></tr>\n",
       "</thead>\n",
       "<tbody>\n",
       "\t<tr><td> 1</td><td>Nam</td><td>57</td><td>17</td><td>5.000</td><td>2.0</td><td>4.0</td><td>1.1</td></tr>\n",
       "\t<tr><td> 2</td><td>Nu </td><td>64</td><td>18</td><td>4.380</td><td>3.0</td><td>3.5</td><td>2.1</td></tr>\n",
       "\t<tr><td> 3</td><td>Nu </td><td>60</td><td>18</td><td>3.360</td><td>3.0</td><td>4.7</td><td>0.8</td></tr>\n",
       "\t<tr><td> 4</td><td>Nam</td><td>65</td><td>18</td><td>5.920</td><td>4.0</td><td>7.7</td><td>1.1</td></tr>\n",
       "\t<tr><td> 5</td><td>Nam</td><td>47</td><td>18</td><td>6.250</td><td>2.1</td><td>5.0</td><td>2.1</td></tr>\n",
       "\t<tr><td> 6</td><td>Nu </td><td>65</td><td>18</td><td>4.150</td><td>3.0</td><td>4.2</td><td>1.5</td></tr>\n",
       "\t<tr><td> 7</td><td>Nam</td><td>76</td><td>19</td><td>0.737</td><td>3.0</td><td>5.9</td><td>2.6</td></tr>\n",
       "\t<tr><td> 8</td><td>Nam</td><td>61</td><td>19</td><td>7.170</td><td>3.0</td><td>6.1</td><td>1.5</td></tr>\n",
       "\t<tr><td> 9</td><td>Nam</td><td>59</td><td>19</td><td>6.942</td><td>3.0</td><td>5.9</td><td>5.4</td></tr>\n",
       "\t<tr><td>10</td><td>Nu </td><td>57</td><td>19</td><td>5.000</td><td>2.0</td><td>4.0</td><td>1.9</td></tr>\n",
       "\t<tr><td>11</td><td>Nu </td><td>63</td><td>20</td><td>4.217</td><td>5.0</td><td>6.2</td><td>1.7</td></tr>\n",
       "\t<tr><td>12</td><td>Nam</td><td>51</td><td>20</td><td>4.823</td><td>1.3</td><td>4.1</td><td>1.0</td></tr>\n",
       "\t<tr><td>13</td><td>Nu </td><td>60</td><td>20</td><td>3.750</td><td>1.2</td><td>3.0</td><td>1.6</td></tr>\n",
       "\t<tr><td>14</td><td>Nam</td><td>42</td><td>20</td><td>1.904</td><td>0.7</td><td>4.0</td><td>1.1</td></tr>\n",
       "\t<tr><td>15</td><td>Nam</td><td>64</td><td>20</td><td>6.900</td><td>4.0</td><td>6.9</td><td>1.5</td></tr>\n",
       "\t<tr><td>16</td><td>Nu </td><td>49</td><td>20</td><td>0.633</td><td>4.1</td><td>5.7</td><td>1.0</td></tr>\n",
       "\t<tr><td>17</td><td>Nu </td><td>44</td><td>21</td><td>5.530</td><td>4.3</td><td>5.7</td><td>2.7</td></tr>\n",
       "\t<tr><td>18</td><td>Nu </td><td>45</td><td>21</td><td>6.625</td><td>4.0</td><td>5.3</td><td>3.9</td></tr>\n",
       "\t<tr><td>19</td><td>Nu </td><td>80</td><td>21</td><td>5.960</td><td>4.3</td><td>7.1</td><td>3.0</td></tr>\n",
       "\t<tr><td>20</td><td>Nu </td><td>48</td><td>21</td><td>3.800</td><td>4.0</td><td>3.8</td><td>3.1</td></tr>\n",
       "\t<tr><td>21</td><td>Nu </td><td>61</td><td>21</td><td>5.375</td><td>3.1</td><td>4.3</td><td>2.2</td></tr>\n",
       "\t<tr><td>22</td><td>Nu </td><td>45</td><td>21</td><td>3.360</td><td>3.0</td><td>4.8</td><td>2.7</td></tr>\n",
       "\t<tr><td>23</td><td>Nu </td><td>70</td><td>21</td><td>5.000</td><td>1.7</td><td>4.0</td><td>1.1</td></tr>\n",
       "\t<tr><td>24</td><td>Nu </td><td>51</td><td>21</td><td>2.608</td><td>2.0</td><td>3.0</td><td>0.7</td></tr>\n",
       "\t<tr><td>25</td><td>Nam</td><td>63</td><td>22</td><td>4.130</td><td>2.1</td><td>3.1</td><td>1.0</td></tr>\n",
       "\t<tr><td>26</td><td>Nam</td><td>54</td><td>22</td><td>5.000</td><td>4.0</td><td>5.3</td><td>1.7</td></tr>\n",
       "\t<tr><td>27</td><td>Nu </td><td>57</td><td>22</td><td>6.235</td><td>4.1</td><td>5.3</td><td>2.9</td></tr>\n",
       "\t<tr><td>28</td><td>Nam</td><td>70</td><td>22</td><td>3.600</td><td>4.0</td><td>5.4</td><td>2.5</td></tr>\n",
       "\t<tr><td>29</td><td>Nu </td><td>47</td><td>22</td><td>5.625</td><td>4.2</td><td>4.5</td><td>6.2</td></tr>\n",
       "\t<tr><td>30</td><td>Nu </td><td>60</td><td>22</td><td>5.360</td><td>4.2</td><td>5.9</td><td>1.3</td></tr>\n",
       "\t<tr><td>31</td><td>Nu </td><td>60</td><td>22</td><td>6.580</td><td>4.4</td><td>5.6</td><td>3.3</td></tr>\n",
       "\t<tr><td>32</td><td>Nam</td><td>50</td><td>22</td><td>7.545</td><td>4.3</td><td>8.3</td><td>3.0</td></tr>\n",
       "\t<tr><td>33</td><td>Nam</td><td>60</td><td>22</td><td>6.440</td><td>2.3</td><td>5.8</td><td>1.0</td></tr>\n",
       "\t<tr><td>34</td><td>Nu </td><td>55</td><td>22</td><td>6.170</td><td>6.0</td><td>7.6</td><td>1.4</td></tr>\n",
       "\t<tr><td>35</td><td>Nu </td><td>74</td><td>23</td><td>5.270</td><td>3.0</td><td>5.8</td><td>2.5</td></tr>\n",
       "\t<tr><td>36</td><td>Nam</td><td>48</td><td>23</td><td>3.220</td><td>3.0</td><td>3.1</td><td>0.7</td></tr>\n",
       "\t<tr><td>37</td><td>Nu </td><td>46</td><td>23</td><td>5.400</td><td>2.6</td><td>5.4</td><td>2.4</td></tr>\n",
       "\t<tr><td>38</td><td>Nam</td><td>49</td><td>23</td><td>6.300</td><td>4.4</td><td>6.3</td><td>2.4</td></tr>\n",
       "\t<tr><td>39</td><td>Nu </td><td>69</td><td>23</td><td>9.110</td><td>4.3</td><td>8.2</td><td>1.4</td></tr>\n",
       "\t<tr><td>40</td><td>Nu </td><td>72</td><td>23</td><td>7.750</td><td>4.0</td><td>6.2</td><td>2.7</td></tr>\n",
       "\t<tr><td>41</td><td>Nam</td><td>51</td><td>23</td><td>6.200</td><td>3.0</td><td>6.2</td><td>2.4</td></tr>\n",
       "\t<tr><td>42</td><td>Nu </td><td>58</td><td>23</td><td>7.050</td><td>4.1</td><td>6.7</td><td>3.3</td></tr>\n",
       "\t<tr><td>43</td><td>Nam</td><td>60</td><td>24</td><td>6.300</td><td>4.4</td><td>6.3</td><td>2.0</td></tr>\n",
       "\t<tr><td>44</td><td>Nam</td><td>45</td><td>24</td><td>5.450</td><td>2.8</td><td>6.0</td><td>2.6</td></tr>\n",
       "\t<tr><td>45</td><td>Nam</td><td>63</td><td>24</td><td>5.000</td><td>3.0</td><td>4.0</td><td>1.8</td></tr>\n",
       "\t<tr><td>46</td><td>Nu </td><td>52</td><td>24</td><td>3.360</td><td>2.0</td><td>3.7</td><td>1.2</td></tr>\n",
       "\t<tr><td>47</td><td>Nam</td><td>64</td><td>24</td><td>7.170</td><td>1.0</td><td>6.1</td><td>1.9</td></tr>\n",
       "\t<tr><td>48</td><td>Nam</td><td>45</td><td>24</td><td>7.880</td><td>4.0</td><td>6.7</td><td>3.3</td></tr>\n",
       "\t<tr><td>49</td><td>Nu </td><td>64</td><td>25</td><td>7.360</td><td>4.6</td><td>8.1</td><td>4.0</td></tr>\n",
       "\t<tr><td>50</td><td>Nu </td><td>62</td><td>25</td><td>7.750</td><td>4.0</td><td>6.2</td><td>2.5</td></tr>\n",
       "</tbody>\n",
       "</table>\n"
      ],
      "text/latex": [
       "A data.frame: 50 × 8\n",
       "\\begin{tabular}{llllllll}\n",
       " id & sex & age & bmi & hdl & ldl & tc & tg\\\\\n",
       " <int> & <chr> & <int> & <int> & <dbl> & <dbl> & <dbl> & <dbl>\\\\\n",
       "\\hline\n",
       "\t  1 & Nam & 57 & 17 & 5.000 & 2.0 & 4.0 & 1.1\\\\\n",
       "\t  2 & Nu  & 64 & 18 & 4.380 & 3.0 & 3.5 & 2.1\\\\\n",
       "\t  3 & Nu  & 60 & 18 & 3.360 & 3.0 & 4.7 & 0.8\\\\\n",
       "\t  4 & Nam & 65 & 18 & 5.920 & 4.0 & 7.7 & 1.1\\\\\n",
       "\t  5 & Nam & 47 & 18 & 6.250 & 2.1 & 5.0 & 2.1\\\\\n",
       "\t  6 & Nu  & 65 & 18 & 4.150 & 3.0 & 4.2 & 1.5\\\\\n",
       "\t  7 & Nam & 76 & 19 & 0.737 & 3.0 & 5.9 & 2.6\\\\\n",
       "\t  8 & Nam & 61 & 19 & 7.170 & 3.0 & 6.1 & 1.5\\\\\n",
       "\t  9 & Nam & 59 & 19 & 6.942 & 3.0 & 5.9 & 5.4\\\\\n",
       "\t 10 & Nu  & 57 & 19 & 5.000 & 2.0 & 4.0 & 1.9\\\\\n",
       "\t 11 & Nu  & 63 & 20 & 4.217 & 5.0 & 6.2 & 1.7\\\\\n",
       "\t 12 & Nam & 51 & 20 & 4.823 & 1.3 & 4.1 & 1.0\\\\\n",
       "\t 13 & Nu  & 60 & 20 & 3.750 & 1.2 & 3.0 & 1.6\\\\\n",
       "\t 14 & Nam & 42 & 20 & 1.904 & 0.7 & 4.0 & 1.1\\\\\n",
       "\t 15 & Nam & 64 & 20 & 6.900 & 4.0 & 6.9 & 1.5\\\\\n",
       "\t 16 & Nu  & 49 & 20 & 0.633 & 4.1 & 5.7 & 1.0\\\\\n",
       "\t 17 & Nu  & 44 & 21 & 5.530 & 4.3 & 5.7 & 2.7\\\\\n",
       "\t 18 & Nu  & 45 & 21 & 6.625 & 4.0 & 5.3 & 3.9\\\\\n",
       "\t 19 & Nu  & 80 & 21 & 5.960 & 4.3 & 7.1 & 3.0\\\\\n",
       "\t 20 & Nu  & 48 & 21 & 3.800 & 4.0 & 3.8 & 3.1\\\\\n",
       "\t 21 & Nu  & 61 & 21 & 5.375 & 3.1 & 4.3 & 2.2\\\\\n",
       "\t 22 & Nu  & 45 & 21 & 3.360 & 3.0 & 4.8 & 2.7\\\\\n",
       "\t 23 & Nu  & 70 & 21 & 5.000 & 1.7 & 4.0 & 1.1\\\\\n",
       "\t 24 & Nu  & 51 & 21 & 2.608 & 2.0 & 3.0 & 0.7\\\\\n",
       "\t 25 & Nam & 63 & 22 & 4.130 & 2.1 & 3.1 & 1.0\\\\\n",
       "\t 26 & Nam & 54 & 22 & 5.000 & 4.0 & 5.3 & 1.7\\\\\n",
       "\t 27 & Nu  & 57 & 22 & 6.235 & 4.1 & 5.3 & 2.9\\\\\n",
       "\t 28 & Nam & 70 & 22 & 3.600 & 4.0 & 5.4 & 2.5\\\\\n",
       "\t 29 & Nu  & 47 & 22 & 5.625 & 4.2 & 4.5 & 6.2\\\\\n",
       "\t 30 & Nu  & 60 & 22 & 5.360 & 4.2 & 5.9 & 1.3\\\\\n",
       "\t 31 & Nu  & 60 & 22 & 6.580 & 4.4 & 5.6 & 3.3\\\\\n",
       "\t 32 & Nam & 50 & 22 & 7.545 & 4.3 & 8.3 & 3.0\\\\\n",
       "\t 33 & Nam & 60 & 22 & 6.440 & 2.3 & 5.8 & 1.0\\\\\n",
       "\t 34 & Nu  & 55 & 22 & 6.170 & 6.0 & 7.6 & 1.4\\\\\n",
       "\t 35 & Nu  & 74 & 23 & 5.270 & 3.0 & 5.8 & 2.5\\\\\n",
       "\t 36 & Nam & 48 & 23 & 3.220 & 3.0 & 3.1 & 0.7\\\\\n",
       "\t 37 & Nu  & 46 & 23 & 5.400 & 2.6 & 5.4 & 2.4\\\\\n",
       "\t 38 & Nam & 49 & 23 & 6.300 & 4.4 & 6.3 & 2.4\\\\\n",
       "\t 39 & Nu  & 69 & 23 & 9.110 & 4.3 & 8.2 & 1.4\\\\\n",
       "\t 40 & Nu  & 72 & 23 & 7.750 & 4.0 & 6.2 & 2.7\\\\\n",
       "\t 41 & Nam & 51 & 23 & 6.200 & 3.0 & 6.2 & 2.4\\\\\n",
       "\t 42 & Nu  & 58 & 23 & 7.050 & 4.1 & 6.7 & 3.3\\\\\n",
       "\t 43 & Nam & 60 & 24 & 6.300 & 4.4 & 6.3 & 2.0\\\\\n",
       "\t 44 & Nam & 45 & 24 & 5.450 & 2.8 & 6.0 & 2.6\\\\\n",
       "\t 45 & Nam & 63 & 24 & 5.000 & 3.0 & 4.0 & 1.8\\\\\n",
       "\t 46 & Nu  & 52 & 24 & 3.360 & 2.0 & 3.7 & 1.2\\\\\n",
       "\t 47 & Nam & 64 & 24 & 7.170 & 1.0 & 6.1 & 1.9\\\\\n",
       "\t 48 & Nam & 45 & 24 & 7.880 & 4.0 & 6.7 & 3.3\\\\\n",
       "\t 49 & Nu  & 64 & 25 & 7.360 & 4.6 & 8.1 & 4.0\\\\\n",
       "\t 50 & Nu  & 62 & 25 & 7.750 & 4.0 & 6.2 & 2.5\\\\\n",
       "\\end{tabular}\n"
      ],
      "text/markdown": [
       "\n",
       "A data.frame: 50 × 8\n",
       "\n",
       "| id &lt;int&gt; | sex &lt;chr&gt; | age &lt;int&gt; | bmi &lt;int&gt; | hdl &lt;dbl&gt; | ldl &lt;dbl&gt; | tc &lt;dbl&gt; | tg &lt;dbl&gt; |\n",
       "|---|---|---|---|---|---|---|---|\n",
       "|  1 | Nam | 57 | 17 | 5.000 | 2.0 | 4.0 | 1.1 |\n",
       "|  2 | Nu  | 64 | 18 | 4.380 | 3.0 | 3.5 | 2.1 |\n",
       "|  3 | Nu  | 60 | 18 | 3.360 | 3.0 | 4.7 | 0.8 |\n",
       "|  4 | Nam | 65 | 18 | 5.920 | 4.0 | 7.7 | 1.1 |\n",
       "|  5 | Nam | 47 | 18 | 6.250 | 2.1 | 5.0 | 2.1 |\n",
       "|  6 | Nu  | 65 | 18 | 4.150 | 3.0 | 4.2 | 1.5 |\n",
       "|  7 | Nam | 76 | 19 | 0.737 | 3.0 | 5.9 | 2.6 |\n",
       "|  8 | Nam | 61 | 19 | 7.170 | 3.0 | 6.1 | 1.5 |\n",
       "|  9 | Nam | 59 | 19 | 6.942 | 3.0 | 5.9 | 5.4 |\n",
       "| 10 | Nu  | 57 | 19 | 5.000 | 2.0 | 4.0 | 1.9 |\n",
       "| 11 | Nu  | 63 | 20 | 4.217 | 5.0 | 6.2 | 1.7 |\n",
       "| 12 | Nam | 51 | 20 | 4.823 | 1.3 | 4.1 | 1.0 |\n",
       "| 13 | Nu  | 60 | 20 | 3.750 | 1.2 | 3.0 | 1.6 |\n",
       "| 14 | Nam | 42 | 20 | 1.904 | 0.7 | 4.0 | 1.1 |\n",
       "| 15 | Nam | 64 | 20 | 6.900 | 4.0 | 6.9 | 1.5 |\n",
       "| 16 | Nu  | 49 | 20 | 0.633 | 4.1 | 5.7 | 1.0 |\n",
       "| 17 | Nu  | 44 | 21 | 5.530 | 4.3 | 5.7 | 2.7 |\n",
       "| 18 | Nu  | 45 | 21 | 6.625 | 4.0 | 5.3 | 3.9 |\n",
       "| 19 | Nu  | 80 | 21 | 5.960 | 4.3 | 7.1 | 3.0 |\n",
       "| 20 | Nu  | 48 | 21 | 3.800 | 4.0 | 3.8 | 3.1 |\n",
       "| 21 | Nu  | 61 | 21 | 5.375 | 3.1 | 4.3 | 2.2 |\n",
       "| 22 | Nu  | 45 | 21 | 3.360 | 3.0 | 4.8 | 2.7 |\n",
       "| 23 | Nu  | 70 | 21 | 5.000 | 1.7 | 4.0 | 1.1 |\n",
       "| 24 | Nu  | 51 | 21 | 2.608 | 2.0 | 3.0 | 0.7 |\n",
       "| 25 | Nam | 63 | 22 | 4.130 | 2.1 | 3.1 | 1.0 |\n",
       "| 26 | Nam | 54 | 22 | 5.000 | 4.0 | 5.3 | 1.7 |\n",
       "| 27 | Nu  | 57 | 22 | 6.235 | 4.1 | 5.3 | 2.9 |\n",
       "| 28 | Nam | 70 | 22 | 3.600 | 4.0 | 5.4 | 2.5 |\n",
       "| 29 | Nu  | 47 | 22 | 5.625 | 4.2 | 4.5 | 6.2 |\n",
       "| 30 | Nu  | 60 | 22 | 5.360 | 4.2 | 5.9 | 1.3 |\n",
       "| 31 | Nu  | 60 | 22 | 6.580 | 4.4 | 5.6 | 3.3 |\n",
       "| 32 | Nam | 50 | 22 | 7.545 | 4.3 | 8.3 | 3.0 |\n",
       "| 33 | Nam | 60 | 22 | 6.440 | 2.3 | 5.8 | 1.0 |\n",
       "| 34 | Nu  | 55 | 22 | 6.170 | 6.0 | 7.6 | 1.4 |\n",
       "| 35 | Nu  | 74 | 23 | 5.270 | 3.0 | 5.8 | 2.5 |\n",
       "| 36 | Nam | 48 | 23 | 3.220 | 3.0 | 3.1 | 0.7 |\n",
       "| 37 | Nu  | 46 | 23 | 5.400 | 2.6 | 5.4 | 2.4 |\n",
       "| 38 | Nam | 49 | 23 | 6.300 | 4.4 | 6.3 | 2.4 |\n",
       "| 39 | Nu  | 69 | 23 | 9.110 | 4.3 | 8.2 | 1.4 |\n",
       "| 40 | Nu  | 72 | 23 | 7.750 | 4.0 | 6.2 | 2.7 |\n",
       "| 41 | Nam | 51 | 23 | 6.200 | 3.0 | 6.2 | 2.4 |\n",
       "| 42 | Nu  | 58 | 23 | 7.050 | 4.1 | 6.7 | 3.3 |\n",
       "| 43 | Nam | 60 | 24 | 6.300 | 4.4 | 6.3 | 2.0 |\n",
       "| 44 | Nam | 45 | 24 | 5.450 | 2.8 | 6.0 | 2.6 |\n",
       "| 45 | Nam | 63 | 24 | 5.000 | 3.0 | 4.0 | 1.8 |\n",
       "| 46 | Nu  | 52 | 24 | 3.360 | 2.0 | 3.7 | 1.2 |\n",
       "| 47 | Nam | 64 | 24 | 7.170 | 1.0 | 6.1 | 1.9 |\n",
       "| 48 | Nam | 45 | 24 | 7.880 | 4.0 | 6.7 | 3.3 |\n",
       "| 49 | Nu  | 64 | 25 | 7.360 | 4.6 | 8.1 | 4.0 |\n",
       "| 50 | Nu  | 62 | 25 | 7.750 | 4.0 | 6.2 | 2.5 |\n",
       "\n"
      ],
      "text/plain": [
       "   id sex age bmi hdl   ldl tc  tg \n",
       "1   1 Nam 57  17  5.000 2.0 4.0 1.1\n",
       "2   2 Nu  64  18  4.380 3.0 3.5 2.1\n",
       "3   3 Nu  60  18  3.360 3.0 4.7 0.8\n",
       "4   4 Nam 65  18  5.920 4.0 7.7 1.1\n",
       "5   5 Nam 47  18  6.250 2.1 5.0 2.1\n",
       "6   6 Nu  65  18  4.150 3.0 4.2 1.5\n",
       "7   7 Nam 76  19  0.737 3.0 5.9 2.6\n",
       "8   8 Nam 61  19  7.170 3.0 6.1 1.5\n",
       "9   9 Nam 59  19  6.942 3.0 5.9 5.4\n",
       "10 10 Nu  57  19  5.000 2.0 4.0 1.9\n",
       "11 11 Nu  63  20  4.217 5.0 6.2 1.7\n",
       "12 12 Nam 51  20  4.823 1.3 4.1 1.0\n",
       "13 13 Nu  60  20  3.750 1.2 3.0 1.6\n",
       "14 14 Nam 42  20  1.904 0.7 4.0 1.1\n",
       "15 15 Nam 64  20  6.900 4.0 6.9 1.5\n",
       "16 16 Nu  49  20  0.633 4.1 5.7 1.0\n",
       "17 17 Nu  44  21  5.530 4.3 5.7 2.7\n",
       "18 18 Nu  45  21  6.625 4.0 5.3 3.9\n",
       "19 19 Nu  80  21  5.960 4.3 7.1 3.0\n",
       "20 20 Nu  48  21  3.800 4.0 3.8 3.1\n",
       "21 21 Nu  61  21  5.375 3.1 4.3 2.2\n",
       "22 22 Nu  45  21  3.360 3.0 4.8 2.7\n",
       "23 23 Nu  70  21  5.000 1.7 4.0 1.1\n",
       "24 24 Nu  51  21  2.608 2.0 3.0 0.7\n",
       "25 25 Nam 63  22  4.130 2.1 3.1 1.0\n",
       "26 26 Nam 54  22  5.000 4.0 5.3 1.7\n",
       "27 27 Nu  57  22  6.235 4.1 5.3 2.9\n",
       "28 28 Nam 70  22  3.600 4.0 5.4 2.5\n",
       "29 29 Nu  47  22  5.625 4.2 4.5 6.2\n",
       "30 30 Nu  60  22  5.360 4.2 5.9 1.3\n",
       "31 31 Nu  60  22  6.580 4.4 5.6 3.3\n",
       "32 32 Nam 50  22  7.545 4.3 8.3 3.0\n",
       "33 33 Nam 60  22  6.440 2.3 5.8 1.0\n",
       "34 34 Nu  55  22  6.170 6.0 7.6 1.4\n",
       "35 35 Nu  74  23  5.270 3.0 5.8 2.5\n",
       "36 36 Nam 48  23  3.220 3.0 3.1 0.7\n",
       "37 37 Nu  46  23  5.400 2.6 5.4 2.4\n",
       "38 38 Nam 49  23  6.300 4.4 6.3 2.4\n",
       "39 39 Nu  69  23  9.110 4.3 8.2 1.4\n",
       "40 40 Nu  72  23  7.750 4.0 6.2 2.7\n",
       "41 41 Nam 51  23  6.200 3.0 6.2 2.4\n",
       "42 42 Nu  58  23  7.050 4.1 6.7 3.3\n",
       "43 43 Nam 60  24  6.300 4.4 6.3 2.0\n",
       "44 44 Nam 45  24  5.450 2.8 6.0 2.6\n",
       "45 45 Nam 63  24  5.000 3.0 4.0 1.8\n",
       "46 46 Nu  52  24  3.360 2.0 3.7 1.2\n",
       "47 47 Nam 64  24  7.170 1.0 6.1 1.9\n",
       "48 48 Nam 45  24  7.880 4.0 6.7 3.3\n",
       "49 49 Nu  64  25  7.360 4.6 8.1 4.0\n",
       "50 50 Nu  62  25  7.750 4.0 6.2 2.5"
      ]
     },
     "metadata": {},
     "output_type": "display_data"
    }
   ],
   "source": [
    "chol"
   ]
  },
  {
   "cell_type": "code",
   "execution_count": 11,
   "id": "35256813-fc6a-4c18-b388-8bf472a5d9a8",
   "metadata": {},
   "outputs": [
    {
     "data": {
      "text/html": [
       "<style>\n",
       ".list-inline {list-style: none; margin:0; padding: 0}\n",
       ".list-inline>li {display: inline-block}\n",
       ".list-inline>li:not(:last-child)::after {content: \"\\00b7\"; padding: 0 .5ex}\n",
       "</style>\n",
       "<ol class=list-inline><li>'id'</li><li>'sex'</li><li>'age'</li><li>'bmi'</li><li>'hdl'</li><li>'ldl'</li><li>'tc'</li><li>'tg'</li></ol>\n"
      ],
      "text/latex": [
       "\\begin{enumerate*}\n",
       "\\item 'id'\n",
       "\\item 'sex'\n",
       "\\item 'age'\n",
       "\\item 'bmi'\n",
       "\\item 'hdl'\n",
       "\\item 'ldl'\n",
       "\\item 'tc'\n",
       "\\item 'tg'\n",
       "\\end{enumerate*}\n"
      ],
      "text/markdown": [
       "1. 'id'\n",
       "2. 'sex'\n",
       "3. 'age'\n",
       "4. 'bmi'\n",
       "5. 'hdl'\n",
       "6. 'ldl'\n",
       "7. 'tc'\n",
       "8. 'tg'\n",
       "\n",
       "\n"
      ],
      "text/plain": [
       "[1] \"id\"  \"sex\" \"age\" \"bmi\" \"hdl\" \"ldl\" \"tc\"  \"tg\" "
      ]
     },
     "metadata": {},
     "output_type": "display_data"
    }
   ],
   "source": [
    "names(chol)"
   ]
  },
  {
   "cell_type": "code",
   "execution_count": 12,
   "id": "a9e2e15b-25d5-48b2-87b4-5f8f06eb69d4",
   "metadata": {},
   "outputs": [],
   "source": [
    "save(chol, file=\"chol.rda\")"
   ]
  },
  {
   "cell_type": "markdown",
   "id": "75ca8916-243e-4481-a8d7-93eb0f9fb419",
   "metadata": {},
   "source": [
    "### 3.4 Nhập số liệu từ Excel: read.csv"
   ]
  },
  {
   "cell_type": "code",
   "execution_count": 19,
   "id": "d6c6b780-c99a-4589-a276-081f3789956d",
   "metadata": {},
   "outputs": [],
   "source": [
    "setwd(\"E:/Statistics-R/THONG KE R/\")"
   ]
  },
  {
   "cell_type": "raw",
   "id": "4ebb0b30-6798-4ecd-8200-efa6da5fea18",
   "metadata": {},
   "source": [
    "gh <- read.csv(\"excel.csv\", header=TRUE)"
   ]
  },
  {
   "cell_type": "code",
   "execution_count": null,
   "id": "ce5fb609-3be1-426e-bfaf-747bb30c8d8a",
   "metadata": {},
   "outputs": [],
   "source": [
    "library(CalSim)"
   ]
  },
  {
   "cell_type": "markdown",
   "id": "ae94b362-e982-4a54-8ff3-eb4a245f3e3b",
   "metadata": {},
   "source": [
    "### 3.6 Thông tin cơ bản về dữ liệu"
   ]
  },
  {
   "cell_type": "code",
   "execution_count": 25,
   "id": "467fac78-9e60-4af4-81d0-80c5d9fbdd97",
   "metadata": {},
   "outputs": [
    {
     "name": "stderr",
     "output_type": "stream",
     "text": [
      "The following object is masked _by_ .GlobalEnv:\n",
      "\n",
      "    age\n",
      "\n",
      "\n"
     ]
    }
   ],
   "source": [
    "attach(chol)"
   ]
  },
  {
   "cell_type": "code",
   "execution_count": 27,
   "id": "6cc77441-9f8b-466c-8830-8a2be323c77e",
   "metadata": {},
   "outputs": [
    {
     "data": {
      "text/html": [
       "TRUE"
      ],
      "text/latex": [
       "TRUE"
      ],
      "text/markdown": [
       "TRUE"
      ],
      "text/plain": [
       "[1] TRUE"
      ]
     },
     "metadata": {},
     "output_type": "display_data"
    }
   ],
   "source": [
    "is.data.frame(chol) "
   ]
  },
  {
   "cell_type": "code",
   "execution_count": 28,
   "id": "c8e56f0b-70de-4fbf-a844-d30e4a0cd8c7",
   "metadata": {},
   "outputs": [
    {
     "data": {
      "text/html": [
       "<style>\n",
       ".list-inline {list-style: none; margin:0; padding: 0}\n",
       ".list-inline>li {display: inline-block}\n",
       ".list-inline>li:not(:last-child)::after {content: \"\\00b7\"; padding: 0 .5ex}\n",
       "</style>\n",
       "<ol class=list-inline><li>50</li><li>8</li></ol>\n"
      ],
      "text/latex": [
       "\\begin{enumerate*}\n",
       "\\item 50\n",
       "\\item 8\n",
       "\\end{enumerate*}\n"
      ],
      "text/markdown": [
       "1. 50\n",
       "2. 8\n",
       "\n",
       "\n"
      ],
      "text/plain": [
       "[1] 50  8"
      ]
     },
     "metadata": {},
     "output_type": "display_data"
    }
   ],
   "source": [
    "dim(chol)"
   ]
  },
  {
   "cell_type": "code",
   "execution_count": 30,
   "id": "d1173757-bb5d-4d19-90b6-52938d70cabe",
   "metadata": {},
   "outputs": [
    {
     "data": {
      "text/html": [
       "<style>\n",
       ".list-inline {list-style: none; margin:0; padding: 0}\n",
       ".list-inline>li {display: inline-block}\n",
       ".list-inline>li:not(:last-child)::after {content: \"\\00b7\"; padding: 0 .5ex}\n",
       "</style>\n",
       "<ol class=list-inline><li>'id'</li><li>'sex'</li><li>'age'</li><li>'bmi'</li><li>'hdl'</li><li>'ldl'</li><li>'tc'</li><li>'tg'</li></ol>\n"
      ],
      "text/latex": [
       "\\begin{enumerate*}\n",
       "\\item 'id'\n",
       "\\item 'sex'\n",
       "\\item 'age'\n",
       "\\item 'bmi'\n",
       "\\item 'hdl'\n",
       "\\item 'ldl'\n",
       "\\item 'tc'\n",
       "\\item 'tg'\n",
       "\\end{enumerate*}\n"
      ],
      "text/markdown": [
       "1. 'id'\n",
       "2. 'sex'\n",
       "3. 'age'\n",
       "4. 'bmi'\n",
       "5. 'hdl'\n",
       "6. 'ldl'\n",
       "7. 'tc'\n",
       "8. 'tg'\n",
       "\n",
       "\n"
      ],
      "text/plain": [
       "[1] \"id\"  \"sex\" \"age\" \"bmi\" \"hdl\" \"ldl\" \"tc\"  \"tg\" "
      ]
     },
     "metadata": {},
     "output_type": "display_data"
    }
   ],
   "source": [
    "names(chol)"
   ]
  },
  {
   "cell_type": "code",
   "execution_count": 31,
   "id": "347b7af3-4261-441e-a2a8-bc4ffdbfda54",
   "metadata": {},
   "outputs": [
    {
     "data": {
      "text/plain": [
       "sex\n",
       "Nam  Nu \n",
       " 22  28 "
      ]
     },
     "metadata": {},
     "output_type": "display_data"
    }
   ],
   "source": [
    "table(sex)"
   ]
  },
  {
   "cell_type": "code",
   "execution_count": null,
   "id": "a1912d42-f67d-4dc0-9195-97b6447a9012",
   "metadata": {},
   "outputs": [],
   "source": []
  }
 ],
 "metadata": {
  "kernelspec": {
   "display_name": "R",
   "language": "R",
   "name": "ir"
  },
  "language_info": {
   "codemirror_mode": "r",
   "file_extension": ".r",
   "mimetype": "text/x-r-source",
   "name": "R",
   "pygments_lexer": "r",
   "version": "4.3.3"
  }
 },
 "nbformat": 4,
 "nbformat_minor": 5
}
