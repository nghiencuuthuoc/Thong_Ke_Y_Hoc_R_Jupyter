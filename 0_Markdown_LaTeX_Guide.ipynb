{
 "cells": [
  {
   "cell_type": "markdown",
   "id": "4453f44d-7856-463a-ac4a-c96801311e00",
   "metadata": {},
   "source": [
    "# Markdown and LaTeX Guide\n",
    "\n",
    "[1. Markdown and LaTeX introduction](https://ashki23.github.io/markdown-latex.html)\n",
    "\n",
    "[2. How to use LaTeX in Markdown](https://www.fabriziomusacchio.com/blog/2021-08-10-How_to_use_LaTeX_in_Markdown/)"
   ]
  },
  {
   "cell_type": "markdown",
   "id": "fbb7a67a-d663-45f6-b035-9455d1d05a07",
   "metadata": {},
   "source": [
    "- $x + y$\n",
    "- $x - y$\n",
    "- $x \\times y$ \n",
    "- $x \\div y$\n",
    "- $\\dfrac{x}{y}$\n",
    "- $\\sqrt{x}$"
   ]
  },
  {
   "cell_type": "raw",
   "id": "37e3e190-fe35-41d8-b2ea-a875a7f69174",
   "metadata": {},
   "source": [
    "- $x + y$\n",
    "- $x - y$\n",
    "- $x \\times y$ \n",
    "- $x \\div y$\n",
    "- $\\dfrac{x}{y}$\n",
    "- $\\sqrt{x}$"
   ]
  },
  {
   "cell_type": "markdown",
   "id": "552754fd-344a-4093-8665-6413abc6e5ed",
   "metadata": {},
   "source": [
    "- $\\pi \\approx 3.14159$\n",
    "- $\\pm \\, 0.2$\n",
    "- $\\dfrac{0}{1} \\neq \\infty$\n",
    "- $0 < x < 1$\n",
    "- $0 \\leq x \\leq 1$\n",
    "- $x \\geq 10$\n",
    "- $\\forall \\, x \\in (1,2)$\n",
    "- $\\exists \\, x \\notin [0,1]$\n",
    "- $A \\subset B$\n",
    "- $A \\subseteq B$\n",
    "- $A \\cup B$\n",
    "- $A \\cap B$\n",
    "- $X \\implies Y$\n",
    "- $X \\impliedby Y$\n",
    "- $a \\to b$\n",
    "- $a \\longrightarrow b$\n",
    "- $a \\Rightarrow b$\n",
    "- $a \\Longrightarrow b$\n",
    "- $a \\propto b$"
   ]
  },
  {
   "cell_type": "raw",
   "id": "4d7222e7-da66-4f4e-92b5-6d229251f810",
   "metadata": {},
   "source": [
    "- $\\pi \\approx 3.14159$\n",
    "- $\\pm \\, 0.2$\n",
    "- $\\dfrac{0}{1} \\neq \\infty$\n",
    "- $0 < x < 1$\n",
    "- $0 \\leq x \\leq 1$\n",
    "- $x \\geq 10$\n",
    "- $\\forall \\, x \\in (1,2)$\n",
    "- $\\exists \\, x \\notin [0,1]$\n",
    "- $A \\subset B$\n",
    "- $A \\subseteq B$\n",
    "- $A \\cup B$\n",
    "- $A \\cap B$\n",
    "- $X \\implies Y$\n",
    "- $X \\impliedby Y$\n",
    "- $a \\to b$\n",
    "- $a \\longrightarrow b$\n",
    "- $a \\Rightarrow b$\n",
    "- $a \\Longrightarrow b$\n",
    "- $a \\propto b$"
   ]
  },
  {
   "cell_type": "markdown",
   "id": "bd153cd7-9839-4558-92af-ad44d95e6d0c",
   "metadata": {},
   "source": [
    "- $\\bar a$\n",
    "- $\\tilde a$\n",
    "- $\\breve a$\n",
    "- $\\hat a$\n",
    "- $a^ \\prime$\n",
    "- $a^ \\dagger$\n",
    "- $a^ \\ast$\n",
    "- $a^ \\star$\n",
    "- $\\mathcal A$\n",
    "- $\\mathrm a$\n",
    "- $\\cdots$\n",
    "- $\\vdots$\n",
    "- $\\#$\n",
    "- $\\$$\n",
    "- $\\%$\n",
    "- $\\&$\n",
    "- $\\{ \\}$\n",
    "- $\\_$"
   ]
  },
  {
   "cell_type": "raw",
   "id": "fcc371e9-efe6-4472-b583-ef78ea080d5c",
   "metadata": {},
   "source": [
    "- $\\bar a$\n",
    "- $\\tilde a$\n",
    "- $\\breve a$\n",
    "- $\\hat a$\n",
    "- $a^ \\prime$\n",
    "- $a^ \\dagger$\n",
    "- $a^ \\ast$\n",
    "- $a^ \\star$\n",
    "- $\\mathcal A$\n",
    "- $\\mathrm a$\n",
    "- $\\cdots$\n",
    "- $\\vdots$\n",
    "- $\\#$\n",
    "- $\\$$\n",
    "- $\\%$\n",
    "- $\\&$\n",
    "- $\\{ \\}$\n",
    "- $\\_$"
   ]
  },
  {
   "cell_type": "markdown",
   "id": "4549a000-d3cf-44ea-bfac-f3c60e16c719",
   "metadata": {},
   "source": [
    "This is an inline equation: $$V_{sphere} = \\frac{4}{3}\\pi r^3$$,<br>\n",
    "followed by a display style equation:\n",
    "\n",
    "$$V_{sphere} = \\frac{4}{3}\\pi r^3$$"
   ]
  },
  {
   "cell_type": "markdown",
   "id": "10106d9a-366e-4c1c-a326-642794e46c47",
   "metadata": {},
   "source": [
    "$$t = \\frac{\\bar{x} - \\mu}{\\frac{s}{\\sqrt{n}}} \\$$"
   ]
  },
  {
   "cell_type": "markdown",
   "id": "b792458f-1963-46d6-b853-3763638602ce",
   "metadata": {},
   "source": [
    "$$ \\[ \\text{SED} = \\sqrt{\\left(\\frac{s_1^2}{n_1}\\right) + \\left(\\frac{s_2^2}{n_2}\\right)} \\] $$"
   ]
  },
  {
   "cell_type": "raw",
   "id": "0c42e76e-2058-4ff4-a096-509b5c275c2f",
   "metadata": {},
   "source": [
    "$$ \\[ \\text{SED} = \\sqrt{\\left(\\frac{s_1^2}{n_1}\\right) + \\left(\\frac{s_2^2}{n_2}\\right)} \\] $$"
   ]
  },
  {
   "cell_type": "code",
   "execution_count": null,
   "id": "e5babaca-c216-4f95-a811-7487b936bc2d",
   "metadata": {},
   "outputs": [],
   "source": []
  },
  {
   "cell_type": "code",
   "execution_count": null,
   "id": "b90f2b93-2e78-415c-a0ef-3b33e8aadb03",
   "metadata": {},
   "outputs": [],
   "source": []
  }
 ],
 "metadata": {
  "kernelspec": {
   "display_name": "R",
   "language": "R",
   "name": "ir"
  },
  "language_info": {
   "codemirror_mode": "r",
   "file_extension": ".r",
   "mimetype": "text/x-r-source",
   "name": "R",
   "pygments_lexer": "r",
   "version": "4.3.3"
  }
 },
 "nbformat": 4,
 "nbformat_minor": 5
}
