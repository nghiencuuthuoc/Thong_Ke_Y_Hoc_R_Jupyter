{
 "cells": [
  {
   "cell_type": "markdown",
   "id": "84de151d-5be5-4b1d-9f88-3a51647fb8a9",
   "metadata": {},
   "source": [
    "# Tính toán xác suất và mô phỏng (simulation) - Phần 2"
   ]
  },
  {
   "cell_type": "markdown",
   "id": "30d7ca91-d2a2-45fc-8159-944b52e8320a",
   "metadata": {},
   "source": [
    "### 6.3.5 Hàm phân phối t, F và $\\chi^2$\n",
    "Các hàm phân phối t, F và $\\chi^2$ trong thực tế là hàm của hàm phân phối chuẩn. Mối\n",
    "liên hệ và cách tính các hàm này có thể được mô tả bằng vài ghi chú sau đây:\n",
    "\n",
    "#### 6.3.5.1 Phân phối Chi bình phương ($\\chi^2$). \n",
    "Phân phối $\\chi^2$ xuất phát từ tổng bình phương của một biến phân phối chuẩn. Nếu nếu $x_i \\sim N(0, 1)$, và gọi $u = \\sum_{i=1}^{n} x_i^2$, thì u tuân theo luật phân phối Chi bình phương với bậc tự do n (thường viết tắt là df). Nói theo ngôn ngữ toán, $u \\sim \\chi_n^2$ .\n",
    "\n",
    "**Ví dụ 9:** Tìm xác suất của một biến Chi bình phương, do đó, chỉ cần hai thông số\n",
    "u và n. Chẳng hạn như nếu chúng ta muốn tìm xác suất $P(u=21, df=13)$, chỉ đơn\n",
    "giản dùng hàm pchisq như sau:"
   ]
  },
  {
   "cell_type": "code",
   "execution_count": 1,
   "id": "d7918751-ac9f-4099-9ae6-625edb7a130f",
   "metadata": {},
   "outputs": [
    {
     "data": {
      "text/html": [
       "0.0197787860747546"
      ],
      "text/latex": [
       "0.0197787860747546"
      ],
      "text/markdown": [
       "0.0197787860747546"
      ],
      "text/plain": [
       "[1] 0.01977879"
      ]
     },
     "metadata": {},
     "output_type": "display_data"
    }
   ],
   "source": [
    "dchisq(21, 13)"
   ]
  },
  {
   "cell_type": "markdown",
   "id": "9aa45672-e20e-4b28-be0a-fcd72e78a975",
   "metadata": {},
   "source": [
    "Tìm xác suất mà một biến số u nhỏ hơn 21 với bậc tự do 13 df. Tức là tìm $P(u ≤ 21 | df=13)$ = ?"
   ]
  },
  {
   "cell_type": "code",
   "execution_count": 2,
   "id": "2762bf17-a2f1-4146-a529-904dc73a2c0d",
   "metadata": {},
   "outputs": [
    {
     "data": {
      "text/html": [
       "0.92707137346978"
      ],
      "text/latex": [
       "0.92707137346978"
      ],
      "text/markdown": [
       "0.92707137346978"
      ],
      "text/plain": [
       "[1] 0.9270714"
      ]
     },
     "metadata": {},
     "output_type": "display_data"
    }
   ],
   "source": [
    "pchisq(21, 13)"
   ]
  },
  {
   "cell_type": "markdown",
   "id": "29abe582-1bcf-4e92-adc4-f8f6880ebd09",
   "metadata": {},
   "source": [
    "Cũng có thể nói kết quả trên cho biết $P(\\chi_{13}^2 < 21) = 0.927$."
   ]
  },
  {
   "cell_type": "code",
   "execution_count": 3,
   "id": "45eae789-4c18-4498-9754-00e66d46754c",
   "metadata": {},
   "outputs": [
    {
     "data": {
      "text/html": [
       "24.9957901397286"
      ],
      "text/latex": [
       "24.9957901397286"
      ],
      "text/markdown": [
       "24.9957901397286"
      ],
      "text/plain": [
       "[1] 24.99579"
      ]
     },
     "metadata": {},
     "output_type": "display_data"
    }
   ],
   "source": [
    "qchisq(0.95, 15)"
   ]
  },
  {
   "cell_type": "markdown",
   "id": "7f2984ed-60f2-415f-bd13-8be623cf2fb5",
   "metadata": {},
   "source": [
    "Nói cách khác, $P(\\chi_{15}^2 < 24.99) = 0.95$."
   ]
  },
  {
   "cell_type": "markdown",
   "id": "6112721e-600e-4a2f-9b5a-692aa36b0b92",
   "metadata": {},
   "source": [
    "Phi trung tâm (Non-centrality). Chú ý trong định nghĩa trên, phân phối $\\chi^2$ xuất\n",
    "phát từ tổng bình phương của một biến phân phối chuẩn có trung bình 0 và\n",
    "phương sai 1. Nhưng nếu một biến phân phối chuẩn có trung bình không phải là\n",
    "0 và phương sai không phải là 1, thì chúng ta sẽ có một phân phối Chi bình\n",
    "phương phi trung tâm.\n",
    "\n",
    "Nếu nếu $x_i \\sim N(\\mu_i, 1)$, và gọi $u = \\sum_{i=1}^{n} x_i^2$, thì u tuân theo luật\n",
    "phân phối Chi bình phương phi trung tâm với bậc tự do n và thông số phi trung\n",
    "tâm (non-centrality parameter) $\\lambda$ như sau:\n",
    "$$\\lambda = \\sum_{i=1}^{n} \\mu_i^2$$\n",
    "\n",
    "Và kí hiệu là $u \\sim \\chi_{n,\\lambda}^2$ . Có thể nói thêm rằng, trung bình của u là $n+\\lambda$, và phương sai của u là $2(n+2\\lambda)$.\n",
    "\n",
    "Tìm xác suất mà u nhỏ hơn hoặc bằng 21, với điều kiện bậc tự do là 13 và thông\n",
    "số non-centrality bằng 5.4:"
   ]
  },
  {
   "cell_type": "code",
   "execution_count": 4,
   "id": "020b4209-e526-4684-b213-6c477f3da842",
   "metadata": {},
   "outputs": [
    {
     "data": {
      "text/html": [
       "0.683764902466574"
      ],
      "text/latex": [
       "0.683764902466574"
      ],
      "text/markdown": [
       "0.683764902466574"
      ],
      "text/plain": [
       "[1] 0.6837649"
      ]
     },
     "metadata": {},
     "output_type": "display_data"
    }
   ],
   "source": [
    "pchisq(21, 13, 5.4)"
   ]
  },
  {
   "cell_type": "markdown",
   "id": "4d7b6639-be25-4626-b7de-4fe645640e5c",
   "metadata": {},
   "source": [
    "Tức là, $P(\\chi_{13, 5.4}^2 < 21) = 0.684$.\n",
    "\n",
    "Tìm quantile của một trị số tương đương với 50% của một phân phối $\\chi^2$ với 7 bậc\n",
    "tự do và thông số non-centrality bằng 3.\n"
   ]
  },
  {
   "cell_type": "code",
   "execution_count": 5,
   "id": "271726b8-338f-4c01-8116-a99e2afef19b",
   "metadata": {},
   "outputs": [
    {
     "data": {
      "text/html": [
       "9.18014831446767"
      ],
      "text/latex": [
       "9.18014831446767"
      ],
      "text/markdown": [
       "9.18014831446767"
      ],
      "text/plain": [
       "[1] 9.180148"
      ]
     },
     "metadata": {},
     "output_type": "display_data"
    }
   ],
   "source": [
    "qchisq(0.5, 7, 3)"
   ]
  },
  {
   "cell_type": "markdown",
   "id": "f0b671c0-eb19-4ba9-b69d-0764eb3c5fa3",
   "metadata": {},
   "source": [
    "Do đó, $P(\\chi_{7,3}^2 < 9.180148) = 0.50$"
   ]
  },
  {
   "cell_type": "markdown",
   "id": "3e35de4d-8c2b-4b42-9467-6b5f39af777f",
   "metadata": {},
   "source": [
    "#### 6.3.5.2 Phân phối t (t distribution). \n",
    "Chúng ta vừa biết rằng nếu $\\chi \\sim N(\\mu, s^2)$ thì thì$(\\chi – \\mu)/\\sigma^2 \\sim N(0, 1)$. Nhưng phát biểu đó đúng (hay chính xác) khi chúng ta biết\n",
    "phương sai $\\sigma^2$. Trong thực tế, ít khi nào chúng ta biết chính xác phương sai, mà\n",
    "chỉ ước tính từ số liệu thực nghiệm. Trong trường hợp phương sai được ước tính\n",
    "từ số liệu nghiên cứu, và hãy gọi ước tính này là $s^2$, thì chúng ta có thể phát biểu\n",
    "rằng: $(X – \\mu)/s^2 \\sim t(0, v)$, trong đó v là bậc tự do.\n",
    "\n",
    "Ví dụ 10. Tìm xác suất mà x lớn hơn 1, trong biến theo luật phân phối t với 6 bậc\n",
    "tự do:"
   ]
  },
  {
   "cell_type": "code",
   "execution_count": 6,
   "id": "ac66259c-b013-4978-9797-8076bcccf45f",
   "metadata": {},
   "outputs": [
    {
     "data": {
      "text/html": [
       "0.156748074710035"
      ],
      "text/latex": [
       "0.156748074710035"
      ],
      "text/markdown": [
       "0.156748074710035"
      ],
      "text/plain": [
       "[1] 0.1567481"
      ]
     },
     "metadata": {},
     "output_type": "display_data"
    }
   ],
   "source": [
    "1-pt(1.1, 6)"
   ]
  },
  {
   "cell_type": "markdown",
   "id": "b56f35ee-43db-4e6e-afb1-6340a492017c",
   "metadata": {},
   "source": [
    "Tức là, $P(t6 > 1.1) = 1 – P(t6 < 1.1) = 0.157$.\n",
    "\n",
    "Tìm định lượng của một trị số tương đương với 95% của một phân phối t với 15\n",
    "bậc tự do:"
   ]
  },
  {
   "cell_type": "code",
   "execution_count": 7,
   "id": "f3383e4a-a019-4f54-964a-7a156829804c",
   "metadata": {},
   "outputs": [
    {
     "data": {
      "text/html": [
       "1.75305035569257"
      ],
      "text/latex": [
       "1.75305035569257"
      ],
      "text/markdown": [
       "1.75305035569257"
      ],
      "text/plain": [
       "[1] 1.75305"
      ]
     },
     "metadata": {},
     "output_type": "display_data"
    }
   ],
   "source": [
    "qt(0.95, 15)"
   ]
  },
  {
   "cell_type": "markdown",
   "id": "58694618-e311-4416-9330-26142f92ade1",
   "metadata": {},
   "source": [
    "Nói cách khác, $P(t_{19} < 1.75035) = 0.95$."
   ]
  },
  {
   "cell_type": "markdown",
   "id": "9cb0b0e3-6625-4e9e-afea-e7e8497227fa",
   "metadata": {},
   "source": [
    "#### 6.3.5.3 Phân phối F. \n",
    "Tỉ số giữa hai biến số theo luật phân phối χ2 có thể chứng minh là tuân theo luật phân phối F. Nói cách khác, nếu $\\mu \\sim \\chi_n^2$ và $\\upsilon \\sim \\chi_m^2$ , thì $\\dfrac{u}{v} \\sim F_{n,m}$ trong đó n là bặc tự do tử số (numerator degrees of freedom) và m là bặc tự do mẫu số (denominator degrees of freedom).\n",
    "\n",
    "**Ví dụ 11:** Tìm xác suất mà một trị số F lớn hơn 3.24, biết rằng biến số đó tuân\n",
    "theo luật phân phối F với bậc tự do 3 và 15 df và thông số non-centrality 5:"
   ]
  },
  {
   "cell_type": "code",
   "execution_count": 8,
   "id": "bf7a6f48-559c-4b19-933f-014e77e6bef2",
   "metadata": {},
   "outputs": [
    {
     "data": {
      "text/html": [
       "0.355872126837963"
      ],
      "text/latex": [
       "0.355872126837963"
      ],
      "text/markdown": [
       "0.355872126837963"
      ],
      "text/plain": [
       "[1] 0.3558721"
      ]
     },
     "metadata": {},
     "output_type": "display_data"
    }
   ],
   "source": [
    "1-pf(3.24, 3, 15, 5)"
   ]
  },
  {
   "cell_type": "markdown",
   "id": "8aec5551-c88b-4fa6-b8e8-8e285338598e",
   "metadata": {},
   "source": [
    "Do đó, $P(F_{3, 15, 5} > 3.24) = 1 - P(F_{3, 15,5} ≥ 3.24) = 0.355338$.\n",
    "\n",
    "Với bậc tự do 3 và 15, tìm C sao cho $P(F_{3, 15} > C) = 0.05$. Lời giải của R là:"
   ]
  },
  {
   "cell_type": "code",
   "execution_count": 9,
   "id": "fe6d8ec5-e406-4b4a-8eb2-cceacee4619b",
   "metadata": {},
   "outputs": [
    {
     "data": {
      "text/html": [
       "3.28738210463651"
      ],
      "text/latex": [
       "3.28738210463651"
      ],
      "text/markdown": [
       "3.28738210463651"
      ],
      "text/plain": [
       "[1] 3.287382"
      ]
     },
     "metadata": {},
     "output_type": "display_data"
    }
   ],
   "source": [
    "qf(1-0.05, 3, 15)"
   ]
  },
  {
   "cell_type": "markdown",
   "id": "48b56b7e-9f88-4f15-83ee-a1d0f1701c4b",
   "metadata": {},
   "source": [
    "Nói cách khác, $P(F_{3, 15} > 3.287382) = 1 – P(F_{3, 15} ≥ 3.287382) = 1 – 0.95 = 0.05$"
   ]
  },
  {
   "cell_type": "markdown",
   "id": "4894d63c-f9cb-43f4-9f8e-560196a285c1",
   "metadata": {},
   "source": [
    "## 6.4 Mô phỏng (simulation)\n",
    "\n",
    "Trong phân tích thống kê, đôi khi vì hạn chế số mẫu chúng ta khó có thể ước tính\n",
    "một cách chính xác các thông số, và trong trường hợp bất định đó, chúng ta cần đến mô\n",
    "phỏng để biết được độ dao động của một hay nhiều thông số. Mô phỏng thường dựa vào\n",
    "các luật phân phối. Đây là một lĩnh vực khá phức tạp mà tôi không có ý định trình bày\n",
    "đầy đủ trong chương này. Ở đây, tôi chỉ trình bày một số mô hình mô phỏng mang tính\n",
    "minh họa để bạn đọc có thể dựa vào đó mà phát triển thêm.\n",
    "\n",
    "Ví dụ 11: Mô phỏng để chứng minh phương sai của số trung bình bằng phương sai chia cho n $(var(\\bar X) = \\dfrac{\\sigma^2}{n})$. Chúng ta sẽ xem một biến số không liên tục x với giá trị 1, 3 và 5 với xác suất như sau:\n",
    "\n",
    "| x | P(x) |\n",
    "|---|---|\n",
    "| 1 | 0.60 |\n",
    "| 3 | 0.30 |\n",
    "| 5 | 0.10 |"
   ]
  },
  {
   "cell_type": "markdown",
   "id": "42281a04-1786-451c-8c4d-d5535bb8952a",
   "metadata": {},
   "source": [
    "Qua số liệu này, chúng ta biết rằng giá trị trung bình là (1x0.60)+(3x0.30)+(5x0.10) = 2.0\n",
    "và phương sai (bạn đọc có thể tự tính) là 1.8.\n",
    "\n",
    "Bây giờ chúng ta sử dụng hai thông số này để thử mô phỏng 500 lần. Lệnh thứ nhất tạo\n",
    "ra 3 giá trị của x. Lệnh thứ hai nhập số xác suất cho từng giá trị của x. Lệnh **sample**\n",
    "yêu cầu R tạo nên 500 số ngẫu nhiên và cho vào đối tượng **draws**."
   ]
  },
  {
   "cell_type": "code",
   "execution_count": 11,
   "id": "315ec43b-6f59-4e83-a5d6-1ba99d173e83",
   "metadata": {},
   "outputs": [
    {
     "data": {
      "image/png": "[encoded data removed]",
      "text/plain": [
       "Plot with title \"1000 draws\""
      ]
     },
     "metadata": {
      "image/png": {
       "height": 420,
       "width": 420
      }
     },
     "output_type": "display_data"
    }
   ],
   "source": [
    "x <- c(1, 3, 5)\n",
    "px <- c(0.6, 0.3, 0.1)\n",
    "draws <- sample(x, size=500, replace=T, prob=px)\n",
    "hist(draws, breaks=seq(1,5, by=0.25), main='1000 draws')"
   ]
  },
  {
   "cell_type": "markdown",
   "id": "0b4ed233-b8f4-448a-87d5-05b99ee8654d",
   "metadata": {},
   "source": [
    "Từ luật phân phối xác suất chúng ta biết rằng tính trung bình sẽ có 60% lần có giá\n",
    "trị “1”, 30% có giá trị “2”, và 10% có giá trị “5”. Do đó, chúng ta kì vọng sẽ quan sát\n",
    "300, 150 và 50 lần cho mỗi giá trị. Biểu đồ trên cho thấy phân phối các giá trị này gần\n",
    "với giá trị mà chúng ta kì vọng. Ngoài ra, chúng ta cũng biết rằng phương sai của biến số\n",
    "này là khoảng 1.8. Bây giờ chúng ta kiểm tra xem có đúng như kì vọng hay không:"
   ]
  },
  {
   "cell_type": "code",
   "execution_count": 12,
   "id": "8bb254bc-f821-49dc-8c28-74db1080124c",
   "metadata": {},
   "outputs": [
    {
     "data": {
      "text/html": [
       "1.5935871743487"
      ],
      "text/latex": [
       "1.5935871743487"
      ],
      "text/markdown": [
       "1.5935871743487"
      ],
      "text/plain": [
       "[1] 1.593587"
      ]
     },
     "metadata": {},
     "output_type": "display_data"
    }
   ],
   "source": [
    "var(draws)"
   ]
  },
  {
   "cell_type": "markdown",
   "id": "23d427ab-d5a3-4213-a26f-0394537e25ab",
   "metadata": {},
   "source": [
    "Kết quả trên cho thấy phương sai của 500 mẫu là 1.836, tức không xa mấy so với giá trị\n",
    "kì vọng.\n",
    "\n",
    "Bây giờ chúng ta thử mô phỏng 500 giá trị trung bình $\\bar x$ ( $\\bar x$ là số trung bình của 4 số liệu mô phỏng) từ quần thể trên:"
   ]
  },
  {
   "cell_type": "code",
   "execution_count": 13,
   "id": "ac4d4270-2255-4e0c-95fa-62b64148d9c2",
   "metadata": {},
   "outputs": [],
   "source": [
    "draws <- sample(x, size=4*500, replace=T, prob=px)\n",
    "draws = matrix(draws, 4)\n",
    "drawmeans = apply(draws, 2, mean)"
   ]
  },
  {
   "cell_type": "markdown",
   "id": "3d31869d-af40-4d0f-8311-6ece624c4ff9",
   "metadata": {},
   "source": [
    "Lệnh thứ nhất và thứ hai tạo nên đối tượng tên là draws với 4 dòng, mỗi dòng có 500\n",
    "giá trị từ luật phân phối trên. Nói cách khác, chúng ta có 4*500 = 2000 số. 500 số cũng\n",
    "có nghĩa là 500 cột: 1 đến 500. Tức mỗi cột có 4 số. Lệnh thứ ba tìm trị số trung bình\n",
    "cho mỗi cột. Lệnh này sẽ cho ra 500 số trung bình và chứa trong đối tượng\n",
    "**drawmeans**. Biểu đồ sau đây cho thấy phân phối của 500 số trung bình:"
   ]
  },
  {
   "cell_type": "code",
   "execution_count": 14,
   "id": "2c5b02dc-cb9c-40c0-806a-263ee40a5d9c",
   "metadata": {},
   "outputs": [
    {
     "data": {
      "image/png": "[encoded data removed]",
      "text/plain": [
       "Plot with title \"1000 means of 4 draws\""
      ]
     },
     "metadata": {
      "image/png": {
       "height": 420,
       "width": 420
      }
     },
     "output_type": "display_data"
    }
   ],
   "source": [
    "hist(drawmeans,breaks=seq(1,5,by=0.25), main='1000 means of 4 draws')"
   ]
  },
  {
   "cell_type": "markdown",
   "id": "b533a142-930c-4264-b6a3-08c9f2363ed1",
   "metadata": {},
   "source": [
    "Chúng ta thấy rằng phương sai của phân phối này nhỏ hơn. Thật ra, phương sai của 500\n",
    "số trung bình này là 0.45."
   ]
  },
  {
   "cell_type": "code",
   "execution_count": 15,
   "id": "d76ac8f4-52e5-46b6-ae83-33e131938368",
   "metadata": {},
   "outputs": [
    {
     "data": {
      "text/html": [
       "0.465429859719439"
      ],
      "text/latex": [
       "0.465429859719439"
      ],
      "text/markdown": [
       "0.465429859719439"
      ],
      "text/plain": [
       "[1] 0.4654299"
      ]
     },
     "metadata": {},
     "output_type": "display_data"
    }
   ],
   "source": [
    "var(drawmeans)"
   ]
  },
  {
   "cell_type": "markdown",
   "id": "91087b27-2ae5-4eb1-8787-ea99ddf464a2",
   "metadata": {},
   "source": [
    "Đây là giá trị tương đương với giá trị 0.45 mà chúng ta kì vọng từ công thức $(var(\\bar X) = \\dfrac{\\sigma^2}{4}) = \\dfrac{1.8}{4} = 0.45$ ."
   ]
  },
  {
   "cell_type": "markdown",
   "id": "2b7c11b0-ea78-4ff1-8921-19013e4d5ad8",
   "metadata": {},
   "source": [
    "### 6.4.1 Mô phỏng phân phối nhị phân\n",
    "\n",
    "**Ví dụ 12:** Mô phỏng mẫu từ một quần thể với luật phân phối nhị phân. Giả\n",
    "dụ chúng ta biết một quần thể có 20% người bị bệnh đái đường (xác suất $p=0.2$). Chúng\n",
    "ta muốn lấy mẫu từ quần thể này, mỗi mẫu có 20 đối tượng, và phương án chọn mẫu\n",
    "được lặp lại 100 lần:"
   ]
  },
  {
   "cell_type": "code",
   "execution_count": 17,
   "id": "155fc61e-b5de-448e-87da-65decf786c76",
   "metadata": {},
   "outputs": [
    {
     "data": {
      "text/html": [
       "<style>\n",
       ".list-inline {list-style: none; margin:0; padding: 0}\n",
       ".list-inline>li {display: inline-block}\n",
       ".list-inline>li:not(:last-child)::after {content: \"\\00b7\"; padding: 0 .5ex}\n",
       "</style>\n",
       "<ol class=list-inline><li>3</li><li>2</li><li>8</li><li>1</li><li>7</li><li>4</li><li>7</li><li>4</li><li>4</li><li>2</li><li>3</li><li>3</li><li>4</li><li>2</li><li>5</li><li>6</li><li>4</li><li>2</li><li>5</li><li>3</li><li>5</li><li>0</li><li>5</li><li>2</li><li>4</li><li>3</li><li>0</li><li>6</li><li>4</li><li>3</li><li>4</li><li>2</li><li>6</li><li>4</li><li>1</li><li>5</li><li>4</li><li>8</li><li>1</li><li>3</li><li>5</li><li>4</li><li>5</li><li>5</li><li>6</li><li>2</li><li>4</li><li>7</li><li>7</li><li>2</li><li>2</li><li>3</li><li>4</li><li>3</li><li>6</li><li>9</li><li>2</li><li>2</li><li>4</li><li>5</li><li>3</li><li>1</li><li>5</li><li>3</li><li>4</li><li>2</li><li>2</li><li>4</li><li>2</li><li>5</li><li>4</li><li>4</li><li>5</li><li>2</li><li>6</li><li>5</li><li>5</li><li>5</li><li>5</li><li>4</li><li>2</li><li>5</li><li>4</li><li>1</li><li>3</li><li>6</li><li>6</li><li>11</li><li>2</li><li>3</li><li>3</li><li>5</li><li>4</li><li>1</li><li>2</li><li>4</li><li>5</li><li>4</li><li>7</li><li>3</li></ol>\n"
      ],
      "text/latex": [
       "\\begin{enumerate*}\n",
       "\\item 3\n",
       "\\item 2\n",
       "\\item 8\n",
       "\\item 1\n",
       "\\item 7\n",
       "\\item 4\n",
       "\\item 7\n",
       "\\item 4\n",
       "\\item 4\n",
       "\\item 2\n",
       "\\item 3\n",
       "\\item 3\n",
       "\\item 4\n",
       "\\item 2\n",
       "\\item 5\n",
       "\\item 6\n",
       "\\item 4\n",
       "\\item 2\n",
       "\\item 5\n",
       "\\item 3\n",
       "\\item 5\n",
       "\\item 0\n",
       "\\item 5\n",
       "\\item 2\n",
       "\\item 4\n",
       "\\item 3\n",
       "\\item 0\n",
       "\\item 6\n",
       "\\item 4\n",
       "\\item 3\n",
       "\\item 4\n",
       "\\item 2\n",
       "\\item 6\n",
       "\\item 4\n",
       "\\item 1\n",
       "\\item 5\n",
       "\\item 4\n",
       "\\item 8\n",
       "\\item 1\n",
       "\\item 3\n",
       "\\item 5\n",
       "\\item 4\n",
       "\\item 5\n",
       "\\item 5\n",
       "\\item 6\n",
       "\\item 2\n",
       "\\item 4\n",
       "\\item 7\n",
       "\\item 7\n",
       "\\item 2\n",
       "\\item 2\n",
       "\\item 3\n",
       "\\item 4\n",
       "\\item 3\n",
       "\\item 6\n",
       "\\item 9\n",
       "\\item 2\n",
       "\\item 2\n",
       "\\item 4\n",
       "\\item 5\n",
       "\\item 3\n",
       "\\item 1\n",
       "\\item 5\n",
       "\\item 3\n",
       "\\item 4\n",
       "\\item 2\n",
       "\\item 2\n",
       "\\item 4\n",
       "\\item 2\n",
       "\\item 5\n",
       "\\item 4\n",
       "\\item 4\n",
       "\\item 5\n",
       "\\item 2\n",
       "\\item 6\n",
       "\\item 5\n",
       "\\item 5\n",
       "\\item 5\n",
       "\\item 5\n",
       "\\item 4\n",
       "\\item 2\n",
       "\\item 5\n",
       "\\item 4\n",
       "\\item 1\n",
       "\\item 3\n",
       "\\item 6\n",
       "\\item 6\n",
       "\\item 11\n",
       "\\item 2\n",
       "\\item 3\n",
       "\\item 3\n",
       "\\item 5\n",
       "\\item 4\n",
       "\\item 1\n",
       "\\item 2\n",
       "\\item 4\n",
       "\\item 5\n",
       "\\item 4\n",
       "\\item 7\n",
       "\\item 3\n",
       "\\end{enumerate*}\n"
      ],
      "text/markdown": [
       "1. 3\n",
       "2. 2\n",
       "3. 8\n",
       "4. 1\n",
       "5. 7\n",
       "6. 4\n",
       "7. 7\n",
       "8. 4\n",
       "9. 4\n",
       "10. 2\n",
       "11. 3\n",
       "12. 3\n",
       "13. 4\n",
       "14. 2\n",
       "15. 5\n",
       "16. 6\n",
       "17. 4\n",
       "18. 2\n",
       "19. 5\n",
       "20. 3\n",
       "21. 5\n",
       "22. 0\n",
       "23. 5\n",
       "24. 2\n",
       "25. 4\n",
       "26. 3\n",
       "27. 0\n",
       "28. 6\n",
       "29. 4\n",
       "30. 3\n",
       "31. 4\n",
       "32. 2\n",
       "33. 6\n",
       "34. 4\n",
       "35. 1\n",
       "36. 5\n",
       "37. 4\n",
       "38. 8\n",
       "39. 1\n",
       "40. 3\n",
       "41. 5\n",
       "42. 4\n",
       "43. 5\n",
       "44. 5\n",
       "45. 6\n",
       "46. 2\n",
       "47. 4\n",
       "48. 7\n",
       "49. 7\n",
       "50. 2\n",
       "51. 2\n",
       "52. 3\n",
       "53. 4\n",
       "54. 3\n",
       "55. 6\n",
       "56. 9\n",
       "57. 2\n",
       "58. 2\n",
       "59. 4\n",
       "60. 5\n",
       "61. 3\n",
       "62. 1\n",
       "63. 5\n",
       "64. 3\n",
       "65. 4\n",
       "66. 2\n",
       "67. 2\n",
       "68. 4\n",
       "69. 2\n",
       "70. 5\n",
       "71. 4\n",
       "72. 4\n",
       "73. 5\n",
       "74. 2\n",
       "75. 6\n",
       "76. 5\n",
       "77. 5\n",
       "78. 5\n",
       "79. 5\n",
       "80. 4\n",
       "81. 2\n",
       "82. 5\n",
       "83. 4\n",
       "84. 1\n",
       "85. 3\n",
       "86. 6\n",
       "87. 6\n",
       "88. 11\n",
       "89. 2\n",
       "90. 3\n",
       "91. 3\n",
       "92. 5\n",
       "93. 4\n",
       "94. 1\n",
       "95. 2\n",
       "96. 4\n",
       "97. 5\n",
       "98. 4\n",
       "99. 7\n",
       "100. 3\n",
       "\n",
       "\n"
      ],
      "text/plain": [
       "  [1]  3  2  8  1  7  4  7  4  4  2  3  3  4  2  5  6  4  2  5  3  5  0  5  2  4\n",
       " [26]  3  0  6  4  3  4  2  6  4  1  5  4  8  1  3  5  4  5  5  6  2  4  7  7  2\n",
       " [51]  2  3  4  3  6  9  2  2  4  5  3  1  5  3  4  2  2  4  2  5  4  4  5  2  6\n",
       " [76]  5  5  5  5  4  2  5  4  1  3  6  6 11  2  3  3  5  4  1  2  4  5  4  7  3"
      ]
     },
     "metadata": {},
     "output_type": "display_data"
    }
   ],
   "source": [
    "bin <- rbinom(100, 20, 0.2)\n",
    "bin"
   ]
  },
  {
   "cell_type": "markdown",
   "id": "58ad323c-6b76-4633-ad7b-375ba4433079",
   "metadata": {},
   "source": [
    "Kết quả trên là số lần đầu, chúng ta sẽ có 4 người mắc bệnh; lần 2 cũng 4 người; lần 3 có\n",
    "5 người mắc bệnh; v.v… kết quả này có thể tóm lược trong một biểu đồ như sau:"
   ]
  },
  {
   "cell_type": "code",
   "execution_count": 18,
   "id": "e82ef1d5-d271-4cca-b984-ce97fa16a0f8",
   "metadata": {},
   "outputs": [
    {
     "data": {
      "image/png": "[encoded data removed]",
      "text/plain": [
       "Plot with title \"Distribution of the number of diabetic patients\""
      ]
     },
     "metadata": {
      "image/png": {
       "height": 420,
       "width": 420
      }
     },
     "output_type": "display_data"
    }
   ],
   "source": [
    "hist(bin,\n",
    "    xlab='Number of diabetic patients',\n",
    "    ylab='Number of samples',\n",
    "    main='Distribution of the number of diabetic patients')"
   ]
  },
  {
   "cell_type": "code",
   "execution_count": 19,
   "id": "048d04e8-f29b-428d-b3f2-ed25a690b40f",
   "metadata": {},
   "outputs": [
    {
     "data": {
      "text/html": [
       "3.93"
      ],
      "text/latex": [
       "3.93"
      ],
      "text/markdown": [
       "3.93"
      ],
      "text/plain": [
       "[1] 3.93"
      ]
     },
     "metadata": {},
     "output_type": "display_data"
    }
   ],
   "source": [
    "mean(bin)"
   ]
  },
  {
   "cell_type": "markdown",
   "id": "dd98afde-8f30-42e0-b03a-c268cb5cf5ae",
   "metadata": {},
   "source": [
    "### 6.4.2 Mô phỏng phân phối Poisson\n",
    "**Ví dụ 13:** Mô phỏng mẫu từ một quần thể với luật phân phối Poisson. Trong\n",
    "ví dụ sau đây, chúng ta mô phỏng 100 mẫu từ một quần thể tuân theo luật phân phối\n",
    "Poisson với trung bình $\\lambda=3$:"
   ]
  },
  {
   "cell_type": "code",
   "execution_count": 20,
   "id": "58d91198-7fe3-4e22-a56f-17f810895355",
   "metadata": {},
   "outputs": [
    {
     "data": {
      "text/html": [
       "<style>\n",
       ".list-inline {list-style: none; margin:0; padding: 0}\n",
       ".list-inline>li {display: inline-block}\n",
       ".list-inline>li:not(:last-child)::after {content: \"\\00b7\"; padding: 0 .5ex}\n",
       "</style>\n",
       "<ol class=list-inline><li>2</li><li>4</li><li>1</li><li>6</li><li>3</li><li>1</li><li>2</li><li>4</li><li>1</li><li>4</li><li>1</li><li>3</li><li>2</li><li>2</li><li>1</li><li>7</li><li>4</li><li>2</li><li>3</li><li>6</li><li>3</li><li>0</li><li>4</li><li>4</li><li>5</li><li>0</li><li>3</li><li>3</li><li>0</li><li>2</li><li>2</li><li>6</li><li>7</li><li>3</li><li>1</li><li>1</li><li>1</li><li>6</li><li>2</li><li>3</li><li>4</li><li>2</li><li>1</li><li>3</li><li>7</li><li>3</li><li>1</li><li>3</li><li>3</li><li>5</li><li>2</li><li>5</li><li>9</li><li>8</li><li>2</li><li>2</li><li>2</li><li>4</li><li>1</li><li>2</li><li>4</li><li>6</li><li>6</li><li>6</li><li>2</li><li>3</li><li>3</li><li>7</li><li>4</li><li>2</li><li>4</li><li>3</li><li>4</li><li>0</li><li>2</li><li>4</li><li>4</li><li>3</li><li>2</li><li>3</li><li>5</li><li>2</li><li>4</li><li>5</li><li>0</li><li>2</li><li>2</li><li>3</li><li>4</li><li>1</li><li>6</li><li>4</li><li>4</li><li>4</li><li>5</li><li>1</li><li>3</li><li>4</li><li>5</li><li>1</li></ol>\n"
      ],
      "text/latex": [
       "\\begin{enumerate*}\n",
       "\\item 2\n",
       "\\item 4\n",
       "\\item 1\n",
       "\\item 6\n",
       "\\item 3\n",
       "\\item 1\n",
       "\\item 2\n",
       "\\item 4\n",
       "\\item 1\n",
       "\\item 4\n",
       "\\item 1\n",
       "\\item 3\n",
       "\\item 2\n",
       "\\item 2\n",
       "\\item 1\n",
       "\\item 7\n",
       "\\item 4\n",
       "\\item 2\n",
       "\\item 3\n",
       "\\item 6\n",
       "\\item 3\n",
       "\\item 0\n",
       "\\item 4\n",
       "\\item 4\n",
       "\\item 5\n",
       "\\item 0\n",
       "\\item 3\n",
       "\\item 3\n",
       "\\item 0\n",
       "\\item 2\n",
       "\\item 2\n",
       "\\item 6\n",
       "\\item 7\n",
       "\\item 3\n",
       "\\item 1\n",
       "\\item 1\n",
       "\\item 1\n",
       "\\item 6\n",
       "\\item 2\n",
       "\\item 3\n",
       "\\item 4\n",
       "\\item 2\n",
       "\\item 1\n",
       "\\item 3\n",
       "\\item 7\n",
       "\\item 3\n",
       "\\item 1\n",
       "\\item 3\n",
       "\\item 3\n",
       "\\item 5\n",
       "\\item 2\n",
       "\\item 5\n",
       "\\item 9\n",
       "\\item 8\n",
       "\\item 2\n",
       "\\item 2\n",
       "\\item 2\n",
       "\\item 4\n",
       "\\item 1\n",
       "\\item 2\n",
       "\\item 4\n",
       "\\item 6\n",
       "\\item 6\n",
       "\\item 6\n",
       "\\item 2\n",
       "\\item 3\n",
       "\\item 3\n",
       "\\item 7\n",
       "\\item 4\n",
       "\\item 2\n",
       "\\item 4\n",
       "\\item 3\n",
       "\\item 4\n",
       "\\item 0\n",
       "\\item 2\n",
       "\\item 4\n",
       "\\item 4\n",
       "\\item 3\n",
       "\\item 2\n",
       "\\item 3\n",
       "\\item 5\n",
       "\\item 2\n",
       "\\item 4\n",
       "\\item 5\n",
       "\\item 0\n",
       "\\item 2\n",
       "\\item 2\n",
       "\\item 3\n",
       "\\item 4\n",
       "\\item 1\n",
       "\\item 6\n",
       "\\item 4\n",
       "\\item 4\n",
       "\\item 4\n",
       "\\item 5\n",
       "\\item 1\n",
       "\\item 3\n",
       "\\item 4\n",
       "\\item 5\n",
       "\\item 1\n",
       "\\end{enumerate*}\n"
      ],
      "text/markdown": [
       "1. 2\n",
       "2. 4\n",
       "3. 1\n",
       "4. 6\n",
       "5. 3\n",
       "6. 1\n",
       "7. 2\n",
       "8. 4\n",
       "9. 1\n",
       "10. 4\n",
       "11. 1\n",
       "12. 3\n",
       "13. 2\n",
       "14. 2\n",
       "15. 1\n",
       "16. 7\n",
       "17. 4\n",
       "18. 2\n",
       "19. 3\n",
       "20. 6\n",
       "21. 3\n",
       "22. 0\n",
       "23. 4\n",
       "24. 4\n",
       "25. 5\n",
       "26. 0\n",
       "27. 3\n",
       "28. 3\n",
       "29. 0\n",
       "30. 2\n",
       "31. 2\n",
       "32. 6\n",
       "33. 7\n",
       "34. 3\n",
       "35. 1\n",
       "36. 1\n",
       "37. 1\n",
       "38. 6\n",
       "39. 2\n",
       "40. 3\n",
       "41. 4\n",
       "42. 2\n",
       "43. 1\n",
       "44. 3\n",
       "45. 7\n",
       "46. 3\n",
       "47. 1\n",
       "48. 3\n",
       "49. 3\n",
       "50. 5\n",
       "51. 2\n",
       "52. 5\n",
       "53. 9\n",
       "54. 8\n",
       "55. 2\n",
       "56. 2\n",
       "57. 2\n",
       "58. 4\n",
       "59. 1\n",
       "60. 2\n",
       "61. 4\n",
       "62. 6\n",
       "63. 6\n",
       "64. 6\n",
       "65. 2\n",
       "66. 3\n",
       "67. 3\n",
       "68. 7\n",
       "69. 4\n",
       "70. 2\n",
       "71. 4\n",
       "72. 3\n",
       "73. 4\n",
       "74. 0\n",
       "75. 2\n",
       "76. 4\n",
       "77. 4\n",
       "78. 3\n",
       "79. 2\n",
       "80. 3\n",
       "81. 5\n",
       "82. 2\n",
       "83. 4\n",
       "84. 5\n",
       "85. 0\n",
       "86. 2\n",
       "87. 2\n",
       "88. 3\n",
       "89. 4\n",
       "90. 1\n",
       "91. 6\n",
       "92. 4\n",
       "93. 4\n",
       "94. 4\n",
       "95. 5\n",
       "96. 1\n",
       "97. 3\n",
       "98. 4\n",
       "99. 5\n",
       "100. 1\n",
       "\n",
       "\n"
      ],
      "text/plain": [
       "  [1] 2 4 1 6 3 1 2 4 1 4 1 3 2 2 1 7 4 2 3 6 3 0 4 4 5 0 3 3 0 2 2 6 7 3 1 1 1\n",
       " [38] 6 2 3 4 2 1 3 7 3 1 3 3 5 2 5 9 8 2 2 2 4 1 2 4 6 6 6 2 3 3 7 4 2 4 3 4 0\n",
       " [75] 2 4 4 3 2 3 5 2 4 5 0 2 2 3 4 1 6 4 4 4 5 1 3 4 5 1"
      ]
     },
     "metadata": {},
     "output_type": "display_data"
    }
   ],
   "source": [
    "pois <- rpois(100, lambda=3)\n",
    "pois"
   ]
  },
  {
   "cell_type": "code",
   "execution_count": 21,
   "id": "656a9175-4512-471b-92ae-7cfacec99a64",
   "metadata": {},
   "outputs": [
    {
     "data": {
      "image/png": "[encoded data removed]",
      "text/plain": [
       "Plot with title \"Histogram of pois\""
      ]
     },
     "metadata": {
      "image/png": {
       "height": 420,
       "width": 420
      }
     },
     "output_type": "display_data"
    }
   ],
   "source": [
    "hist(pois,\n",
    "    xlab='pois',\n",
    "    ylab='Frequency',\n",
    "    main='Histogram of pois')"
   ]
  },
  {
   "cell_type": "markdown",
   "id": "2078023d-36bf-4e0d-a124-1bc35ae37a2d",
   "metadata": {},
   "source": [
    "Và mật độ phân phối:\n",
    "\n",
    "Phân phối Poisson và phân phối mũ. Trong ví dụ sau đây, chúng ta mô phỏng\n",
    "thời gian bệnh nhân đến một bệnh viện. Biết rằng bệnh nhân đến bệnh viện một cách\n",
    "ngẫu nhiên theo luật phân phối Poisson, với trung bình 15 bệnh nhân cho mỗi 150 phút.\n",
    "Có thể chứng minh dễ dàng rằng thời gian giữa hai bệnh nhân đến bệnh viện tuân theo\n",
    "luật phân phối mũ. Chúng ta muốn biết thời gian mà bệnh nhân ghé bệnh viện; do đó,\n",
    "chúng ta mô phỏng 15 thời gian giữa hai bệnh nhân từ luật phân phối mũ với tỉ lệ 15/150\n",
    "= 0.1 mỗi phút. Các lệnh sau đây đáp ứng yêu cầu đó:"
   ]
  },
  {
   "cell_type": "code",
   "execution_count": 22,
   "id": "054042d7-a2f5-41c1-ac73-8be1ebd87e61",
   "metadata": {},
   "outputs": [
    {
     "data": {
      "text/html": [
       "<style>\n",
       ".list-inline {list-style: none; margin:0; padding: 0}\n",
       ".list-inline>li {display: inline-block}\n",
       ".list-inline>li:not(:last-child)::after {content: \"\\00b7\"; padding: 0 .5ex}\n",
       "</style>\n",
       "<ol class=list-inline><li>4</li><li>5</li><li>5</li><li>0</li><li>10</li><li>10</li><li>32</li><li>10</li><li>5</li><li>5</li><li>4</li><li>14</li><li>23</li><li>8</li><li>2</li></ol>\n"
      ],
      "text/latex": [
       "\\begin{enumerate*}\n",
       "\\item 4\n",
       "\\item 5\n",
       "\\item 5\n",
       "\\item 0\n",
       "\\item 10\n",
       "\\item 10\n",
       "\\item 32\n",
       "\\item 10\n",
       "\\item 5\n",
       "\\item 5\n",
       "\\item 4\n",
       "\\item 14\n",
       "\\item 23\n",
       "\\item 8\n",
       "\\item 2\n",
       "\\end{enumerate*}\n"
      ],
      "text/markdown": [
       "1. 4\n",
       "2. 5\n",
       "3. 5\n",
       "4. 0\n",
       "5. 10\n",
       "6. 10\n",
       "7. 32\n",
       "8. 10\n",
       "9. 5\n",
       "10. 5\n",
       "11. 4\n",
       "12. 14\n",
       "13. 23\n",
       "14. 8\n",
       "15. 2\n",
       "\n",
       "\n"
      ],
      "text/plain": [
       " [1]  4  5  5  0 10 10 32 10  5  5  4 14 23  8  2"
      ]
     },
     "metadata": {},
     "output_type": "display_data"
    }
   ],
   "source": [
    "# Tạo thời gian đến bệnh viện\n",
    "appoint <- rexp(15, 0.1)\n",
    "times <- round(appoint,0)\n",
    "times"
   ]
  },
  {
   "cell_type": "markdown",
   "id": "e273c5db-72d1-4aee-be1f-bf2c970770af",
   "metadata": {},
   "source": [
    "### 6.4.3 Mô phỏng phân phối $\\chi^2$, t, F\n",
    "Cách mô phỏng trên đây còn có thể áp dụng cho các luật phân phối khác như nhị phân\n",
    "âm (negative binomial distribution với **rnbinom**), gamma (**rgamma**), beta (**rbeta**),\n",
    "Chi bình phương (**rchisq**), hàm mũ (**rexp**), t (**rt**), F (**rf**), v.v… Các thông số cho các\n",
    "hàm mô phỏng này có thể tìm trong phần đầu của chương.\n",
    "Các lệnh sau đây sẽ minh họa các luật phân phối thông thường đó:"
   ]
  },
  {
   "cell_type": "markdown",
   "id": "5eac242c-1789-44a4-9dff-7d64d9d81baa",
   "metadata": {},
   "source": [
    "**Phân phối Chi bình phương với một số bậc tự do:**\n"
   ]
  },
  {
   "cell_type": "code",
   "execution_count": 24,
   "id": "6c2e6377-d853-4d0f-986d-86d906372bf5",
   "metadata": {},
   "outputs": [
    {
     "data": {
      "image/png": "[encoded data removed]",
      "text/plain": [
       "plot without title"
      ]
     },
     "metadata": {
      "image/png": {
       "height": 420,
       "width": 420
      }
     },
     "output_type": "display_data"
    }
   ],
   "source": [
    "curve(dchisq(x, 1), xlim=c(0,10), ylim=c(0,0.6), col='red', lwd=3)\n",
    "curve(dchisq(x, 2), add=T, col='green', lwd=3)\n",
    "curve(dchisq(x, 3), add=T, col='blue', lwd=3)\n",
    "curve(dchisq(x, 5), add=T, col='orange', lwd=3)\n",
    "abline(h=0, lty=3)\n",
    "abline(v=0, lty=3)\n",
    "legend(par('usr')[2], par('usr')[4], xjust=1, \n",
    "       c('df=1', 'df=2', 'df=3', 'df=5'), lwd=3, lty=1, \n",
    "       col=c('red', 'green', 'blue', 'orange'))"
   ]
  },
  {
   "cell_type": "markdown",
   "id": "f2800366-43a0-4d75-ac55-f20c21fda3f1",
   "metadata": {},
   "source": [
    "Biểu đồ 4. Phân phối Chi bình phương với bậc tự\n",
    "do = 1, 2, 3, 5.\n",
    "\n",
    "**Phân phối t:**"
   ]
  },
  {
   "cell_type": "code",
   "execution_count": 28,
   "id": "0c269587-3807-417e-bb3d-7184a752d46e",
   "metadata": {},
   "outputs": [
    {
     "data": {
      "image/png": "[encoded data removed]",
      "text/plain": [
       "Plot with title \"Student T distributions\""
      ]
     },
     "metadata": {
      "image/png": {
       "height": 420,
       "width": 420
      }
     },
     "output_type": "display_data"
    }
   ],
   "source": [
    "curve(dt(x, 1), xlim=c(-3,3), ylim=c(0,0.4), col='red', lwd=3)\n",
    "curve(dt(x, 2), add=T, col='blue', lwd=3)\n",
    "curve(dt(x, 5), add=T, col='green', lwd=3)\n",
    "curve(dt(x, 10), add=T, col='orange', lwd=3)\n",
    "curve(dnorm(x), add=T, lwd=4, lty=3)\n",
    "title(main='Student T distributions')\n",
    "legend(par('usr')[2], par('usr')[4], \n",
    "       xjust=1, \n",
    "       c('df=1', 'df=2', 'df=5', 'df=10', 'Normal distribution'), \n",
    "       lwd=c(2,2,2,2,2), lty=c(1,1,1,1,3), \n",
    "       col=c('red', 'blue', 'green', 'orange', par('fg')))"
   ]
  },
  {
   "cell_type": "markdown",
   "id": "802c4dd1-98e2-403c-a952-86743b8a12dd",
   "metadata": {},
   "source": [
    "**Biểu đồ 5.** Phân phối t với bậc tự do =1, 2, 5, 10 so\n",
    "sánh với phân phối chuẩn.\n",
    "\n",
    "**Phân phối F:**"
   ]
  },
  {
   "cell_type": "code",
   "execution_count": 29,
   "id": "d612a2f3-cac4-477d-8c30-62ea251df17b",
   "metadata": {},
   "outputs": [
    {
     "data": {
      "image/png": "[encoded data removed]",
      "text/plain": [
       "Plot with title \"Fisher F distributions\""
      ]
     },
     "metadata": {
      "image/png": {
       "height": 420,
       "width": 420
      }
     },
     "output_type": "display_data"
    }
   ],
   "source": [
    "curve(df(x,1,1), xlim=c(0,2), ylim=c(0,0.8), lwd=3)\n",
    "curve(df(x,3,1), add=T)\n",
    "curve(df(x,6,1), add=T, lwd=3)\n",
    "curve(df(x,3,3), add=T, col='red')\n",
    "curve(df(x,6,3), add=T, col='red', lwd=3)\n",
    "curve(df(x,3,6), add=T, col='blue')\n",
    "curve(df(x,6,6), add=T, col='blue', lwd=3)\n",
    "title(main='Fisher F distributions')\n",
    "legend(par('usr')[2], par('usr')[4],\n",
    "    xjust=1,\n",
    "    c('df=1,1', 'df=3,1', 'df=6,1', 'df=3,3', 'df=6,3',\n",
    "    'df=3,6', df='6,6'),\n",
    "    lwd=c(1,1,3,1,3,1,3),\n",
    "    lty=c(2,1,1,1,1,1,1),\n",
    "    col=c(par('fg'), par('fg'), par('fg'), 'red', 'blue', 'blue'))"
   ]
  },
  {
   "cell_type": "markdown",
   "id": "ff5510cb-1c81-4d7a-9022-3144cf2f65a5",
   "metadata": {},
   "source": [
    "**Biểu đồ 6.** Phân phối F với nhiều bậc tự do khác\n",
    "nhau.\n",
    "\n",
    "**Phân phối gamma:**"
   ]
  },
  {
   "cell_type": "code",
   "execution_count": 30,
   "id": "4ccc4bf0-511f-4eda-a825-2d957d270368",
   "metadata": {},
   "outputs": [
    {
     "data": {
      "image/png": "[encoded data removed]",
      "text/plain": [
       "Plot with title \"Gamma probability distribution function\""
      ]
     },
     "metadata": {
      "image/png": {
       "height": 420,
       "width": 420
      }
     },
     "output_type": "display_data"
    }
   ],
   "source": [
    "curve( dgamma(x,1,1), xlim=c(0,5) )\n",
    "curve( dgamma(x,2,1), add=T, col='red' )\n",
    "curve( dgamma(x,3,1), add=T, col='green' )\n",
    "curve( dgamma(x,4,1), add=T, col='blue' )\n",
    "curve( dgamma(x,5,1), add=T, col='orange' )\n",
    "title(main='Gamma probability distribution function')\n",
    "legend(par('usr')[2], par('usr')[4], xjust=1,\n",
    "    c('k=1 (Exponential distribution)', 'k=2', 'k=3', 'k=4', 'k=5'),\n",
    "    lwd=1, lty=1,\n",
    "    col=c(par('fg'), 'red', 'green', 'blue', 'orange') )"
   ]
  },
  {
   "cell_type": "markdown",
   "id": "3c1e33b1-9d35-4cd5-b120-e7cdef01df85",
   "metadata": {},
   "source": [
    "**Biểu đồ 7.** Phân phối Gamma với nhiều hình dạng.\n",
    "\n",
    "**Phân phối beta:**"
   ]
  },
  {
   "cell_type": "code",
   "execution_count": 31,
   "id": "44b5b486-e6e7-4bff-a1b6-dca2735c3523",
   "metadata": {},
   "outputs": [
    {
     "data": {
      "image/png": "[encoded data removed]",
      "text/plain": [
       "Plot with title \"Beta distribution\""
      ]
     },
     "metadata": {
      "image/png": {
       "height": 420,
       "width": 420
      }
     },
     "output_type": "display_data"
    }
   ],
   "source": [
    "curve( dbeta(x,1,1), xlim=c(0,1), ylim=c(0,4) )\n",
    "curve( dbeta(x,2,1), add=T, col='red' )\n",
    "curve( dbeta(x,3,1), add=T, col='green' )\n",
    "curve( dbeta(x,4,1), add=T, col='blue' )\n",
    "curve( dbeta(x,2,2), add=T, lty=2, lwd=2, col='red' )\n",
    "curve( dbeta(x,3,2), add=T, lty=2, lwd=2, col='green' )\n",
    "curve( dbeta(x,4,2), add=T, lty=2, lwd=2, col='blue' )\n",
    "curve( dbeta(x,2,3), add=T, lty=3, lwd=3, col='red' )\n",
    "curve( dbeta(x,3,3), add=T, lty=3, lwd=3, col='green' )\n",
    "curve( dbeta(x,4,3), add=T, lty=3, lwd=3, col='blue' )\n",
    "title(main=\"Beta distribution\")\n",
    "legend(par('usr')[1], par('usr')[4], xjust=0,\n",
    "    c('(1,1)', '(2,1)', '(3,1)', '(4,1)',\n",
    "    '(2,2)', '(3,2)', '(4,2)',\n",
    "    '(2,3)', '(3,3)', '(4,3)' ),\n",
    "    lwd=1, #c(1,1,1,1, 2,2,2, 3,3,3),\n",
    "    lty=c(1,1,1,1, 2,2,2, 3,3,3),\n",
    "    col=c(par('fg'), 'red', 'green', 'blue',\n",
    "    'red', 'green', 'blue',\n",
    "    'red', 'green', 'blue' ))"
   ]
  },
  {
   "cell_type": "markdown",
   "id": "d62c4abc-b5b3-4aa6-95c0-c79b2d2e7863",
   "metadata": {},
   "source": [
    "**Biểu đồ 8.** Phân phối beta với nhiều hình dạng.\n",
    "\n",
    "**Phân phối Weibull:**"
   ]
  },
  {
   "cell_type": "code",
   "execution_count": 32,
   "id": "ee748815-538b-4270-88fa-6d5f529d0141",
   "metadata": {},
   "outputs": [
    {
     "data": {
      "image/png": "[encoded data removed]",
      "text/plain": [
       "Plot with title \"Weibull Probability Distribution Function\""
      ]
     },
     "metadata": {
      "image/png": {
       "height": 420,
       "width": 420
      }
     },
     "output_type": "display_data"
    }
   ],
   "source": [
    "curve(dexp(x), xlim=c(0,3), ylim=c(0,2))\n",
    "curve(dweibull(x,1), lty=3, lwd=3, add=T)\n",
    "curve(dweibull(x,2), col='red', add=T)\n",
    "curve(dweibull(x,.8), col='blue', add=T)\n",
    "title(main=\"Weibull Probability Distribution Function\")\n",
    "legend(par('usr')[2], par('usr')[4], xjust=1,\n",
    "    c('Exponential', 'Weibull, shape=1',\n",
    "    'Weibull, shape=2', 'Weibull, shape=.8'),\n",
    "    lwd=c(1,3,1,1),\n",
    "    lty=c(1,3,1,1),\n",
    "    col=c(par(\"fg\"), par(\"fg\"), 'red', 'blue'))"
   ]
  },
  {
   "cell_type": "markdown",
   "id": "ebff6664-9588-4bf2-ada4-871837a4c7fb",
   "metadata": {},
   "source": [
    "**Biểu đồ 9.** Phân phối Weibull.\n",
    "\n",
    "**Phân phối Cauchy:**"
   ]
  },
  {
   "cell_type": "code",
   "execution_count": 33,
   "id": "b54186e7-b9fd-4fc6-933e-205d3a048b4f",
   "metadata": {},
   "outputs": [
    {
     "data": {
      "image/png": "[encoded data removed]",
      "text/plain": [
       "plot without title"
      ]
     },
     "metadata": {
      "image/png": {
       "height": 420,
       "width": 420
      }
     },
     "output_type": "display_data"
    }
   ],
   "source": [
    "curve(dcauchy(x),xlim=c(-5,5), ylim=c(0,.5), lwd=3)\n",
    "curve(dnorm(x), add=T, col='red', lty=2)\n",
    "legend(par('usr')[2], par('usr')[4], xjust=1,\n",
    "    c('Cauchy distribution', 'Gaussian distribution'),\n",
    "    lwd=c(3,1),\n",
    "    lty=c(1,2),\n",
    "    col=c(par(\"fg\"), 'red'))"
   ]
  },
  {
   "cell_type": "markdown",
   "id": "4d1b022f-dd85-43b0-ab27-125f2fb06307",
   "metadata": {},
   "source": [
    "**Biểu đồ 9.** Phân phối Cauchy so sánh với phân\n",
    "phối chuẩn."
   ]
  },
  {
   "cell_type": "markdown",
   "id": "c2ce59df-80b9-45d4-b188-48e5ea01c6d5",
   "metadata": {},
   "source": [
    "## 6.5 Chọn mẫu ngẫu nhiên (random sampling)\n",
    "\n",
    "Trong xác suất và thống kê, lấy mẫu ngẫu nhiên rất quan trọng, vì nó đảm bảo\n",
    "tính hợp lí của các phương pháp phân tích và suy luận thống kê. Với R, chúng ta có thể\n",
    "lấy mẫu một mẫu ngẫu nhiên bằng cách sử dụng hàm sample.\n",
    "\n",
    "**Ví dụ:** Chúng ta có một quần thể gồm 40 người (mã số 1, 2, 3, …, 40). Nếu\n",
    "chúng ta muốn chọn 5 đối tượng quần thể đó, ai sẽ là người được chọn? Chúng ta có thể\n",
    "dùng lệnh sample() để trả lời câu hỏi đó như sau:\n"
   ]
  },
  {
   "cell_type": "code",
   "execution_count": 34,
   "id": "33126fc7-51a4-4d72-a1b4-4e7d2426e0d3",
   "metadata": {},
   "outputs": [
    {
     "data": {
      "text/html": [
       "<style>\n",
       ".list-inline {list-style: none; margin:0; padding: 0}\n",
       ".list-inline>li {display: inline-block}\n",
       ".list-inline>li:not(:last-child)::after {content: \"\\00b7\"; padding: 0 .5ex}\n",
       "</style>\n",
       "<ol class=list-inline><li>1</li><li>3</li><li>20</li><li>31</li><li>25</li></ol>\n"
      ],
      "text/latex": [
       "\\begin{enumerate*}\n",
       "\\item 1\n",
       "\\item 3\n",
       "\\item 20\n",
       "\\item 31\n",
       "\\item 25\n",
       "\\end{enumerate*}\n"
      ],
      "text/markdown": [
       "1. 1\n",
       "2. 3\n",
       "3. 20\n",
       "4. 31\n",
       "5. 25\n",
       "\n",
       "\n"
      ],
      "text/plain": [
       "[1]  1  3 20 31 25"
      ]
     },
     "metadata": {},
     "output_type": "display_data"
    }
   ],
   "source": [
    "sample(1:40, 5)"
   ]
  },
  {
   "cell_type": "markdown",
   "id": "7f3ba48b-6c81-46f0-b9ad-5161252aa6f6",
   "metadata": {},
   "source": [
    "Kết quả trên cho biết đối tượng 32, 26, 8, 18 và 9 được chọn. Mỗi lần ra lệnh này, R sẽ\n",
    "chọn một mẫu khác, chứ không hoàn toàn giống như mẫu trên. Ví dụ:"
   ]
  },
  {
   "cell_type": "code",
   "execution_count": 35,
   "id": "f548440d-a13b-4f4e-a017-505618ea77d7",
   "metadata": {},
   "outputs": [
    {
     "data": {
      "text/html": [
       "<style>\n",
       ".list-inline {list-style: none; margin:0; padding: 0}\n",
       ".list-inline>li {display: inline-block}\n",
       ".list-inline>li:not(:last-child)::after {content: \"\\00b7\"; padding: 0 .5ex}\n",
       "</style>\n",
       "<ol class=list-inline><li>32</li><li>15</li><li>9</li><li>26</li><li>23</li></ol>\n"
      ],
      "text/latex": [
       "\\begin{enumerate*}\n",
       "\\item 32\n",
       "\\item 15\n",
       "\\item 9\n",
       "\\item 26\n",
       "\\item 23\n",
       "\\end{enumerate*}\n"
      ],
      "text/markdown": [
       "1. 32\n",
       "2. 15\n",
       "3. 9\n",
       "4. 26\n",
       "5. 23\n",
       "\n",
       "\n"
      ],
      "text/plain": [
       "[1] 32 15  9 26 23"
      ]
     },
     "metadata": {},
     "output_type": "display_data"
    }
   ],
   "source": [
    "sample(1:40, 5)"
   ]
  },
  {
   "cell_type": "code",
   "execution_count": 36,
   "id": "b9eef755-c9fc-49e2-8157-2d659355c976",
   "metadata": {},
   "outputs": [
    {
     "data": {
      "text/html": [
       "<style>\n",
       ".list-inline {list-style: none; margin:0; padding: 0}\n",
       ".list-inline>li {display: inline-block}\n",
       ".list-inline>li:not(:last-child)::after {content: \"\\00b7\"; padding: 0 .5ex}\n",
       "</style>\n",
       "<ol class=list-inline><li>16</li><li>36</li><li>6</li><li>9</li><li>26</li></ol>\n"
      ],
      "text/latex": [
       "\\begin{enumerate*}\n",
       "\\item 16\n",
       "\\item 36\n",
       "\\item 6\n",
       "\\item 9\n",
       "\\item 26\n",
       "\\end{enumerate*}\n"
      ],
      "text/markdown": [
       "1. 16\n",
       "2. 36\n",
       "3. 6\n",
       "4. 9\n",
       "5. 26\n",
       "\n",
       "\n"
      ],
      "text/plain": [
       "[1] 16 36  6  9 26"
      ]
     },
     "metadata": {},
     "output_type": "display_data"
    }
   ],
   "source": [
    "sample(1:40, 5)"
   ]
  },
  {
   "cell_type": "code",
   "execution_count": 37,
   "id": "c12955ce-b38c-4d6d-9819-428f33bb8af5",
   "metadata": {},
   "outputs": [
    {
     "data": {
      "text/html": [
       "<style>\n",
       ".list-inline {list-style: none; margin:0; padding: 0}\n",
       ".list-inline>li {display: inline-block}\n",
       ".list-inline>li:not(:last-child)::after {content: \"\\00b7\"; padding: 0 .5ex}\n",
       "</style>\n",
       "<ol class=list-inline><li>15</li><li>26</li><li>21</li><li>22</li><li>38</li></ol>\n"
      ],
      "text/latex": [
       "\\begin{enumerate*}\n",
       "\\item 15\n",
       "\\item 26\n",
       "\\item 21\n",
       "\\item 22\n",
       "\\item 38\n",
       "\\end{enumerate*}\n"
      ],
      "text/markdown": [
       "1. 15\n",
       "2. 26\n",
       "3. 21\n",
       "4. 22\n",
       "5. 38\n",
       "\n",
       "\n"
      ],
      "text/plain": [
       "[1] 15 26 21 22 38"
      ]
     },
     "metadata": {},
     "output_type": "display_data"
    }
   ],
   "source": [
    "sample(1:40, 5)"
   ]
  },
  {
   "cell_type": "markdown",
   "id": "30edb6f5-824b-4a64-8ecb-76c208616444",
   "metadata": {},
   "source": [
    "Trên đây là lệnh để chúng ta chọn mẫu ngẫu nhiên mà không thay thế (random sampling\n",
    "without replacement), tức là mỗi lần chọn mẫu, chúng ta không bỏ lại các mẫu đã chọn\n",
    "vào quần thể.\n",
    "\n",
    "Nhưng nếu chúng ta muốn chọn mẫu thay thế (tức mỗi lần chọn ra một số đối tượng,\n",
    "chúng ta bỏ vào lại trong quần thể để chọn tiếp lần sau). Ví dụ, chúng ta muốn chọn 10\n",
    "người từ một quần thể 50 người, bằng cách lấy mẫu với thay thế (random sampling with\n",
    "replacement), chúng ta chỉ cần thêm tham số replace = TRUE:"
   ]
  },
  {
   "cell_type": "code",
   "execution_count": null,
   "id": "1d206200-ff3c-4eec-895e-46b203d7fcdf",
   "metadata": {},
   "outputs": [],
   "source": []
  }
 ],
 "metadata": {
  "kernelspec": {
   "display_name": "R",
   "language": "R",
   "name": "ir"
  },
  "language_info": {
   "codemirror_mode": "r",
   "file_extension": ".r",
   "mimetype": "text/x-r-source",
   "name": "R",
   "pygments_lexer": "r",
   "version": "4.4.2"
  }
 },
 "nbformat": 4,
 "nbformat_minor": 5
}
