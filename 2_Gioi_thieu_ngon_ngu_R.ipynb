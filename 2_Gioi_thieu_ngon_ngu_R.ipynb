{
 "cells": [
  {
   "cell_type": "markdown",
   "id": "2a6d9870-b45a-4950-b5a4-122b1466958c",
   "metadata": {},
   "source": [
    "# Giới thiệu ngôn ngữ R"
   ]
  },
  {
   "cell_type": "markdown",
   "id": "453ed3f5-f178-4103-b238-b61960abb892",
   "metadata": {},
   "source": [
    "| Tên package | Chức năng                                                           |\n",
    "|-------------|---------------------------------------------------------------------|\n",
    "| Trellis     | Dùng để vẽ đồ thị và làm cho đồ thị đẹp hơn                             |\n",
    "| lattice     | Dùng để vẽ đồ thị và làm cho đồ thị đẹp hơn                             |\n",
    "| Hmisc       | Một số phương pháp mô hình dữ liệu của F. Harrell                     |\n",
    "| Design      | Một số mô hình thiết kế nghiên cứu của F. Harrell                     |\n",
    "| Epi         | Dùng cho các phân tích dịch tễ học                                      |\n",
    "| epitools    | Một package khác chuyên cho các phân tích dịch tễ học                  |\n",
    "| foreign     | Dùng để nhập dữ liệu từ các phần mềm khác như SPSS, Stata, SAS, v.v... |\n",
    "| Rmeta       | Dùng cho phân tích tổng hợp (meta-analysis)                             |\n",
    "| meta        | Một package khác cho phân tích tổng hợp                               |\n",
    "| survival    | Chuyên dùng cho phân tích theo mô hình Cox (Cox's proportional hazard model) 1  |"
   ]
  },
  {
   "cell_type": "raw",
   "id": "722444ec-ba27-479d-b508-7512ee8c50bc",
   "metadata": {},
   "source": [
    "library(lm)"
   ]
  },
  {
   "cell_type": "code",
   "execution_count": 1,
   "id": "4c36fb7d-06d1-430a-85dc-67a0fb447d03",
   "metadata": {},
   "outputs": [],
   "source": [
    "x <- rnorm(20)"
   ]
  },
  {
   "cell_type": "raw",
   "id": "fad244fd-2c5f-47c7-8239-5ef8b59e0cd2",
   "metadata": {},
   "source": [
    "reg <- lm(y ~ x)"
   ]
  },
  {
   "cell_type": "raw",
   "id": "fa30604d-3683-4496-bce9-538744aa0e41",
   "metadata": {},
   "source": [
    "setwd(“c:/works/stats”)"
   ]
  },
  {
   "cell_type": "raw",
   "id": "27f203c4-2fd8-4039-9365-5df65fbd79ee",
   "metadata": {},
   "source": [
    "library(lm)"
   ]
  },
  {
   "cell_type": "code",
   "execution_count": 4,
   "id": "c788539c-8ee7-4960-b995-e3bfb50436d9",
   "metadata": {},
   "outputs": [
    {
     "data": {
      "text/html": [
       "<pre class=language-r><code>function (formula, data, subset, weights, na.action, method = \"qr\", \n",
       "<span style=white-space:pre-wrap>    model = TRUE, x = FALSE, y = FALSE, qr = TRUE, singular.ok = TRUE, </span>\n",
       "<span style=white-space:pre-wrap>    contrasts = NULL, offset, ...) </span>\n",
       "NULL</code></pre>"
      ],
      "text/latex": [
       "\\begin{minted}{r}\n",
       "function (formula, data, subset, weights, na.action, method = \"qr\", \n",
       "    model = TRUE, x = FALSE, y = FALSE, qr = TRUE, singular.ok = TRUE, \n",
       "    contrasts = NULL, offset, ...) \n",
       "NULL\n",
       "\\end{minted}"
      ],
      "text/markdown": [
       "```r\n",
       "function (formula, data, subset, weights, na.action, method = \"qr\", \n",
       "    model = TRUE, x = FALSE, y = FALSE, qr = TRUE, singular.ok = TRUE, \n",
       "    contrasts = NULL, offset, ...) \n",
       "NULL\n",
       "```"
      ],
      "text/plain": [
       "function (formula, data, subset, weights, na.action, method = \"qr\", \n",
       "    model = TRUE, x = FALSE, y = FALSE, qr = TRUE, singular.ok = TRUE, \n",
       "    contrasts = NULL, offset, ...) \n",
       "NULL"
      ]
     },
     "metadata": {},
     "output_type": "display_data"
    }
   ],
   "source": [
    "args(lm)"
   ]
  },
  {
   "cell_type": "markdown",
   "id": "90e57533-0f79-497e-9db3-9b0615ab4fe8",
   "metadata": {},
   "source": [
    "| Symbol | Meaning (English) | Meaning (Vietnamese) |\n",
    "|---|---|---|\n",
    "| x == 5 | x equals 5 | x bằng 5 |\n",
    "| x != 5 | x does not equal 5 | x không bằng 5 |\n",
    "| y < x | y is less than x | y nhỏ hơn x |\n",
    "| x > y | x is greater than y | x lớn hơn y |\n",
    "| z <= 7 | z is less than or equal to 7 | z nhỏ hơn hoặc bằng 7 |\n",
    "| p >= 1 | p is greater than or equal to 1 | p lớn hơn hoặc bằng 1 |\n",
    "| is.na(x) | Is x a missing value? | Có phải x là biến số missing? |\n",
    "| A & B | A and B (AND) | A và B (AND) |\n",
    "| A | B | A or B (OR) | A hoặc B (OR) |\n",
    "| ! | NOT | Không là (NOT) |"
   ]
  },
  {
   "cell_type": "raw",
   "id": "f5f7981e-f58b-459d-8d0f-d0a8d8789cf0",
   "metadata": {},
   "source": [
    "library(design)"
   ]
  },
  {
   "cell_type": "raw",
   "id": "1fa46929-092a-483b-b209-ab76344a957c",
   "metadata": {},
   "source": [
    "help(design)"
   ]
  },
  {
   "cell_type": "code",
   "execution_count": null,
   "id": "476a1856-910a-4b4c-94fe-02befdc9e87d",
   "metadata": {},
   "outputs": [],
   "source": []
  }
 ],
 "metadata": {
  "kernelspec": {
   "display_name": "R",
   "language": "R",
   "name": "ir"
  },
  "language_info": {
   "codemirror_mode": "r",
   "file_extension": ".r",
   "mimetype": "text/x-r-source",
   "name": "R",
   "pygments_lexer": "r",
   "version": "4.3.3"
  }
 },
 "nbformat": 4,
 "nbformat_minor": 5
}
