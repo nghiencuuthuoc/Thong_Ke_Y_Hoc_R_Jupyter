{
 "cells": [
  {
   "cell_type": "markdown",
   "id": "2001b122-2eea-4697-9eae-8deca476e537",
   "metadata": {},
   "source": [
    "# Tính toán xác suất và mô phỏng (simulation) - Phần 1\n",
    "Xác suất là nền tảng của phân tích thống kê. Tất cả các phương pháp phân tích số\n",
    "liệu và suy luận thống kê đều dựa vào lí thuyết xác suất. Lí thuyết xác suất quan tâm đến\n",
    "việc mô tả và thể hiện qui luật phân phối của một biến số ngẫu nhiên. “Mô tả” ở đây\n",
    "trong thực tế cũng có nghĩa đơn giản là đếm những trường hợp hay khả năng xảy ra của\n",
    "một hay nhiều biến. Chẳng hạn như khi chúng ta chọn ngẫu nhiên 2 đối tượng , và nếu 2\n",
    "đối tượng này có thể được phân loại bằng hai đặc tính như giới tính và sở thích, thì vấn\n",
    "đề đặt ra là có bao nhiêu tất cả “phối hợp” giữa hai đặc tính này. Hay đối với một biến số\n",
    "liên tục như huyết áp, mô tả có nghĩa là tính toán các chỉ số thống kê của biến như trị số\n",
    "trung bình, trung vị, phương sai, độ lệch chuẩn, v.v… Từ những chỉ số mô tả, lí thuyết\n",
    "xác suất cung cấp cho chúng ta những mô hình để thiết lập các hàm phân phối cho các\n",
    "biến số đó. Trong chương này, tôi sẽ bàn qua hai lĩnh vực chính là phép đếm và các hàm\n",
    "phân phối.\n",
    "\n",
    "## 6.1 Các phép đếm\n",
    "### 6.1.1 Phép hoán vị (permutation).\n",
    "Theo định nghĩa, hoán vị n phần tử là cách sắp xếp n phần tử theo một thứ tự định\n",
    "sẵn. Định nghĩa này thật là … khó hiểu, chẳng khác gì … đố! Có lẽ một ví dụ cụ thể sẽ\n",
    "làm rõ định nghĩa hơn. Hãy tưởng tượng một trung tâm cấp cứu có 3 bác sĩ (x, y và z), và\n",
    "có 3 bệnh nhân (a, b và c) đang ngồi chờ được khám bệnh. Cả ba bác sĩ đều có thể khám\n",
    "bất cứ bệnh nhân a, b hay c. Câu hỏi đặt ra là có bao nhiêu cách sắp xếp bác sĩ – bệnh\n",
    "nhân? Để trả lời câu hỏi này, chúng ta xem xét vài trường hợp sau đây:\n",
    "\n",
    "    + Bác sĩ x có 3 lựa chọn: khám bệnh nhân a, b hoặc c;\n",
    "    + Khi bác sĩ x đã chọn một bệnh nhân rồi, thì bác sĩ y có hai lựa chọn còn lại;\n",
    "    + Và sau cùng, khi 2 bác sĩ kia đã chọn, bác sĩ z chỉ còn 1 lựa chọn.\n",
    "    + Tổng cộng, chúng ta có 6 lựa chọn\n"
   ]
  },
  {
   "cell_type": "markdown",
   "id": "b26f6100-c466-4a4d-892c-ef019d831312",
   "metadata": {},
   "source": [
    "Một ví dụ khác, trong một buổi tiệc gồm 6 bạn, hỏi có bao nhiêu cách sắp xếp\n",
    "cách ngồi trong một bàn với 6 ghế? Qua cách lí giải của ví dụ trên, đáp số là: 6.5.4.3.2.1\n",
    "= 720 cách. (Chú ý dấu “.” có nghĩa là dấu nhân hay tích số). Và đây chính là phép đếm\n",
    "hoán vị."
   ]
  },
  {
   "cell_type": "markdown",
   "id": "ce466cd7-53c5-4b95-a4e9-338198da18cb",
   "metadata": {},
   "source": [
    "Chúng ta biết rằng $! = 3.2.1 = 6$, và  $0!=1 $. Nói chung, công thức tính hoán vị cho một số n là: $ n! = n(n-1)(n-2)(n-3)...1$ . Trong R cách tính này rất đơn giản với lệnh prod() như sau:"
   ]
  },
  {
   "cell_type": "code",
   "execution_count": 2,
   "id": "c52c8215-0c48-4ca0-bbc1-819fa363b7e7",
   "metadata": {},
   "outputs": [
    {
     "data": {
      "text/html": [
       "6"
      ],
      "text/latex": [
       "6"
      ],
      "text/markdown": [
       "6"
      ],
      "text/plain": [
       "[1] 6"
      ]
     },
     "metadata": {},
     "output_type": "display_data"
    }
   ],
   "source": [
    "# Tìm 3!\n",
    "prod(3:1)"
   ]
  },
  {
   "cell_type": "code",
   "execution_count": 3,
   "id": "0388a174-4f90-44e4-a761-63578fab8678",
   "metadata": {},
   "outputs": [
    {
     "data": {
      "text/html": [
       "3628800"
      ],
      "text/latex": [
       "3628800"
      ],
      "text/markdown": [
       "3628800"
      ],
      "text/plain": [
       "[1] 3628800"
      ]
     },
     "metadata": {},
     "output_type": "display_data"
    }
   ],
   "source": [
    "# Tìm 10!\n",
    "prod(10:1)"
   ]
  },
  {
   "cell_type": "code",
   "execution_count": 4,
   "id": "f80b6ce7-ef3d-4bdf-b26c-707107876419",
   "metadata": {},
   "outputs": [
    {
     "data": {
      "text/html": [
       "604800"
      ],
      "text/latex": [
       "604800"
      ],
      "text/markdown": [
       "604800"
      ],
      "text/plain": [
       "[1] 604800"
      ]
     },
     "metadata": {},
     "output_type": "display_data"
    }
   ],
   "source": [
    "# Tìm 10.9.8.7.6.5.4\n",
    "prod(10:4)"
   ]
  },
  {
   "cell_type": "code",
   "execution_count": 5,
   "id": "135fcb4b-7e4d-4cf3-a0ae-9f820f81fe98",
   "metadata": {},
   "outputs": [
    {
     "data": {
      "text/html": [
       "0.00765948134369187"
      ],
      "text/latex": [
       "0.00765948134369187"
      ],
      "text/markdown": [
       "0.00765948134369187"
      ],
      "text/plain": [
       "[1] 0.007659481"
      ]
     },
     "metadata": {},
     "output_type": "display_data"
    }
   ],
   "source": [
    "# Tìm (10.9.8.7.6.5.4) / (40.39.38.37.36)\n",
    "prod(10:4) / prod(40:36)"
   ]
  },
  {
   "cell_type": "markdown",
   "id": "fbdacd92-0da7-47e0-a6de-0e3cb1390f3b",
   "metadata": {},
   "source": [
    "### 6.1.2 Tổ hợp (combination).\n",
    "\n",
    "Tổ hợp n phần tử chập k là mọi tập hợp con gồm k phần tử của tập hợp n phần tử.\n",
    "Định nghĩa này phải nói là rất khó hiểu và … rườm rà! Cách dễ hiểu nhất là qua một ví\n",
    "dụ như sau: Cho 3 người (hãy cho là A, B, và C) ứng viên vào 2 chức chủ tịch và phó chủ\n",
    "tịch, hỏi: có bao nhiêu cách để chọn 2 chức này trong số 3 người đó. Chúng ta có thể\n",
    "tưởng tượng có 2 ghế mà phải chọn 3 người:\n",
    "\n",
    "| Cách chọn | Chủ tịch | Phó Chủ tịch |\n",
    "|---|---|---|\n",
    "| 1 | A | B |\n",
    "| 2 | B | A |\n",
    "| 3 | A | C |\n",
    "| 4 | C | A |\n",
    "| 5 | B | C |\n",
    "| 6 | C | B |\n",
    "\n",
    "Như vậy có 6 cách chọn. Nhưng chú ý rằng cách chọn 1 và 2 trong thực tế chỉ là 1 cặp,\n",
    "và chúng ta chỉ có thể đếm là 1 (chứ không 2 được). Tương tự, 3 và 4, 5 và 6 cũng chỉ có\n",
    "thể đếm là 1 cặp. Tổng cộng, chúng ta có 3 cách chọn 3 người cho 2 chức vụ. Đáp số\n",
    "này được gọi là tổ hợp.\n",
    "\n",
    "Thật ra tổng số lần chọn có thể tính bằng công thức sau đây:\n",
    "$$\n",
    "\\binom{3}{2} = \\frac{3!}{2!(3-2)!} = \\frac{6}{2} = 3 lần.\n",
    "$$\n",
    "Nói chung, số lần chọn k người từ n người là:\n",
    "$$ \\binom{n}{k} = \\frac{n!}{k!(n-k)!} $$\n",
    "\n",
    "Công thức này cũng có khi viết là $C_k^n$ thay vì $\\binom{n}{k}$ . Với R, phép tính này rất đơn giản bằng hàm *choose(n, k)*. Sau đây là vài ví dụ minh họa:\n",
    "\n",
    "Tìm $\\binom{5}{2}$:"
   ]
  },
  {
   "cell_type": "code",
   "execution_count": 6,
   "id": "539e7100-b1a2-4405-81f6-823fcfbb37d4",
   "metadata": {},
   "outputs": [
    {
     "data": {
      "text/html": [
       "10"
      ],
      "text/latex": [
       "10"
      ],
      "text/markdown": [
       "10"
      ],
      "text/plain": [
       "[1] 10"
      ]
     },
     "metadata": {},
     "output_type": "display_data"
    }
   ],
   "source": [
    "choose(5, 2)"
   ]
  },
  {
   "cell_type": "markdown",
   "id": "7cd3e582-f9cc-40f8-8b0e-098212d70b33",
   "metadata": {},
   "source": [
    "Tìm xác suất cặp A và B trong số 5 người được đắc cử vào hai chức vụ:"
   ]
  },
  {
   "cell_type": "code",
   "execution_count": 7,
   "id": "6401babb-f98a-46fe-a024-3df044f070d1",
   "metadata": {},
   "outputs": [
    {
     "data": {
      "text/html": [
       "0.1"
      ],
      "text/latex": [
       "0.1"
      ],
      "text/markdown": [
       "0.1"
      ],
      "text/plain": [
       "[1] 0.1"
      ]
     },
     "metadata": {},
     "output_type": "display_data"
    }
   ],
   "source": [
    "1/choose(5, 2)"
   ]
  },
  {
   "cell_type": "markdown",
   "id": "030428bc-43e8-48d5-9007-5425d11081cc",
   "metadata": {},
   "source": [
    "## 6.2 Biến số ngẫu nhiên và hàm phân phối\n",
    "\n",
    "Phần lớn phân tích thống kê dựa vào các luật phân phối xác suất để suy luận. Hai\n",
    "chữ “phân phối” (distribution) có lẽ cũng cần vài dòng giải thích ở đây. Nếu chúng ta\n",
    "chọn ngẫu nhiên 10 bạn trong một lớp học và ghi nhận chiều cao và giới tính của 10 bạn\n",
    "đó, chúng ta có thể có một dãy số liệu như sau:\n",
    "\n",
    "| Số thứ tự | Giới tính | Chiều cao (cm) |\n",
    "|---|---|---|\n",
    "| 1 | Nữ | 156 |\n",
    "| 2 | Nữ | 160 |\n",
    "| 3 | Nam | 175 |\n",
    "| 4 | Nữ | 145 |\n",
    "| 5 | Nữ | 165 |\n",
    "| 6 | Nữ | 158 |\n",
    "| 7 | Nam | 170 |\n",
    "| 8 | Nam | 167 |\n",
    "| 9 | Nữ | 178 |\n",
    "| 10 | Nam | 155 |\n",
    "\n",
    "Nếu tính gộp chung lại, chúng ta có 6 bạn gái và 4 bạn trai. Nói theo phần trăm, chúng ta\n",
    "có 60% nữ và 40% nam. Nói theo ngôn ngữ xác suất, xác suất nữ là 0.6 và nam là 0.4.\n",
    "\n",
    "Về chiều cao, chúng ta có giá trị trung bình là 162.9 cm, với chiều cao thấp nhất\n",
    "là 155 cm và cao nhất là 178 cm.\n",
    "\n",
    "Nói theo ngôn ngữ thống kê xác suất, biến số giới tính và chiều cao là hai biến số\n",
    "ngẫu nhiên (random variable). Ngẫu nhiên là vì chúng ta không đoán trước một cách\n",
    "chính xác các giá trị này, nhưng chỉ có thể đoán giá trị tập trung, giá trị trung bình, và độ\n",
    "dao động của chúng. Biến giới tính chỉ có hai “giá trị” (nam hay nữ), và được gọi là biến\n",
    "không liên tục, hay biến rời rạc (discrete variable), hay biến thứ bậc (categorical\n",
    "variable). Còn biến chiều cao có thể có bất cứ giá trị nào từ thấp đến cao, và do đó có tên\n",
    "là biến liên tục (continuous variable).\n",
    "\n",
    "Khi nói đến “phân phối” (hay distribution) là đề cập đến các giá trị mà biến số có\n",
    "thể có. Các hàm phân phối (distribution function) là hàm nhằm mô tả các biến số đó một\n",
    "cách có hệ thống. “Có hệ thống” ở đây có nghĩa là theo mộ mô hình toán học cụ thể với\n",
    "những thông số cho trước. Trong xác suất thống kê có khá nhiều hàm phân phối, và ở\n",
    "đây chúng ta sẽ xem xét qua một số hàm quan trọng nhất và thông dụng nhất: đó là phân phối nhị phân, phân phối Poisson, và phân phối chuẩn. Trong mỗi luật phân phối, có 4\n",
    "loại hàm quan trọng mà chúng ta cần biết:\n",
    "\n",
    "    • hàm mật độ xác suất (probability density distribution);\n",
    "    • hàm phân phối tích lũy (cumulative probability distribution);\n",
    "    • hàm định bậc (quantile); và\n",
    "    • hàm mô phỏng (simulation).\n",
    "\n",
    "R có những hàm sẵn trên có thể ứng dụng cho tính toán xác suất. Tên mỗi hàm\n",
    "được gọi bằng một tiếp đầu ngữ để chỉ loại hàm phân phối, và viết tắt tên của hàm đó.\n",
    "Các tiếp đầu ngữ là d (chỉ distribution hay xác suất), p (chỉ cumulative probability, xác\n",
    "suất tích lũy), q (chỉ định bậc hay quantile), và r (chỉ random hay số ngẫu nhiên). Các\n",
    "tên viết tắt là norm (normal, phân phối chuẩn), binom (binomial , phân phối nhị\n",
    "phân), pois (Poisson, phân phối Poisson), v.v… Bảng sau đây tóm tắt các hàm và thông\n",
    "số cho từng hàm:"
   ]
  },
  {
   "cell_type": "markdown",
   "id": "a3dfd638-c39e-4a56-a78c-d9a3de55e0a8",
   "metadata": {},
   "source": [
    "| Hàm phân phối | Mật độ | Tích lũy | Định bậc | Mô phỏng |\n",
    "|---|---|---|---|---|\n",
    "| Chuẩn | dnorm(x, mean, sd) | pnorm(q, mean, sd) | qnorm(p, mean, sd) | rnorm(n, mean, sd) |\n",
    "| Nhị phân | dbinom(k, n, p) | pbinom(q, n, p) | qbinom(p, n, p) | rbinom(n, k, prob) |\n",
    "| Poisson | dpois(k, lambda) | ppois(q, lambda) | qpois(p, lambda) | rpois(n, lambda) |\n",
    "| Uniform | dunif(x, min, max) | punif(q, min, max) | qunif(p, min, max) | runif(n, min, max) |\n",
    "| Negative binomial | dnbinom(x, k, p) | pnbinom(q, k, p) | qnbinom(p, k, prob) | rbinom(n, n, prob) |\n",
    "| Beta | dbeta(x, shape1, shape2) | pbeta(q, shape1, shape2) | qbeta(p, shape1, shape2) | rbeta(n, shape1, shape2) |\n",
    "| Gamma | dgamma(x, shape, rate, scale) | pgamma(q, shape, rate, scale) | qgamma(p, shape, rate, scale) | rgamma(n, shape, rate, scale) |\n",
    "| Geometric | dgeom(x, p) | pgeom(q, p) | qgeom(p, prob) | rgeom(n, prob) |\n",
    "| Exponential | dexp(x, rate) | pexp(q, rate) | qexp(p, rate) | rexp(n, rate) |\n",
    "| Weibull | dnorm(x, mean, sd) | pnorm(q, mean, sd) | qnorm(p, mean, sd) | rnorm(n, mean, sd) |\n",
    "| Cauchy | dcauchy(x, location, scale) | pcauchy(q, location, scale) | qcauchy(p, location, scale) | rcauchy(n, location, scale) |\n",
    "| F | df(x, df1, df2) | pf(q, df1, df2) | qf(p, df1, df2) | rf(n, df1, df2) |\n",
    "| T | dt(x, df) | pt(q, df) | qt(p, df) | rt(n, df) |\n",
    "| Chi-squared | dchisq(x, df) | pchi(q, df) | qchisq(p, df) | rchisq(n, df) |\n",
    "\n",
    "\n",
    "Chú thích: Trong bảng trên, df = degrees of freedome (bậc tự do); prob = probability (xác suất); n = sample\n",
    "size (số lượng mẫu). Các thông số khác có thể tham khảo thêm cho từng luật phân phối. Riêng các luật\n",
    "phân phối F, t, Chi-squared còn có một thông số khác nữa là non-centrality parameter (ncp) được cho số 0.\n",
    "Tuy nhiên người sử dụng có thể cho một thông số khác thích hợp, nếu cần."
   ]
  },
  {
   "cell_type": "markdown",
   "id": "20201de5-ae4a-41b4-a9a6-72b3b31cb6ab",
   "metadata": {},
   "source": [
    "## 6.3 Các hàm phân phối xác suất (probability distribution function)\n",
    "### 6.3.1 Hàm phân phối nhị phân (Binomial distribution)\n",
    "\n",
    "Như tên gọi, hàm phân phối nhị phân chỉ có hai giá trị: nam / nữ, sống / chết, có /\n",
    "không, v.v… Hàm nhị phân được phát biểu bằng định lí như sau: Nếu một thử nghiệm được tiến hành n lần, mỗi lần cho ra kết quả hoặc là thành công hoặc là thất bại, và gồm xác suất thành công được biết trước là p, thì xác suất có k lần thử nghiệm thành công là: $ P(k|n,p) = C_k^n p^k (1-p)^{n-k} $ , trong đó k == 0, 1, 2, . . . , n. Để hiểu định lí đó rõ ràng hơn, chúng ta sẽ xem qua qua vài ví dụ sau đây.\n",
    "\n",
    "**Ví dụ 1**: Hàm mật độ nhị phân (Binomial density probability function).\n",
    "Trong ví dụ trên, lớp học có 10 người, trong đó có 6 nữa. Nếu 3 bạn được chọn một cách\n",
    "ngẫu nhiên, xác suất mà chúng ta có 2 bạn nữ là bao nhiêu? Chúng ta có thể trả lời câu\n",
    "hỏi này một cách tương đối thủ công bằng cách xem xét tất cả các trường hợp có thể xảy\n",
    "ra. Mỗi lần chọn có 2 khả khăng (nam hay nữ), và 3 lần chọn, chúng ta có 23 = 8 trường\n",
    "hợp như sau.\n",
    "\n",
    "| Bạn 1 | Bạn 2 | Bạn 3 | Xác suất |\n",
    "|---|---|---|---|\n",
    "| Nam | Nam | Nam | (0.4)(0.4)(0.4) = 0.064 |\n",
    "| Nam | Nam | Nữ | (0.4)(0.4)(0.6) = 0.096 |\n",
    "| Nam | Nữ | Nam | (0.4)(0.6)(0.4) = 0.096 |\n",
    "| Nam | Nữ | Nữ | (0.4)(0.6)(0.6) = 0.144 |\n",
    "| Nữ | Nam | Nam | (0.6)(0.4)(0.4) = 0.096 |\n",
    "| Nữ | Nam | Nữ | (0.6)(0.4)(0.6) = 0.144 |\n",
    "| Nữ | Nữ | Nam | (0.6)(0.6)(0.4) = 0.144 |\n",
    "| Nữ | Nữ | Nữ | (0.6)(0.6)(0.6) = 0.216 |\n",
    "| Tất cả các trường hợp |  |  | 1.000 |\n",
    "\n",
    "Chứng ta biết trước rằng trong nhóm 10 học sinh có 6 nữ, và do đó, xác suất nữ là 0.60.\n",
    "(Nói cách khác, xác suất chọn một bạn nam là 0.4). Do đó, xác suất mà tất cả 3 bạn được\n",
    "chọn đều là nam giới là: 0.4 x 0.4 x 0.4 = 0.064. Trong bảng trên, chúng ta thấy có 3\n",
    "trường hợp mà trong đó có 2 bạn gái: đó là trường hợp Nam-Nữ-Nữ, Nữ-Nữ-Nam, và\n",
    "Nữ-Nam-Nữ, cả 3 đều có xác suất 0.144. Thành ra, xác suất chọn đúng 2 bạn nữ trong số\n",
    "3 bạn được chọn là 3x0.144= 0.432.\n",
    "\n",
    "Trong R, có hàm $dbinom(k, n, p)$ có thể giúp chúng ta tính công thức $ P(k|n,p) = C_k^n p^k (1-p)^{n-k} $ một cách nhanh chóng. Trong trường hợp trên, chúng ta chỉ cần đơn giản lệnh:"
   ]
  },
  {
   "cell_type": "code",
   "execution_count": 8,
   "id": "c543ef5a-2909-4157-9200-63bb19f5d2c8",
   "metadata": {},
   "outputs": [
    {
     "data": {
      "text/html": [
       "0.432"
      ],
      "text/latex": [
       "0.432"
      ],
      "text/markdown": [
       "0.432"
      ],
      "text/plain": [
       "[1] 0.432"
      ]
     },
     "metadata": {},
     "output_type": "display_data"
    }
   ],
   "source": [
    "dbinom(2, 3, 0.60)"
   ]
  },
  {
   "cell_type": "markdown",
   "id": "47e8bf7d-45c1-4619-85f9-80a6e8beccf7",
   "metadata": {},
   "source": [
    "**Ví dụ 2**: Hàm nhị phân tích lũy (Cumulative Binomial probability distribution). Xác suất thuốc chống loãng xương có hiệu nghiệm là khoảng 70% (tức là p = 0.70). Nếu chúng ta điều trị 10 bệnh nhân, xác suất có tối thiểu 8 bệnh nhân với kết quả tích cực là bao nhiêu? Nói cách khác, nếu gọi X là số bệnh nhân được điều trị thành công, chúng ta cần tìm P(X ≥ 8) = ? Để trả lời câu hỏi này, chúng ta sử dụng hàm $pbinom(k, n, p)$. Xin nhắc lại rằng hàm $pbinom(k, n, p)$ cho chúng ta P(X ≤ k). Do đó, P(X ≥ 8) = 1 – P(X ≤ 7). Thành ra, đáp số bằng R cho câu hỏi là: "
   ]
  },
  {
   "cell_type": "code",
   "execution_count": 9,
   "id": "b290173e-d6df-4daa-ad32-1b368c685d8b",
   "metadata": {},
   "outputs": [
    {
     "data": {
      "text/html": [
       "0.3827827864"
      ],
      "text/latex": [
       "0.3827827864"
      ],
      "text/markdown": [
       "0.3827827864"
      ],
      "text/plain": [
       "[1] 0.3827828"
      ]
     },
     "metadata": {},
     "output_type": "display_data"
    }
   ],
   "source": [
    "1-pbinom(7, 10, 0.70)"
   ]
  },
  {
   "cell_type": "markdown",
   "id": "d639ff31-23f2-43ae-96e9-150731a3768b",
   "metadata": {},
   "source": [
    "**Ví dụ 3**: Mô phỏng hàm nhị phân: \n",
    "Biết rằng trong một quần thể dân số có khoảng 20% người mắc bệnh cao huyết áp; nếu chúng ta tiến hành chọn mẫu 1000 lần,\n",
    "mỗi lần chọn 20 người trong quần thể đó một cách ngẫu nhiên, sự phân phối số bệnh\n",
    "nhân cao huyết áp sẽ như thế nào? Để trả lời câu hỏi này, chúng ta có thể ứng dụng hàm\n",
    "$rbinom (n, k, p)$ trong R với những thông số như sau:"
   ]
  },
  {
   "cell_type": "code",
   "execution_count": 10,
   "id": "63068445-aff0-49f5-82a2-71cfcbecd639",
   "metadata": {},
   "outputs": [],
   "source": [
    "b <- rbinom(1000, 20, 0.20)"
   ]
  },
  {
   "cell_type": "markdown",
   "id": "d26e982e-26a5-4784-b897-b3ce22f607f3",
   "metadata": {},
   "source": [
    "Trong lệnh trên, kết quả mô phỏng được tạm thời chứa trong đối tượng tên là b. Để biết\n",
    "b có gì, chúng ta đếm bằng lệnh *table*:"
   ]
  },
  {
   "cell_type": "code",
   "execution_count": 11,
   "id": "07554099-59b8-4660-b581-8b5695759678",
   "metadata": {},
   "outputs": [
    {
     "data": {
      "text/plain": [
       "b\n",
       "  0   1   2   3   4   5   6   7   8   9  10 \n",
       " 11  61 154 213 195 183  93  57  19  13   1 "
      ]
     },
     "metadata": {},
     "output_type": "display_data"
    }
   ],
   "source": [
    "table(b)"
   ]
  },
  {
   "cell_type": "markdown",
   "id": "a9b6b694-f85f-454c-9f94-4d07c66d9cac",
   "metadata": {},
   "source": [
    "Dòng số liệu thứ nhất (0, 5, 6, …, 10) là số bệnh nhân mắc bệnh cao huyết áp\n",
    "trong số 20 người mà chúng ta chọn. Dòng số liệu thứ hai cho chúng ta biết số lần chọn\n",
    "mẫu trong 1000 lần xảy ra. Do đó, có 6 mẫu không có bệnh nhân cao huyết áp nào, 45\n",
    "mẫu với chỉ 1 bệnh nhân cao huyết áp, v.v… Có lẽ cách để hiểu là vẽ đồ thị các tần số\n",
    "trên bằng lệnh hist như sau:"
   ]
  },
  {
   "cell_type": "code",
   "execution_count": 12,
   "id": "220eb691-2f6a-4ba1-a8a8-c85ac3d326b8",
   "metadata": {},
   "outputs": [
    {
     "data": {
      "image/png": "[encoded data removed]",
      "text/plain": [
       "Plot with title \"Number of hypertensive patients\""
      ]
     },
     "metadata": {
      "image/png": {
       "height": 420,
       "width": 420
      }
     },
     "output_type": "display_data"
    }
   ],
   "source": [
    "hist(b, main=\"Number of hypertensive patients\")"
   ]
  },
  {
   "cell_type": "markdown",
   "id": "d6579679-25ec-4d68-bccd-5719d47bb78d",
   "metadata": {},
   "source": [
    "Biểu đồ 1. Phân phối số bệnh nhân cao huyết\n",
    "áp trong số 20 người được chọn ngẫu nhiên\n",
    "trong một quần thề gồm 20% bệnh nhân cao huyết áp, và chọn mẫu được lặp lại 1000 lần.\n",
    "\n",
    "Qua biểu đồ trên, chúng ta thấy xác suất có 4 bệnh nhân cao huyết áp (trong mỗi lần chọn\n",
    "mẫu 20 người) là cao nhất (22.9%). Điều này cũng có thể hiểu được, bởi vì tỉ lệ cao\n",
    "huyết áp là 20%, cho nên chúng ta kì vọng rằng trung bình 4 người trong số 20 người\n",
    "được chọn phải là cao huyết áp. Tuy nhiên, điều quan trọng mà biểu đồ trên thể hiện là\n",
    "có khi chúng ta quan sát đến 10 bệnh nhân cao huyết áp dù xác suất cho mẫu này rất thấp\n",
    "(chỉ 3/1000).\n",
    "\n",
    "**Ví dụ 4**: Ứng dụng hàm phân phối nhị phân: Hai mươi khách hàng được mời\n",
    "uống hai loại bia A và B, và được hỏi họ thích bia nào. Kết quả cho thấy 16 người thích\n",
    "bia A. Vấn đề đặt ra là kết quả này có đủ để kết luận rằng bia A được nhiều người thích\n",
    "hơn bia B, hay là kết quả chỉ là do các yếu tố ngẫu nhiên gây nên?\n",
    "\n",
    "Chúng ta bắt đầu giải quyết vấn đề bằng cách giả thiết rằng nếu không có khác\n",
    "nhau, thì xác suất $p=0.50$ thích bia A và $q=0.5$ thích bia B. Nếu giả thiết này đúng, thì\n",
    "xác suất mà chúng ta quan sát 16 người trong số 20 người thích bia A là bao nhiêu.\n",
    "Chúng ta có thể tính xác suất này bằng R rất đơn giản:"
   ]
  },
  {
   "cell_type": "code",
   "execution_count": 13,
   "id": "b6ccf007-f5ed-4bf1-a432-60131bb26a9f",
   "metadata": {},
   "outputs": [
    {
     "data": {
      "text/html": [
       "0.00590896606445312"
      ],
      "text/latex": [
       "0.00590896606445312"
      ],
      "text/markdown": [
       "0.00590896606445312"
      ],
      "text/plain": [
       "[1] 0.005908966"
      ]
     },
     "metadata": {},
     "output_type": "display_data"
    }
   ],
   "source": [
    "1- pbinom(15, 20, 0.5)"
   ]
  },
  {
   "cell_type": "markdown",
   "id": "49a0c19e-fd36-4014-8332-5e914d319204",
   "metadata": {},
   "source": [
    "Đáp số là xác suất 0.005 hay 0.5%. Nói cách khác, nếu quả thật hai bia giống\n",
    "nhau thì xác suất mà 16/20 người thích bia A chỉ 0.5%. Tức là, chúng ta có bằng chứng\n",
    "cho thấy khả năng bia A quả thật được nhiều người thích hơn bia B, chứ không phải do\n",
    "yếu tố ngẫu nhiên. Chú ý, chúng ta dùng 15 (thay vì 16), là bởi vì $P(X ≥ 16) = 1 – P(X ≤\n",
    "15)$. Mà trong trường hợp ta đang bàn, $ P(X ≤ 15) = pbinom(15, 20, 0.5)$."
   ]
  },
  {
   "cell_type": "markdown",
   "id": "95f8c546-75a5-4a93-9e7d-ce2c5d98bc9a",
   "metadata": {},
   "source": [
    "### 6.3.2 Hàm phân phối Poisson (Poisson distribution)\n",
    "\n",
    "Hàm phân phối Poisson, nói chung, rất giống với hàm nhị phân, ngoại trừ thông\n",
    "số p thường rất nhỏ và n thường rất lớn. Vì thế, hàm Poisson thường được sử dụng để\n",
    "mô tả các biến số rất hiếm xảy ra (như số người mắc ung thư trong một dân số chẳng\n",
    "hạn). Hàm Poisson còn được ứng dụng khá nhiều và thành công trong các nghiên cứu kĩ\n",
    "thuật và thị trường như số lượng khách hàng đến một nhà hàng mỗi giờ.\n",
    "\n",
    "**Ví dụ 5:** Hàm mật độ Poisson (Poisson density probability function). Qua\n",
    "theo dõi nhiều tháng, người ta biết được tỉ lệ đánh sai chính tả của một thư kí đánh máy.\n",
    "Tính trung bình cứ khoảng 2.000 chữ thì thư kí đánh sai 1 chữ. Hỏi xác suất mà thư kí\n",
    "đánh sai chính tả 2 chữ, hơn 2 chữ là bao nhiêu?\n",
    "\n",
    "Vì tần số khá thấp, chúng ta có thể giả định rằng biến số “sai chính tả” (tạm đặt\n",
    "tên là biến số X) là một hàm ngẫu nhiên theo luật phân phối Poisson. Ở đây, chúng ta có tỉ lệ sai chính tả trung bình là $1(λ = 1)$. Luật phân phối Poisson phát biểu rằng xác suất\n",
    "mà $X = k$, với điều kiện tỉ lệ trung bình λ, :\n",
    "$$ P(X = k | \\lambda) = \\frac{e^{-\\lambda} \\lambda^k}{k!}$$\n",
    "\n",
    "Do đó, đáp số cho câu hỏi trên là: $ P(X = 2 | \\lambda = 1) = \\frac{e^{-1}1^{2}}{2!} = 0.1839 $ Đáp số này có thể tính bằng R một cách nhanh chóng hơn bằng hàm dpois như sau:"
   ]
  },
  {
   "cell_type": "code",
   "execution_count": 14,
   "id": "ca8eab78-0c8d-4c81-b93a-1c3ddb8ed89c",
   "metadata": {},
   "outputs": [
    {
     "data": {
      "text/html": [
       "0.183939720585721"
      ],
      "text/latex": [
       "0.183939720585721"
      ],
      "text/markdown": [
       "0.183939720585721"
      ],
      "text/plain": [
       "[1] 0.1839397"
      ]
     },
     "metadata": {},
     "output_type": "display_data"
    }
   ],
   "source": [
    "dpois(2, 1)"
   ]
  },
  {
   "cell_type": "markdown",
   "id": "ca4536b8-caa5-4a32-96b1-afca18baaf10",
   "metadata": {},
   "source": [
    "Chúng ta cũng có thể tính xác suất sai 1 chữ:"
   ]
  },
  {
   "cell_type": "code",
   "execution_count": 15,
   "id": "5892772a-214f-40c0-a01a-98800353c30b",
   "metadata": {},
   "outputs": [
    {
     "data": {
      "text/html": [
       "0.367879441171442"
      ],
      "text/latex": [
       "0.367879441171442"
      ],
      "text/markdown": [
       "0.367879441171442"
      ],
      "text/plain": [
       "[1] 0.3678794"
      ]
     },
     "metadata": {},
     "output_type": "display_data"
    }
   ],
   "source": [
    "dpois(1, 1)"
   ]
  },
  {
   "cell_type": "markdown",
   "id": "c3ed0f1e-a152-4454-9f09-7f2ffd1b0161",
   "metadata": {},
   "source": [
    "Xác suất không sai chữ nào:"
   ]
  },
  {
   "cell_type": "code",
   "execution_count": 16,
   "id": "856d4558-5437-47e4-8ca8-784d0777bec1",
   "metadata": {},
   "outputs": [
    {
     "data": {
      "text/html": [
       "0.367879441171442"
      ],
      "text/latex": [
       "0.367879441171442"
      ],
      "text/markdown": [
       "0.367879441171442"
      ],
      "text/plain": [
       "[1] 0.3678794"
      ]
     },
     "metadata": {},
     "output_type": "display_data"
    }
   ],
   "source": [
    "dpois(0, 1)"
   ]
  },
  {
   "cell_type": "markdown",
   "id": "6c874185-0d72-48d0-aacb-94d1c4c4b23b",
   "metadata": {},
   "source": [
    "Chú ý trong hàm trên, chúng ta chỉ đơn giản cung cấp thông số k = 2 và (λ = 1. Trên đây\n",
    "là xác suất mà thư kí đánh sai chính tả đúng 2 chữ. Nhưng xác suất mà thư kí đánh sai\n",
    "chính tả hơn 2 chữ (tức 3, 4, 5, … chữ) có thể ước tính bằng:\n",
    "$$\n",
    "\\begin{aligned}\n",
    "P(X > 2) &= P(X = 3) + P(X = 4) + P(X = 5) + ... \\\\\n",
    "&= 1 - P(X \\leq 2) \\\\\n",
    "&= 1 - 0.3678 - 0.3678 - 0.1839 \\\\\n",
    "&= 0.08\n",
    "\\end{aligned}\n",
    "$$"
   ]
  },
  {
   "cell_type": "markdown",
   "id": "0c6f3374-88a0-4233-89d8-6cd40a13f418",
   "metadata": {},
   "source": [
    "Bằng R, chúng ta có thể tính như sau:"
   ]
  },
  {
   "cell_type": "code",
   "execution_count": 18,
   "id": "57251ce6-83e5-4e3c-905a-4ad88037e482",
   "metadata": {},
   "outputs": [
    {
     "data": {
      "text/html": [
       "0.919698602928606"
      ],
      "text/latex": [
       "0.919698602928606"
      ],
      "text/markdown": [
       "0.919698602928606"
      ],
      "text/plain": [
       "[1] 0.9196986"
      ]
     },
     "metadata": {},
     "output_type": "display_data"
    }
   ],
   "source": [
    "# P(X ≤ 2)\n",
    "ppois(2, 1)"
   ]
  },
  {
   "cell_type": "code",
   "execution_count": 19,
   "id": "164e3736-fc03-45d3-b6ba-ac9f8655afde",
   "metadata": {},
   "outputs": [
    {
     "data": {
      "text/html": [
       "0.0803013970713942"
      ],
      "text/latex": [
       "0.0803013970713942"
      ],
      "text/markdown": [
       "0.0803013970713942"
      ],
      "text/plain": [
       "[1] 0.0803014"
      ]
     },
     "metadata": {},
     "output_type": "display_data"
    }
   ],
   "source": [
    "# 1-P(X ≤ 2)\n",
    "1-ppois(2, 1)"
   ]
  },
  {
   "cell_type": "markdown",
   "id": "b565e251-6114-4f9b-84e4-3ca781be2337",
   "metadata": {},
   "source": [
    "### 6.3.3 Hàm phân phối chuẩn (Normal distribution)\n",
    "Hai luật phân phối mà chúng ta vừa xem xét trên đây thuộc vào nhóm phân phối\n",
    "áp dụng cho các biến số phi liên tục (discrete distributions), mà trong đó biến số có\n",
    "những giá trị theo bậc thứ hay thể loại. Đối với các biến số liên tục, có vài luật phân phối thích hợp khác, mà quan trọng nhất là phân phối chuẩn. Phân phối chuẩn là nền tảng\n",
    "quan trọng nhất của phân tích thống kê. Có thể nói không ngoa rằng hầu hết lí thuyết\n",
    "thống kê được xây dựng trên nền tảng của phân phối chuẩn. Hàm mật độ phân phối\n",
    "chuẩn có hai thông số: trung bình µ và phương sai $σ^2$ (hay độ lệch chuẩn σ). Gọi X là\n",
    "một biến số (như chiều cao chẳng hạn), hàm mật độ phân phối chuẩn phát biểu rằng xác\n",
    "suất mà X = x là:\n",
    "$$ P(X=x|\\mu,\\sigma^2) = f(x) = \\frac{1}{\\sqrt{2\\pi}\\sigma}\\exp\\left[-\\frac{(x-\\mu)^2}{2\\sigma^2}\\right]\n",
    "$$\n",
    "\n",
    "**Ví dụ 6:** Hàm mật độ phân phối chuẩn (Normal density probability function).\n",
    "Chiều cao trung bình hiện nay ở phụ nữ Việt Nam là 156 cm, với độ lệch chuẩn là 4.6\n",
    "cm. Cũng biết rằng chiều cao này tuân theo luật phân phối chuẩn. Với hai thông số\n",
    "µ=156, σ=4.6, chúng ta có thể xây dựng một hàm phân phối chiều cao cho toàn bộ quần\n",
    "thể phụ nữ Việt Nam, và hàm này có hình dạng như sau:\n",
    "\n",
    "\n",
    "\n"
   ]
  },
  {
   "cell_type": "code",
   "execution_count": 20,
   "id": "9cc3d60e-76e0-465e-8c91-3bd77f8e4191",
   "metadata": {},
   "outputs": [
    {
     "data": {
      "image/png": "[encoded data removed]",
      "text/plain": [
       "Plot with title \"Probability distribution of height in Vietnamese women\""
      ]
     },
     "metadata": {
      "image/png": {
       "height": 420,
       "width": 420
      }
     },
     "output_type": "display_data"
    }
   ],
   "source": [
    "height <- seq(130, 200, 1)\n",
    "plot(height, dnorm(height, 156, 4.6),\n",
    "    type='l',\n",
    "    ylab='f(height)',\n",
    "    xlab='Height',\n",
    "     main='Probability distribution of height in Vietnamese women')"
   ]
  },
  {
   "cell_type": "markdown",
   "id": "24e9e940-3f2c-42f0-865f-e8f496575c91",
   "metadata": {},
   "source": [
    "Biểu đồ trên được vẽ bằng hai lệnh sau đây. Lệnh đầu tiên nhằm tạo ra một biến số\n",
    "height có giá trị 130, 131, 132, …, 200 cm. Lệnh thứ hai là vẽ biểu đồ với điều kiện\n",
    "trung bình là 156 cm và độ lệch chuẩn là 4.6 cm."
   ]
  },
  {
   "cell_type": "markdown",
   "id": "fb2881ff-69d0-4eb8-975e-f6b363885778",
   "metadata": {},
   "source": [
    "Với hai thông số trên (và biểu đồ), chúng ta có thể ước tính xác suất cho bất cứ\n",
    "chiều cao nào. Chẳng hạn như xác suất một phụ nữ Việt Nam có chiều cao 160 cm là:\n",
    "\n",
    "$$ P(X=160|\\mu=156, \\sigma=4.6)=\\frac{1}{4.6\\sqrt{2\\times3.1416}}exp\\left[-\\frac{(160-156)^2}{2(4.6)^2}\\right] = 0.0594 $$"
   ]
  },
  {
   "cell_type": "markdown",
   "id": "ddbc9d9d-0d36-43b7-bba6-ff2583040b9d",
   "metadata": {},
   "source": [
    "Hàm $dnorm(x, mean, sd)$ trong R có thể tính toán xác suất này cho chúng ta một\n",
    "cách gọn nhẹ:"
   ]
  },
  {
   "cell_type": "code",
   "execution_count": 21,
   "id": "5b5e9682-7ba7-4a78-bcec-e8735afe79a1",
   "metadata": {},
   "outputs": [
    {
     "data": {
      "text/html": [
       "0.0594234309266334"
      ],
      "text/latex": [
       "0.0594234309266334"
      ],
      "text/markdown": [
       "0.0594234309266334"
      ],
      "text/plain": [
       "[1] 0.05942343"
      ]
     },
     "metadata": {},
     "output_type": "display_data"
    }
   ],
   "source": [
    "dnorm(160, mean=156, sd=4.6)"
   ]
  },
  {
   "cell_type": "markdown",
   "id": "a51160f0-fee9-41aa-b2a5-45ac221265ee",
   "metadata": {},
   "source": [
    "Hàm xác suất chuẩn tích lũy (cumulative normal probability function). Vì\n",
    "chiều cao là một biến số liên tục, trong thực tế chúng ta ít khi nào muốn tìm xác suất cho\n",
    "một giá trị cụ thể x, mà thường tìm xác suất cho một khoảng giá trị a đến b. Chẳng hạn\n",
    "như chúng ta muốn biết xác suất chiều cao từ 150 đến 160 cm (tức là $P(160 ≤ X ≤ 150)$,\n",
    "hay xác suất chiều cao thấp hơn 145 cm, tức $P(X < 145)$. Để tìm đáp số các câu hỏi như\n",
    "thế, chúng ta cần đến hàm xác suất chuẩn tích lũy, được định nghĩa như sau:\n",
    "$$ P(a \\leq X \\leq b) = \\int_{a}^{b} f(x) dx$$"
   ]
  },
  {
   "cell_type": "markdown",
   "id": "018bdfa5-7217-4de7-95f0-233dfdc99338",
   "metadata": {},
   "source": [
    "Thành ra, $ P(160 ≤ X ≤ 150)$ chính là diện tích tính từ trục hoành = 150 đến 160 của biểu\n",
    "đồ 2. Trong R có hàm $pnorm(x, mean, sd)$ dùng để tính xác suất tích lũy cho\n",
    "một phân phối chuẩn rất có ích.\n",
    "\n",
    "$$\\text{pnorm}(a, \\text{mean}, \\text{sd}) = \\int_{-\\infty}^{a} f(x) dx = P(X \\leq a | \\text{mean}, \\text{sd})$$\n",
    "Chẳng hạn như xác suất chiều cao phụ nữ Việt Nam bằng hoặc thấp hơn 150 cm là 9.6%:"
   ]
  },
  {
   "cell_type": "code",
   "execution_count": 22,
   "id": "d2147e06-cc0e-4b60-a358-e34355fb9e44",
   "metadata": {},
   "outputs": [
    {
     "data": {
      "text/html": [
       "0.0960575077897724"
      ],
      "text/latex": [
       "0.0960575077897724"
      ],
      "text/markdown": [
       "0.0960575077897724"
      ],
      "text/plain": [
       "[1] 0.09605751"
      ]
     },
     "metadata": {},
     "output_type": "display_data"
    }
   ],
   "source": [
    "pnorm(150, 156, 4.6)"
   ]
  },
  {
   "cell_type": "markdown",
   "id": "743b1733-32f7-402e-81b9-20727958c280",
   "metadata": {},
   "source": [
    "Hay xác suất chiều cao phụ nữ Việt Nam bằng hoặc cao hơn 165 cm là:"
   ]
  },
  {
   "cell_type": "code",
   "execution_count": 23,
   "id": "a17d01c7-40a6-47a7-87ed-aaa30a69aa73",
   "metadata": {},
   "outputs": [
    {
     "data": {
      "text/html": [
       "0.0410059111637475"
      ],
      "text/latex": [
       "0.0410059111637475"
      ],
      "text/markdown": [
       "0.0410059111637475"
      ],
      "text/plain": [
       "[1] 0.04100591"
      ]
     },
     "metadata": {},
     "output_type": "display_data"
    }
   ],
   "source": [
    "1-pnorm(164, 156, 4.6)"
   ]
  },
  {
   "cell_type": "markdown",
   "id": "1e2c34fd-3471-4553-96ba-fd5b3d935099",
   "metadata": {},
   "source": [
    "Nói cách khác, chỉ có khoảng 4.1% phụ nữ Việt Nam có chiều cao bằng hay cao hơn 165\n",
    "cm."
   ]
  },
  {
   "cell_type": "markdown",
   "id": "1f37f010-3f77-4ca7-b500-7ecc6388c5ab",
   "metadata": {},
   "source": [
    "**Ví dụ 7:** Ứng dụng luật phân phối chuẩn: Trong một quần thể, chúng ta biết\n",
    "rằng áp suất máu trung bình là 100 mmHg và độ lệch chuẩn là 13 mmHg, hỏi: có bao\n",
    "nhiêu ngừơi trong quần thể này có áp suất máu bằng hoặc cao hơn 120 mmHg? Câu trả\n",
    "lời bằng R là:"
   ]
  },
  {
   "cell_type": "code",
   "execution_count": 24,
   "id": "3d8ed197-d1c2-4122-8499-62dfe29da6aa",
   "metadata": {},
   "outputs": [
    {
     "data": {
      "text/html": [
       "0.0619679028363712"
      ],
      "text/latex": [
       "0.0619679028363712"
      ],
      "text/markdown": [
       "0.0619679028363712"
      ],
      "text/plain": [
       "[1] 0.0619679"
      ]
     },
     "metadata": {},
     "output_type": "display_data"
    }
   ],
   "source": [
    "1-pnorm(120, mean=100, sd=13)"
   ]
  },
  {
   "cell_type": "markdown",
   "id": "d7d0f54c-436d-4392-9aea-1cf79bb404e2",
   "metadata": {},
   "source": [
    "Tức khoảng 6.2% người trong quần thể này có áp suất máu bằng hoặc cao hơn 120\n",
    "mmHg."
   ]
  },
  {
   "cell_type": "markdown",
   "id": "4d0b527c-e3af-403c-8eb7-e4a2eab80a04",
   "metadata": {},
   "source": [
    "### 6.3.4 Hàm phân phối chuẩn chuẩn hóa (Standardized Normal distribution)\n",
    "\n",
    "Một biến X tuân theo luật phân phối chuẩn với trung bình bình µ và phương sai σ2\n",
    "thường được viết tắt là:\n",
    "$$ X \\sim N(\\mu, \\sigma^2)$$ \n",
    "Ở đây µ và $σ^2$ tùy thuộc vào đơn vị đo lường của biến số. Chẳng hạn như chiều\n",
    "cao được tính bằng cm (hay m), huyết áp được đo bằng mmHg, tuổi được đo bằng năm,\n",
    "v.v… cho nên đôi khi mô tả một biến số bằng đơn vị gốc rất khó so sánh. Một cách đơn\n",
    "giản hơn là chuẩn hóa (standardized) X sao cho số trung bình là 0 và phương sai là 1.\n",
    "Sau vài thao tác số học, có thể chứng minh dễ dàng rằng, cách biến đổi X để đáp ứng điều\n",
    "kiện trên là:\n",
    "$$ Z = \\frac{X - \\mu}{\\sigma}$$\n",
    "Nói theo ngôn ngữ toán: nếu X ~ N(µ , $σ^2$), thì (X – µ)/$σ^2$ ~ N(0, 1). Như vậy qua\n",
    "công thức trên, Z thực chất là độ khác biệt giữa một số và trung bình tính bằng số độ lệch\n",
    "chuẩn. Nếu Z = 0, chúng ta biết rằng X bằng số trung bình µ. Nếu Z = -1, chúng ta biết\n",
    "rằng X thấp hơn µ đúng 1 độ lệch chuẩn. Tương tự, Z = 2.5, chúng ta biết rằng X cao hơn\n",
    "µ đúng 2.5 độ lệch chuẩn. v.v…\n",
    "\n",
    "Biểu đồ phân phối chiều cao của phụ nữ Việt Nam có thể mô tả bằng một đơn vị\n",
    "mới, đó là chỉ số z như sau:"
   ]
  },
  {
   "cell_type": "code",
   "execution_count": 25,
   "id": "54b27aac-8acf-446c-bf64-1d5adb63575f",
   "metadata": {},
   "outputs": [
    {
     "data": {
      "image/png": "[encoded data removed]",
      "text/plain": [
       "Plot with title \"Probability distribution of height in Vietnamese women\""
      ]
     },
     "metadata": {
      "image/png": {
       "height": 420,
       "width": 420
      }
     },
     "output_type": "display_data"
    }
   ],
   "source": [
    "height <- seq(-4, 4, 0.1)\n",
    "plot(height, dnorm(height, 0, 1),\n",
    "    type='l',\n",
    "    ylab='f(z)',\n",
    "    xlab='z',\n",
    "    main='Probability distribution of height in Vietnamese women')"
   ]
  },
  {
   "cell_type": "markdown",
   "id": "2c92c304-5f39-433d-a473-291ad5a2af43",
   "metadata": {},
   "source": [
    "Biểu đồ 3. Phân phối chuẩn hóa chiều cao ở phụ\n",
    "nữ Việt Nam."
   ]
  },
  {
   "cell_type": "markdown",
   "id": "5763e323-a427-4522-8a40-8828df38e882",
   "metadata": {},
   "source": [
    "Với phân phối chuẩn chuẩn hoá, chúng ta có một tiện lợi là có thể dùng nó để mô tả và so\n",
    "sánh mật độ phân phối của bất cứ biến nào, vì tất cả đều được chuyển sang chỉ số z.\n",
    "\n",
    "Trong biểu đồ trên, trục tung là xác suất z và trục hoành là biến số z. Chúng ta có thể\n",
    "tính toán xác suất z nhỏ hơn một hằng số (constant) nào đó dê dàng bằng R. Ví dụ,\n",
    "chúng ta muốn tìm P(z ≤ -1.96) = ? cho một phân phối mà trung bình là 0 và độ lệch\n",
    "chuẩn là 1."
   ]
  },
  {
   "cell_type": "code",
   "execution_count": 26,
   "id": "92d3aa15-5b74-4efc-a4af-7e51d1008541",
   "metadata": {},
   "outputs": [
    {
     "data": {
      "text/html": [
       "0.0249978951482204"
      ],
      "text/latex": [
       "0.0249978951482204"
      ],
      "text/markdown": [
       "0.0249978951482204"
      ],
      "text/plain": [
       "[1] 0.0249979"
      ]
     },
     "metadata": {},
     "output_type": "display_data"
    }
   ],
   "source": [
    "pnorm(-1.96, mean=0, sd=1)"
   ]
  },
  {
   "cell_type": "markdown",
   "id": "2a9f2036-6b60-46ba-a472-16b7c23b71b0",
   "metadata": {},
   "source": [
    "Hay $P(z ≤ 1.96) = ?$"
   ]
  },
  {
   "cell_type": "code",
   "execution_count": 27,
   "id": "e69f3c61-6da5-4a91-bbb2-65fa44371ea2",
   "metadata": {},
   "outputs": [
    {
     "data": {
      "text/html": [
       "0.97500210485178"
      ],
      "text/latex": [
       "0.97500210485178"
      ],
      "text/markdown": [
       "0.97500210485178"
      ],
      "text/plain": [
       "[1] 0.9750021"
      ]
     },
     "metadata": {},
     "output_type": "display_data"
    }
   ],
   "source": [
    " pnorm(1.96, mean=0, sd=1)"
   ]
  },
  {
   "cell_type": "markdown",
   "id": "7263e697-4b99-41ad-bbb7-a3541ef40d00",
   "metadata": {},
   "source": [
    "Do đó, $P(-1.96 < z < 1.96)$ chính là:"
   ]
  },
  {
   "cell_type": "code",
   "execution_count": 28,
   "id": "cd2a2d54-44e5-49c2-aac0-e1e695167a59",
   "metadata": {},
   "outputs": [
    {
     "data": {
      "text/html": [
       "0.950004209703559"
      ],
      "text/latex": [
       "0.950004209703559"
      ],
      "text/markdown": [
       "0.950004209703559"
      ],
      "text/plain": [
       "[1] 0.9500042"
      ]
     },
     "metadata": {},
     "output_type": "display_data"
    }
   ],
   "source": [
    "pnorm(1.96) - pnorm(-1.96)"
   ]
  },
  {
   "cell_type": "markdown",
   "id": "40e10434-6b2f-4d35-88a7-9e054e18d484",
   "metadata": {},
   "source": [
    "Nói cách khác, xác suất 95% là z nằm giữa -1.96 và 1.96. (Chú ý trong lệnh trên tôi\n",
    "không cung cấp $mean=0, sd=1$, bởi vì trong thực tế, pnorm giá trị mặc định (default\n",
    "value) của thông số mean là 0 và sd là 1)."
   ]
  },
  {
   "cell_type": "markdown",
   "id": "25ca3add-b0ca-485c-a31b-9b34484feec4",
   "metadata": {},
   "source": [
    "**Ví dụ 6 (tiếp tục):** Xin nhắc lại để tiện việc theo dõi, chiều cao trung bình ở phụ\n",
    "nữ Việt Nam là 156 cm và độ lệch chuẩn là 4.6 cm. Do đó, một phụ nữ có chiều cao 170\n",
    "cm cũng có nghĩa là $z = (170 – 156) / 4.6 = 3.04$ độ lệch chuẩn, và ti lệ các phụ nữ Việt\n",
    "Nam có chiều cao cao hơn 170 cm là rất thấp, chỉ khoảng 0.1%."
   ]
  },
  {
   "cell_type": "code",
   "execution_count": 29,
   "id": "0ed03f07-2fc6-4e90-af65-f7054e62b752",
   "metadata": {},
   "outputs": [
    {
     "data": {
      "text/html": [
       "0.0011828907431044"
      ],
      "text/latex": [
       "0.0011828907431044"
      ],
      "text/markdown": [
       "0.0011828907431044"
      ],
      "text/plain": [
       "[1] 0.001182891"
      ]
     },
     "metadata": {},
     "output_type": "display_data"
    }
   ],
   "source": [
    "1-pnorm(3.04)"
   ]
  },
  {
   "cell_type": "markdown",
   "id": "bf7ec87a-41ea-4884-8dfc-8fc954b7da27",
   "metadata": {},
   "source": [
    "**Tìm định lượng (quantile) của một phân phối chuẩn.** Đôi khi chúng ta cần\n",
    "làm một tính toán đảo ngược. Chẳng hạn như chúng ta muốn biết: nếu xác suất Z nhỏ\n",
    "hơn một hằng số z nào đó cho trước bằng p, thì z là bao nhiêu? Diễn tả theo kí hiệu xác\n",
    "suất, chúng ta muốn tìm z trong nếu:\n",
    "$$P(Z < z) = p$$\n",
    "\n",
    "Để trả lời câu hỏi này, chúng ta sử dụng hàm qnorm(p, mean=, sd=).\n",
    "\n",
    "**Ví dụ 8:** Biết rằng Z ~ N(0, 1) và nếu $P(Z < z) = 0.95$, chúng ta muốn tìm z."
   ]
  },
  {
   "cell_type": "code",
   "execution_count": 30,
   "id": "7f46b7dc-3866-41a0-8cf5-d70cedc7cbcc",
   "metadata": {},
   "outputs": [
    {
     "data": {
      "text/html": [
       "1.64485362695147"
      ],
      "text/latex": [
       "1.64485362695147"
      ],
      "text/markdown": [
       "1.64485362695147"
      ],
      "text/plain": [
       "[1] 1.644854"
      ]
     },
     "metadata": {},
     "output_type": "display_data"
    }
   ],
   "source": [
    "qnorm(0.95, mean=0, sd=1)"
   ]
  },
  {
   "cell_type": "markdown",
   "id": "3d4e764e-a737-4044-a445-b94b404980b8",
   "metadata": {},
   "source": [
    "Hay $P(Z < z) = 0.975$ cho phân phối chuẩn với trung bình 0 và độ lệch chuẩn 1:"
   ]
  },
  {
   "cell_type": "code",
   "execution_count": 31,
   "id": "2cfbffc8-f47e-45d1-8e09-6003937616e4",
   "metadata": {},
   "outputs": [
    {
     "data": {
      "text/html": [
       "1.95996398454005"
      ],
      "text/latex": [
       "1.95996398454005"
      ],
      "text/markdown": [
       "1.95996398454005"
      ],
      "text/plain": [
       "[1] 1.959964"
      ]
     },
     "metadata": {},
     "output_type": "display_data"
    }
   ],
   "source": [
    "qnorm(0.975, mean=0, sd=1)"
   ]
  },
  {
   "cell_type": "code",
   "execution_count": null,
   "id": "0bf5a1c1-47b9-4ba4-a136-1328e0e5ad84",
   "metadata": {},
   "outputs": [],
   "source": []
  }
 ],
 "metadata": {
  "kernelspec": {
   "display_name": "R",
   "language": "R",
   "name": "ir"
  },
  "language_info": {
   "codemirror_mode": "r",
   "file_extension": ".r",
   "mimetype": "text/x-r-source",
   "name": "R",
   "pygments_lexer": "r",
   "version": "4.3.3"
  }
 },
 "nbformat": 4,
 "nbformat_minor": 5
}
