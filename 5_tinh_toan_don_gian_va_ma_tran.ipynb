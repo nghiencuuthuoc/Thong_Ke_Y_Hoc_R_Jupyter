{
 "cells": [
  {
   "cell_type": "markdown",
   "id": "ba387972-691c-459b-88d7-7111ab9dfcc6",
   "metadata": {},
   "source": [
    "# Dùng R cho các phép tính đơn giản và ma trận"
   ]
  },
  {
   "cell_type": "markdown",
   "id": "c7d225cb-56be-498d-a166-b10f23d04452",
   "metadata": {},
   "source": [
    "## 5.1 Tính toán đơn giản"
   ]
  },
  {
   "cell_type": "markdown",
   "id": "1b552e22-e3af-4bb5-b6fd-44304aeead79",
   "metadata": {},
   "source": [
    "| Operation | Example | Result |\n",
    "|---|---|---|\n",
    "| Addition | 15 + 2997 | 3012 |\n",
    "| Subtraction | 15 + 2997 - 9768 | -6756 |\n",
    "| Multiplication and Division | -27 * 12 / 21 | -15.42857 |\n",
    "| Exponentiation | (25 - 5)^3 | 8000 |\n",
    "| Square Root | √10 | 3.162278 |\n",
    "| Pi (π) | pi | 3.141593 |\n",
    "| Natural Logarithm | log(10) | 2.302585 |\n",
    "| Base-10 Logarithm | log10(100) | 2 |\n",
    "| Exponential Function | e^2.7689 | 15.94109 |\n",
    "| Trigonometric Functions | cos(pi) | -1 |\n",
    "| Vectors | x <- c(2, 3, 1, 5, 4, 6, 7, 6, 8) |  |\n",
    "| Sum of Vector Elements | sum(x) | 42 |\n",
    "| Vector Multiplication | x * 2 |  |\n",
    "| Exponential Function with Vector | exp(x/10) |  |\n",
    "| Trigonometric Function with Vector | exp(cos(x/10)) |  |\n",
    "\n",
    "**Note:** The last two rows with vector operations have numerical outputs, but they are not formatted in a table-friendly way in the original image. You might need to adjust the table format or add more rows to accommodate these outputs."
   ]
  },
  {
   "cell_type": "markdown",
   "id": "43ab0daa-b6e9-4da8-96d0-2a00f0278497",
   "metadata": {},
   "source": [
    "Tính tổng bình phương (sum of squares): $1^2 + 2^2 + 3^2 + 4^2 + 5^2$"
   ]
  },
  {
   "cell_type": "markdown",
   "id": "6482ac5e-fd10-470a-b6ce-213ced33c06d",
   "metadata": {},
   "source": [
    "Tính tổng bình phương điều chỉnh (adjusted sum of squares): $\\sum_{i=1}^{n}(x_i-\\bar{x})^2$ = ?\n",
    "\n",
    "Trong công thức trên mean(x) là số trung bình của vector x."
   ]
  },
  {
   "cell_type": "code",
   "execution_count": 1,
   "id": "200cedd4-d184-4415-8fb0-29c67e97ff88",
   "metadata": {},
   "outputs": [
    {
     "data": {
      "text/html": [
       "55"
      ],
      "text/latex": [
       "55"
      ],
      "text/markdown": [
       "55"
      ],
      "text/plain": [
       "[1] 55"
      ]
     },
     "metadata": {},
     "output_type": "display_data"
    }
   ],
   "source": [
    "x <- c(1,2,3,4,5)\n",
    "sum(x^2)"
   ]
  },
  {
   "cell_type": "code",
   "execution_count": 2,
   "id": "b74e0120-6f38-4d84-ad11-c31beee6d6be",
   "metadata": {},
   "outputs": [
    {
     "data": {
      "text/html": [
       "10"
      ],
      "text/latex": [
       "10"
      ],
      "text/markdown": [
       "10"
      ],
      "text/plain": [
       "[1] 10"
      ]
     },
     "metadata": {},
     "output_type": "display_data"
    }
   ],
   "source": [
    "x <- c(1,2,3,4,5)\n",
    "sum((x-mean(x))^2)"
   ]
  },
  {
   "cell_type": "markdown",
   "id": "e2cd85e4-9fc3-4597-a61b-cf936ad5fcd9",
   "metadata": {},
   "source": [
    "Tính sai số bình phương (mean square): $\\sum_{i=1}^{n}(x_i-\\bar{x})^2/n = ?$"
   ]
  },
  {
   "cell_type": "code",
   "execution_count": 3,
   "id": "6dcd1fa2-5b92-43a4-ba5e-68d47cd43671",
   "metadata": {},
   "outputs": [
    {
     "data": {
      "text/html": [
       "2"
      ],
      "text/latex": [
       "2"
      ],
      "text/markdown": [
       "2"
      ],
      "text/plain": [
       "[1] 2"
      ]
     },
     "metadata": {},
     "output_type": "display_data"
    }
   ],
   "source": [
    "x <- c(1,2,3,4,5)\n",
    "sum((x-mean(x))^2)/length(x)"
   ]
  },
  {
   "cell_type": "markdown",
   "id": "380375ec-bb04-4942-b309-12c5eb0a673e",
   "metadata": {},
   "source": [
    "Tính phương sai (variance) và độ lệch chuẩn (standard deviation): $s^2 = \\sum_{i=1}^{n}(x_i-\\bar{x})^2/(n-1) = ?$"
   ]
  },
  {
   "cell_type": "code",
   "execution_count": 5,
   "id": "525b779e-41c4-420e-8a23-a10e57ae158b",
   "metadata": {},
   "outputs": [
    {
     "data": {
      "text/html": [
       "2.5"
      ],
      "text/latex": [
       "2.5"
      ],
      "text/markdown": [
       "2.5"
      ],
      "text/plain": [
       "[1] 2.5"
      ]
     },
     "metadata": {},
     "output_type": "display_data"
    }
   ],
   "source": [
    "x <- c(1,2,3,4,5)\n",
    "var(x)"
   ]
  },
  {
   "cell_type": "markdown",
   "id": "149b8916-2155-4ecb-843e-94745203d748",
   "metadata": {},
   "source": [
    "Độ lệch chuẩn: $ \\sqrt{s^2}$"
   ]
  },
  {
   "cell_type": "code",
   "execution_count": 7,
   "id": "853a95ef-3c9a-4b3c-8607-1351dc10eb27",
   "metadata": {},
   "outputs": [
    {
     "data": {
      "text/html": [
       "1.58113883008419"
      ],
      "text/latex": [
       "1.58113883008419"
      ],
      "text/markdown": [
       "1.58113883008419"
      ],
      "text/plain": [
       "[1] 1.581139"
      ]
     },
     "metadata": {},
     "output_type": "display_data"
    }
   ],
   "source": [
    "sd(x)"
   ]
  },
  {
   "cell_type": "markdown",
   "id": "16f88c40-fed8-43f6-beb2-553950cf3f0c",
   "metadata": {},
   "source": [
    "## 5.2 Số liệu về ngày tháng\n",
    "Trong phân tích thống kê, các số liệu ngày tháng có khi là một vấn đề nan giải, vì\n",
    "có rất nhiều cách để mô tả các dữ liệu này. Chẳng hạn như 01/02/2003, có khi người ta\n",
    "viết 1/2/2003, 01/02/03, 01FEB2003, 2003-02-01, v.v… Thật ra, có một qui luật chuẩn\n",
    "để viết số liệu ngày tháng là tiêu chuẩn ISO 8601 (nhưng rất ít ai tuân theo!) Theo qui\n",
    "luật này, chúng ta viết: *2003-02-01*\n",
    "\n",
    "Lí do đằng sau cách viết này là chúng ta viết số với đơn vị lớn nhất trước, rồi dần dần đến\n",
    "đơn vị nhỏ nhất. Chẳng hạn như với số “123” thì chúng ta biết ngay rằng “một trăm hai\n",
    "mươi ba”: bắt đầu là hàng trăm, rồi đến hàng chục, v.v… Và đó cũng là cách viết ngày\n",
    "tháng chuẩn của R."
   ]
  },
  {
   "cell_type": "code",
   "execution_count": 9,
   "id": "d468e826-6ab4-4860-a2c9-40552d4c6b24",
   "metadata": {},
   "outputs": [],
   "source": [
    "date1 <- as.Date('01/02/06', format='%d/%m/%y')\n",
    "date2 <- as.Date('06/03/01', format='%y/%m/%d')"
   ]
  },
  {
   "cell_type": "markdown",
   "id": "84ff6bc5-fc29-4fbf-af02-ea062957acfb",
   "metadata": {},
   "source": [
    "Chú ý chúng ta nhập hai số liệu khác nhau về thứ tự ngày tháng năm, nhưng chúng ta\n",
    "cũng cho biết cụ thể cách đọc bằng %d (ngày), %m (tháng), và %y (năm). Chúng ta có thể\n",
    "tính số ngày giữa hai thởi điểm:"
   ]
  },
  {
   "cell_type": "code",
   "execution_count": 11,
   "id": "3823bd8a-4030-46c7-829e-4150e9be33d2",
   "metadata": {},
   "outputs": [
    {
     "data": {
      "text/plain": [
       "Time difference of 28 days"
      ]
     },
     "metadata": {},
     "output_type": "display_data"
    }
   ],
   "source": [
    "days <- date2-date1\n",
    "days"
   ]
  },
  {
   "cell_type": "markdown",
   "id": "00867e8c-9136-47e4-b5eb-9633544411c6",
   "metadata": {},
   "source": [
    "Chúng ta cũng có thể tạo một dãy số liệu ngày tháng như sau:"
   ]
  },
  {
   "cell_type": "code",
   "execution_count": 13,
   "id": "fec0ec8e-3d25-4423-879d-92c4b1d6c87a",
   "metadata": {},
   "outputs": [
    {
     "data": {
      "text/html": [
       "<style>\n",
       ".list-inline {list-style: none; margin:0; padding: 0}\n",
       ".list-inline>li {display: inline-block}\n",
       ".list-inline>li:not(:last-child)::after {content: \"\\00b7\"; padding: 0 .5ex}\n",
       "</style>\n",
       "<ol class=list-inline><li><time datetime=\"2005-01-01\">2005-01-01</time></li><li><time datetime=\"2005-02-01\">2005-02-01</time></li><li><time datetime=\"2005-03-01\">2005-03-01</time></li><li><time datetime=\"2005-04-01\">2005-04-01</time></li><li><time datetime=\"2005-05-01\">2005-05-01</time></li><li><time datetime=\"2005-06-01\">2005-06-01</time></li><li><time datetime=\"2005-07-01\">2005-07-01</time></li><li><time datetime=\"2005-08-01\">2005-08-01</time></li><li><time datetime=\"2005-09-01\">2005-09-01</time></li><li><time datetime=\"2005-10-01\">2005-10-01</time></li><li><time datetime=\"2005-11-01\">2005-11-01</time></li><li><time datetime=\"2005-12-01\">2005-12-01</time></li></ol>\n"
      ],
      "text/latex": [
       "\\begin{enumerate*}\n",
       "\\item 2005-01-01\n",
       "\\item 2005-02-01\n",
       "\\item 2005-03-01\n",
       "\\item 2005-04-01\n",
       "\\item 2005-05-01\n",
       "\\item 2005-06-01\n",
       "\\item 2005-07-01\n",
       "\\item 2005-08-01\n",
       "\\item 2005-09-01\n",
       "\\item 2005-10-01\n",
       "\\item 2005-11-01\n",
       "\\item 2005-12-01\n",
       "\\end{enumerate*}\n"
      ],
      "text/markdown": [
       "1. 2005-01-01\n",
       "2. 2005-02-01\n",
       "3. 2005-03-01\n",
       "4. 2005-04-01\n",
       "5. 2005-05-01\n",
       "6. 2005-06-01\n",
       "7. 2005-07-01\n",
       "8. 2005-08-01\n",
       "9. 2005-09-01\n",
       "10. 2005-10-01\n",
       "11. 2005-11-01\n",
       "12. 2005-12-01\n",
       "\n",
       "\n"
      ],
      "text/plain": [
       " [1] \"2005-01-01\" \"2005-02-01\" \"2005-03-01\" \"2005-04-01\" \"2005-05-01\"\n",
       " [6] \"2005-06-01\" \"2005-07-01\" \"2005-08-01\" \"2005-09-01\" \"2005-10-01\"\n",
       "[11] \"2005-11-01\" \"2005-12-01\""
      ]
     },
     "metadata": {},
     "output_type": "display_data"
    }
   ],
   "source": [
    "seq(as.Date('2005-01-01'), as.Date('2005-12-31'), by='month')"
   ]
  },
  {
   "cell_type": "code",
   "execution_count": 14,
   "id": "52962bd0-0e51-47b0-b948-88c6b27e112b",
   "metadata": {},
   "outputs": [
    {
     "data": {
      "text/html": [
       "<style>\n",
       ".list-inline {list-style: none; margin:0; padding: 0}\n",
       ".list-inline>li {display: inline-block}\n",
       ".list-inline>li:not(:last-child)::after {content: \"\\00b7\"; padding: 0 .5ex}\n",
       "</style>\n",
       "<ol class=list-inline><li><time datetime=\"2005-01-01\">2005-01-01</time></li><li><time datetime=\"2005-01-15\">2005-01-15</time></li><li><time datetime=\"2005-01-29\">2005-01-29</time></li><li><time datetime=\"2005-02-12\">2005-02-12</time></li><li><time datetime=\"2005-02-26\">2005-02-26</time></li><li><time datetime=\"2005-03-12\">2005-03-12</time></li><li><time datetime=\"2005-03-26\">2005-03-26</time></li><li><time datetime=\"2005-04-09\">2005-04-09</time></li><li><time datetime=\"2005-04-23\">2005-04-23</time></li><li><time datetime=\"2005-05-07\">2005-05-07</time></li><li><time datetime=\"2005-05-21\">2005-05-21</time></li><li><time datetime=\"2005-06-04\">2005-06-04</time></li><li><time datetime=\"2005-06-18\">2005-06-18</time></li><li><time datetime=\"2005-07-02\">2005-07-02</time></li><li><time datetime=\"2005-07-16\">2005-07-16</time></li><li><time datetime=\"2005-07-30\">2005-07-30</time></li><li><time datetime=\"2005-08-13\">2005-08-13</time></li><li><time datetime=\"2005-08-27\">2005-08-27</time></li><li><time datetime=\"2005-09-10\">2005-09-10</time></li><li><time datetime=\"2005-09-24\">2005-09-24</time></li><li><time datetime=\"2005-10-08\">2005-10-08</time></li><li><time datetime=\"2005-10-22\">2005-10-22</time></li><li><time datetime=\"2005-11-05\">2005-11-05</time></li><li><time datetime=\"2005-11-19\">2005-11-19</time></li><li><time datetime=\"2005-12-03\">2005-12-03</time></li><li><time datetime=\"2005-12-17\">2005-12-17</time></li><li><time datetime=\"2005-12-31\">2005-12-31</time></li></ol>\n"
      ],
      "text/latex": [
       "\\begin{enumerate*}\n",
       "\\item 2005-01-01\n",
       "\\item 2005-01-15\n",
       "\\item 2005-01-29\n",
       "\\item 2005-02-12\n",
       "\\item 2005-02-26\n",
       "\\item 2005-03-12\n",
       "\\item 2005-03-26\n",
       "\\item 2005-04-09\n",
       "\\item 2005-04-23\n",
       "\\item 2005-05-07\n",
       "\\item 2005-05-21\n",
       "\\item 2005-06-04\n",
       "\\item 2005-06-18\n",
       "\\item 2005-07-02\n",
       "\\item 2005-07-16\n",
       "\\item 2005-07-30\n",
       "\\item 2005-08-13\n",
       "\\item 2005-08-27\n",
       "\\item 2005-09-10\n",
       "\\item 2005-09-24\n",
       "\\item 2005-10-08\n",
       "\\item 2005-10-22\n",
       "\\item 2005-11-05\n",
       "\\item 2005-11-19\n",
       "\\item 2005-12-03\n",
       "\\item 2005-12-17\n",
       "\\item 2005-12-31\n",
       "\\end{enumerate*}\n"
      ],
      "text/markdown": [
       "1. 2005-01-01\n",
       "2. 2005-01-15\n",
       "3. 2005-01-29\n",
       "4. 2005-02-12\n",
       "5. 2005-02-26\n",
       "6. 2005-03-12\n",
       "7. 2005-03-26\n",
       "8. 2005-04-09\n",
       "9. 2005-04-23\n",
       "10. 2005-05-07\n",
       "11. 2005-05-21\n",
       "12. 2005-06-04\n",
       "13. 2005-06-18\n",
       "14. 2005-07-02\n",
       "15. 2005-07-16\n",
       "16. 2005-07-30\n",
       "17. 2005-08-13\n",
       "18. 2005-08-27\n",
       "19. 2005-09-10\n",
       "20. 2005-09-24\n",
       "21. 2005-10-08\n",
       "22. 2005-10-22\n",
       "23. 2005-11-05\n",
       "24. 2005-11-19\n",
       "25. 2005-12-03\n",
       "26. 2005-12-17\n",
       "27. 2005-12-31\n",
       "\n",
       "\n"
      ],
      "text/plain": [
       " [1] \"2005-01-01\" \"2005-01-15\" \"2005-01-29\" \"2005-02-12\" \"2005-02-26\"\n",
       " [6] \"2005-03-12\" \"2005-03-26\" \"2005-04-09\" \"2005-04-23\" \"2005-05-07\"\n",
       "[11] \"2005-05-21\" \"2005-06-04\" \"2005-06-18\" \"2005-07-02\" \"2005-07-16\"\n",
       "[16] \"2005-07-30\" \"2005-08-13\" \"2005-08-27\" \"2005-09-10\" \"2005-09-24\"\n",
       "[21] \"2005-10-08\" \"2005-10-22\" \"2005-11-05\" \"2005-11-19\" \"2005-12-03\"\n",
       "[26] \"2005-12-17\" \"2005-12-31\""
      ]
     },
     "metadata": {},
     "output_type": "display_data"
    }
   ],
   "source": [
    "seq(as.Date('2005-01-01'), as.Date('2005-12-31'), by='2 weeks')"
   ]
  },
  {
   "cell_type": "markdown",
   "id": "e0985a38-e7b6-47ac-b16d-723a0b3fe59b",
   "metadata": {},
   "source": [
    "## 5.3 Tạo dãy số bằng hàm seq, rep và gl\n",
    "R còn có công dụng tạo ra những dãy số rất tiện cho việc mô phỏng và thiết kế thí\n",
    "nghiệm. Những hàm thông thường cho dãy số là seq (sequence), rep (repetition) và\n",
    "gl (generating levels):"
   ]
  },
  {
   "cell_type": "markdown",
   "id": "f5e7eefa-2ff5-4d7e-a9cb-f7661fdf47ed",
   "metadata": {},
   "source": [
    "Áp dụng seq\n",
    "• Tạo ra một vector số từ 1 đến 12:"
   ]
  },
  {
   "cell_type": "code",
   "execution_count": 16,
   "id": "6adc6d4a-b910-44c8-beec-83a38236701f",
   "metadata": {},
   "outputs": [
    {
     "data": {
      "text/html": [
       "<style>\n",
       ".list-inline {list-style: none; margin:0; padding: 0}\n",
       ".list-inline>li {display: inline-block}\n",
       ".list-inline>li:not(:last-child)::after {content: \"\\00b7\"; padding: 0 .5ex}\n",
       "</style>\n",
       "<ol class=list-inline><li>1</li><li>2</li><li>3</li><li>4</li><li>5</li><li>6</li><li>7</li><li>8</li><li>9</li><li>10</li><li>11</li><li>12</li></ol>\n"
      ],
      "text/latex": [
       "\\begin{enumerate*}\n",
       "\\item 1\n",
       "\\item 2\n",
       "\\item 3\n",
       "\\item 4\n",
       "\\item 5\n",
       "\\item 6\n",
       "\\item 7\n",
       "\\item 8\n",
       "\\item 9\n",
       "\\item 10\n",
       "\\item 11\n",
       "\\item 12\n",
       "\\end{enumerate*}\n"
      ],
      "text/markdown": [
       "1. 1\n",
       "2. 2\n",
       "3. 3\n",
       "4. 4\n",
       "5. 5\n",
       "6. 6\n",
       "7. 7\n",
       "8. 8\n",
       "9. 9\n",
       "10. 10\n",
       "11. 11\n",
       "12. 12\n",
       "\n",
       "\n"
      ],
      "text/plain": [
       " [1]  1  2  3  4  5  6  7  8  9 10 11 12"
      ]
     },
     "metadata": {},
     "output_type": "display_data"
    }
   ],
   "source": [
    "x <- (1:12)\n",
    "x"
   ]
  },
  {
   "cell_type": "code",
   "execution_count": 17,
   "id": "146b06bb-3d4e-4ff8-9ca4-779330058b14",
   "metadata": {},
   "outputs": [
    {
     "data": {
      "text/html": [
       "<style>\n",
       ".list-inline {list-style: none; margin:0; padding: 0}\n",
       ".list-inline>li {display: inline-block}\n",
       ".list-inline>li:not(:last-child)::after {content: \"\\00b7\"; padding: 0 .5ex}\n",
       "</style>\n",
       "<ol class=list-inline><li>1</li><li>2</li><li>3</li><li>4</li><li>5</li><li>6</li><li>7</li><li>8</li><li>9</li><li>10</li><li>11</li><li>12</li></ol>\n"
      ],
      "text/latex": [
       "\\begin{enumerate*}\n",
       "\\item 1\n",
       "\\item 2\n",
       "\\item 3\n",
       "\\item 4\n",
       "\\item 5\n",
       "\\item 6\n",
       "\\item 7\n",
       "\\item 8\n",
       "\\item 9\n",
       "\\item 10\n",
       "\\item 11\n",
       "\\item 12\n",
       "\\end{enumerate*}\n"
      ],
      "text/markdown": [
       "1. 1\n",
       "2. 2\n",
       "3. 3\n",
       "4. 4\n",
       "5. 5\n",
       "6. 6\n",
       "7. 7\n",
       "8. 8\n",
       "9. 9\n",
       "10. 10\n",
       "11. 11\n",
       "12. 12\n",
       "\n",
       "\n"
      ],
      "text/plain": [
       " [1]  1  2  3  4  5  6  7  8  9 10 11 12"
      ]
     },
     "metadata": {},
     "output_type": "display_data"
    }
   ],
   "source": [
    "seq(12)"
   ]
  },
  {
   "cell_type": "markdown",
   "id": "5babc6ea-7250-44ca-86c6-051c8f68a1cf",
   "metadata": {},
   "source": [
    "Tạo ra một vector số từ 12 đến 5:"
   ]
  },
  {
   "cell_type": "code",
   "execution_count": 20,
   "id": "271caf0e-89a2-4bba-bdc9-3894f1d2ecda",
   "metadata": {},
   "outputs": [
    {
     "data": {
      "text/html": [
       "<style>\n",
       ".list-inline {list-style: none; margin:0; padding: 0}\n",
       ".list-inline>li {display: inline-block}\n",
       ".list-inline>li:not(:last-child)::after {content: \"\\00b7\"; padding: 0 .5ex}\n",
       "</style>\n",
       "<ol class=list-inline><li>12</li><li>11</li><li>10</li><li>9</li><li>8</li><li>7</li><li>6</li><li>5</li></ol>\n"
      ],
      "text/latex": [
       "\\begin{enumerate*}\n",
       "\\item 12\n",
       "\\item 11\n",
       "\\item 10\n",
       "\\item 9\n",
       "\\item 8\n",
       "\\item 7\n",
       "\\item 6\n",
       "\\item 5\n",
       "\\end{enumerate*}\n"
      ],
      "text/markdown": [
       "1. 12\n",
       "2. 11\n",
       "3. 10\n",
       "4. 9\n",
       "5. 8\n",
       "6. 7\n",
       "7. 6\n",
       "8. 5\n",
       "\n",
       "\n"
      ],
      "text/plain": [
       "[1] 12 11 10  9  8  7  6  5"
      ]
     },
     "metadata": {},
     "output_type": "display_data"
    }
   ],
   "source": [
    "x <- (12:5)\n",
    "x"
   ]
  },
  {
   "cell_type": "code",
   "execution_count": 21,
   "id": "6fa6a311-c185-4691-8d74-3d333b9a26b3",
   "metadata": {},
   "outputs": [
    {
     "data": {
      "text/html": [
       "<style>\n",
       ".list-inline {list-style: none; margin:0; padding: 0}\n",
       ".list-inline>li {display: inline-block}\n",
       ".list-inline>li:not(:last-child)::after {content: \"\\00b7\"; padding: 0 .5ex}\n",
       "</style>\n",
       "<ol class=list-inline><li>12</li><li>11</li><li>10</li><li>9</li><li>8</li><li>7</li></ol>\n"
      ],
      "text/latex": [
       "\\begin{enumerate*}\n",
       "\\item 12\n",
       "\\item 11\n",
       "\\item 10\n",
       "\\item 9\n",
       "\\item 8\n",
       "\\item 7\n",
       "\\end{enumerate*}\n"
      ],
      "text/markdown": [
       "1. 12\n",
       "2. 11\n",
       "3. 10\n",
       "4. 9\n",
       "5. 8\n",
       "6. 7\n",
       "\n",
       "\n"
      ],
      "text/plain": [
       "[1] 12 11 10  9  8  7"
      ]
     },
     "metadata": {},
     "output_type": "display_data"
    }
   ],
   "source": [
    "seq(12,7)"
   ]
  },
  {
   "cell_type": "markdown",
   "id": "f21aeb84-33cc-42a0-af25-cb4932b2a7ff",
   "metadata": {},
   "source": [
    "Công thức chung của hàm seq là seq(from, to, by= ) hay seq(from, to,\n",
    "length.out= ). Cách sử dụng sẽ được minh hoạ bằng vài ví dụ sau đây:"
   ]
  },
  {
   "cell_type": "markdown",
   "id": "ddc7060d-9fc1-442d-bd53-18c0499aeb73",
   "metadata": {},
   "source": [
    "Tạo ra một vector số từ 4 đến 6 với khoảng cách bằng 0.25:"
   ]
  },
  {
   "cell_type": "code",
   "execution_count": 22,
   "id": "44664418-8060-4ef7-a64f-5c15d42410b5",
   "metadata": {
    "scrolled": true
   },
   "outputs": [
    {
     "data": {
      "text/html": [
       "<style>\n",
       ".list-inline {list-style: none; margin:0; padding: 0}\n",
       ".list-inline>li {display: inline-block}\n",
       ".list-inline>li:not(:last-child)::after {content: \"\\00b7\"; padding: 0 .5ex}\n",
       "</style>\n",
       "<ol class=list-inline><li>4</li><li>4.25</li><li>4.5</li><li>4.75</li><li>5</li><li>5.25</li><li>5.5</li><li>5.75</li><li>6</li></ol>\n"
      ],
      "text/latex": [
       "\\begin{enumerate*}\n",
       "\\item 4\n",
       "\\item 4.25\n",
       "\\item 4.5\n",
       "\\item 4.75\n",
       "\\item 5\n",
       "\\item 5.25\n",
       "\\item 5.5\n",
       "\\item 5.75\n",
       "\\item 6\n",
       "\\end{enumerate*}\n"
      ],
      "text/markdown": [
       "1. 4\n",
       "2. 4.25\n",
       "3. 4.5\n",
       "4. 4.75\n",
       "5. 5\n",
       "6. 5.25\n",
       "7. 5.5\n",
       "8. 5.75\n",
       "9. 6\n",
       "\n",
       "\n"
      ],
      "text/plain": [
       "[1] 4.00 4.25 4.50 4.75 5.00 5.25 5.50 5.75 6.00"
      ]
     },
     "metadata": {},
     "output_type": "display_data"
    }
   ],
   "source": [
    "seq(4, 6, 0.25)"
   ]
  },
  {
   "cell_type": "markdown",
   "id": "e723b5e2-dc04-4c1f-98e0-8a6456b24337",
   "metadata": {},
   "source": [
    "Tạo ra một vector 10 số, với số nhỏ nhất là 2 và số lớn nhất là 15"
   ]
  },
  {
   "cell_type": "code",
   "execution_count": 23,
   "id": "c35acf6e-c293-4e11-81f9-12a98db7ccdd",
   "metadata": {},
   "outputs": [
    {
     "data": {
      "text/html": [
       "<style>\n",
       ".list-inline {list-style: none; margin:0; padding: 0}\n",
       ".list-inline>li {display: inline-block}\n",
       ".list-inline>li:not(:last-child)::after {content: \"\\00b7\"; padding: 0 .5ex}\n",
       "</style>\n",
       "<ol class=list-inline><li>2</li><li>3.44444444444444</li><li>4.88888888888889</li><li>6.33333333333333</li><li>7.77777777777778</li><li>9.22222222222222</li><li>10.6666666666667</li><li>12.1111111111111</li><li>13.5555555555556</li><li>15</li></ol>\n"
      ],
      "text/latex": [
       "\\begin{enumerate*}\n",
       "\\item 2\n",
       "\\item 3.44444444444444\n",
       "\\item 4.88888888888889\n",
       "\\item 6.33333333333333\n",
       "\\item 7.77777777777778\n",
       "\\item 9.22222222222222\n",
       "\\item 10.6666666666667\n",
       "\\item 12.1111111111111\n",
       "\\item 13.5555555555556\n",
       "\\item 15\n",
       "\\end{enumerate*}\n"
      ],
      "text/markdown": [
       "1. 2\n",
       "2. 3.44444444444444\n",
       "3. 4.88888888888889\n",
       "4. 6.33333333333333\n",
       "5. 7.77777777777778\n",
       "6. 9.22222222222222\n",
       "7. 10.6666666666667\n",
       "8. 12.1111111111111\n",
       "9. 13.5555555555556\n",
       "10. 15\n",
       "\n",
       "\n"
      ],
      "text/plain": [
       " [1]  2.000000  3.444444  4.888889  6.333333  7.777778  9.222222 10.666667\n",
       " [8] 12.111111 13.555556 15.000000"
      ]
     },
     "metadata": {},
     "output_type": "display_data"
    }
   ],
   "source": [
    "seq(length=10, from=2, to=15)"
   ]
  },
  {
   "cell_type": "markdown",
   "id": "2e189e72-47b1-46c8-9e3e-f57a11e1b888",
   "metadata": {},
   "source": [
    "Áp dụng rep\n",
    "\n",
    "Công thức của hàm rep là rep(x, times, ...), trong đó, x là một biến số và times\n",
    "là số lần lặp lại. Ví dụ:\n",
    "\n",
    "• Tạo ra số 10, 3 lần:"
   ]
  },
  {
   "cell_type": "code",
   "execution_count": 24,
   "id": "31a56dca-b146-408f-95ec-76fe2d768e97",
   "metadata": {},
   "outputs": [
    {
     "data": {
      "text/html": [
       "<style>\n",
       ".list-inline {list-style: none; margin:0; padding: 0}\n",
       ".list-inline>li {display: inline-block}\n",
       ".list-inline>li:not(:last-child)::after {content: \"\\00b7\"; padding: 0 .5ex}\n",
       "</style>\n",
       "<ol class=list-inline><li>10</li><li>10</li><li>10</li></ol>\n"
      ],
      "text/latex": [
       "\\begin{enumerate*}\n",
       "\\item 10\n",
       "\\item 10\n",
       "\\item 10\n",
       "\\end{enumerate*}\n"
      ],
      "text/markdown": [
       "1. 10\n",
       "2. 10\n",
       "3. 10\n",
       "\n",
       "\n"
      ],
      "text/plain": [
       "[1] 10 10 10"
      ]
     },
     "metadata": {},
     "output_type": "display_data"
    }
   ],
   "source": [
    "rep(10, 3)"
   ]
  },
  {
   "cell_type": "markdown",
   "id": "a151c1e5-32db-4814-8968-70d8ff0e4467",
   "metadata": {},
   "source": [
    "Tạo ra số 1 đến 4, 3 lần:"
   ]
  },
  {
   "cell_type": "code",
   "execution_count": 25,
   "id": "695dfd80-f466-4edf-b137-aae1046aa13d",
   "metadata": {},
   "outputs": [
    {
     "data": {
      "text/html": [
       "<style>\n",
       ".list-inline {list-style: none; margin:0; padding: 0}\n",
       ".list-inline>li {display: inline-block}\n",
       ".list-inline>li:not(:last-child)::after {content: \"\\00b7\"; padding: 0 .5ex}\n",
       "</style>\n",
       "<ol class=list-inline><li>1</li><li>2</li><li>3</li><li>4</li><li>1</li><li>2</li><li>3</li><li>4</li><li>1</li><li>2</li><li>3</li><li>4</li></ol>\n"
      ],
      "text/latex": [
       "\\begin{enumerate*}\n",
       "\\item 1\n",
       "\\item 2\n",
       "\\item 3\n",
       "\\item 4\n",
       "\\item 1\n",
       "\\item 2\n",
       "\\item 3\n",
       "\\item 4\n",
       "\\item 1\n",
       "\\item 2\n",
       "\\item 3\n",
       "\\item 4\n",
       "\\end{enumerate*}\n"
      ],
      "text/markdown": [
       "1. 1\n",
       "2. 2\n",
       "3. 3\n",
       "4. 4\n",
       "5. 1\n",
       "6. 2\n",
       "7. 3\n",
       "8. 4\n",
       "9. 1\n",
       "10. 2\n",
       "11. 3\n",
       "12. 4\n",
       "\n",
       "\n"
      ],
      "text/plain": [
       " [1] 1 2 3 4 1 2 3 4 1 2 3 4"
      ]
     },
     "metadata": {},
     "output_type": "display_data"
    }
   ],
   "source": [
    "rep(c(1:4), 3)"
   ]
  },
  {
   "cell_type": "markdown",
   "id": "f97ab172-66e3-4a7c-a45e-c293cddae5d9",
   "metadata": {},
   "source": [
    "Tạo ra số 1.2, 2.7, 4.8, 5 lần:"
   ]
  },
  {
   "cell_type": "code",
   "execution_count": 26,
   "id": "c5bd3758-102f-43c7-85a6-a6bcde1e9594",
   "metadata": {},
   "outputs": [
    {
     "data": {
      "text/html": [
       "<style>\n",
       ".list-inline {list-style: none; margin:0; padding: 0}\n",
       ".list-inline>li {display: inline-block}\n",
       ".list-inline>li:not(:last-child)::after {content: \"\\00b7\"; padding: 0 .5ex}\n",
       "</style>\n",
       "<ol class=list-inline><li>1.2</li><li>2.7</li><li>4.8</li><li>1.2</li><li>2.7</li><li>4.8</li><li>1.2</li><li>2.7</li><li>4.8</li><li>1.2</li><li>2.7</li><li>4.8</li><li>1.2</li><li>2.7</li><li>4.8</li></ol>\n"
      ],
      "text/latex": [
       "\\begin{enumerate*}\n",
       "\\item 1.2\n",
       "\\item 2.7\n",
       "\\item 4.8\n",
       "\\item 1.2\n",
       "\\item 2.7\n",
       "\\item 4.8\n",
       "\\item 1.2\n",
       "\\item 2.7\n",
       "\\item 4.8\n",
       "\\item 1.2\n",
       "\\item 2.7\n",
       "\\item 4.8\n",
       "\\item 1.2\n",
       "\\item 2.7\n",
       "\\item 4.8\n",
       "\\end{enumerate*}\n"
      ],
      "text/markdown": [
       "1. 1.2\n",
       "2. 2.7\n",
       "3. 4.8\n",
       "4. 1.2\n",
       "5. 2.7\n",
       "6. 4.8\n",
       "7. 1.2\n",
       "8. 2.7\n",
       "9. 4.8\n",
       "10. 1.2\n",
       "11. 2.7\n",
       "12. 4.8\n",
       "13. 1.2\n",
       "14. 2.7\n",
       "15. 4.8\n",
       "\n",
       "\n"
      ],
      "text/plain": [
       " [1] 1.2 2.7 4.8 1.2 2.7 4.8 1.2 2.7 4.8 1.2 2.7 4.8 1.2 2.7 4.8"
      ]
     },
     "metadata": {},
     "output_type": "display_data"
    }
   ],
   "source": [
    "rep(c(1.2, 2.7, 4.8), 5)"
   ]
  },
  {
   "cell_type": "markdown",
   "id": "0aa5ba54-490d-4bc3-b93b-901657ccf7fd",
   "metadata": {},
   "source": [
    "Tạo ra số 1.2, 2.7, 4.8, 5 lần:"
   ]
  },
  {
   "cell_type": "code",
   "execution_count": 27,
   "id": "413be396-6fda-47da-ab5d-e0a1d3580fba",
   "metadata": {},
   "outputs": [
    {
     "data": {
      "text/html": [
       "<style>\n",
       ".list-inline {list-style: none; margin:0; padding: 0}\n",
       ".list-inline>li {display: inline-block}\n",
       ".list-inline>li:not(:last-child)::after {content: \"\\00b7\"; padding: 0 .5ex}\n",
       "</style>\n",
       "<ol class=list-inline><li>1.2</li><li>2.7</li><li>4.8</li><li>1.2</li><li>2.7</li><li>4.8</li><li>1.2</li><li>2.7</li><li>4.8</li><li>1.2</li><li>2.7</li><li>4.8</li><li>1.2</li><li>2.7</li><li>4.8</li></ol>\n"
      ],
      "text/latex": [
       "\\begin{enumerate*}\n",
       "\\item 1.2\n",
       "\\item 2.7\n",
       "\\item 4.8\n",
       "\\item 1.2\n",
       "\\item 2.7\n",
       "\\item 4.8\n",
       "\\item 1.2\n",
       "\\item 2.7\n",
       "\\item 4.8\n",
       "\\item 1.2\n",
       "\\item 2.7\n",
       "\\item 4.8\n",
       "\\item 1.2\n",
       "\\item 2.7\n",
       "\\item 4.8\n",
       "\\end{enumerate*}\n"
      ],
      "text/markdown": [
       "1. 1.2\n",
       "2. 2.7\n",
       "3. 4.8\n",
       "4. 1.2\n",
       "5. 2.7\n",
       "6. 4.8\n",
       "7. 1.2\n",
       "8. 2.7\n",
       "9. 4.8\n",
       "10. 1.2\n",
       "11. 2.7\n",
       "12. 4.8\n",
       "13. 1.2\n",
       "14. 2.7\n",
       "15. 4.8\n",
       "\n",
       "\n"
      ],
      "text/plain": [
       " [1] 1.2 2.7 4.8 1.2 2.7 4.8 1.2 2.7 4.8 1.2 2.7 4.8 1.2 2.7 4.8"
      ]
     },
     "metadata": {},
     "output_type": "display_data"
    }
   ],
   "source": [
    "rep(c(1.2, 2.7, 4.8), 5)"
   ]
  },
  {
   "cell_type": "markdown",
   "id": "714ccb45-950a-4c34-9e5e-444840de5338",
   "metadata": {},
   "source": [
    "Áp dụng gl:\n",
    "\n",
    "gl được áp dụng để tạo ra một biến thứ bậc (categorical variable), tức biến không để tính\n",
    "toán, mà là đếm. Công thức chung của hàm gl là gl(n, k, length = n*k,\n",
    "labels = 1:n, ordered = FALSE) và cách sử dụng sẽ được minh hoạ bằng vài\n",
    "ví dụ sau đây:\n",
    "Tạo ra biến gồm bậc 1 và 2; mỗi bậc được lặp lại 8 lần:"
   ]
  },
  {
   "cell_type": "code",
   "execution_count": 28,
   "id": "a891f470-8050-431f-91db-70cf62419d3e",
   "metadata": {},
   "outputs": [
    {
     "data": {
      "text/html": [
       "<style>\n",
       ".list-inline {list-style: none; margin:0; padding: 0}\n",
       ".list-inline>li {display: inline-block}\n",
       ".list-inline>li:not(:last-child)::after {content: \"\\00b7\"; padding: 0 .5ex}\n",
       "</style>\n",
       "<ol class=list-inline><li>1</li><li>1</li><li>1</li><li>1</li><li>1</li><li>1</li><li>1</li><li>1</li><li>2</li><li>2</li><li>2</li><li>2</li><li>2</li><li>2</li><li>2</li><li>2</li></ol>\n",
       "\n",
       "<details>\n",
       "\t<summary style=display:list-item;cursor:pointer>\n",
       "\t\t<strong>Levels</strong>:\n",
       "\t</summary>\n",
       "\t<style>\n",
       "\t.list-inline {list-style: none; margin:0; padding: 0}\n",
       "\t.list-inline>li {display: inline-block}\n",
       "\t.list-inline>li:not(:last-child)::after {content: \"\\00b7\"; padding: 0 .5ex}\n",
       "\t</style>\n",
       "\t<ol class=list-inline><li>'1'</li><li>'2'</li></ol>\n",
       "</details>"
      ],
      "text/latex": [
       "\\begin{enumerate*}\n",
       "\\item 1\n",
       "\\item 1\n",
       "\\item 1\n",
       "\\item 1\n",
       "\\item 1\n",
       "\\item 1\n",
       "\\item 1\n",
       "\\item 1\n",
       "\\item 2\n",
       "\\item 2\n",
       "\\item 2\n",
       "\\item 2\n",
       "\\item 2\n",
       "\\item 2\n",
       "\\item 2\n",
       "\\item 2\n",
       "\\end{enumerate*}\n",
       "\n",
       "\\emph{Levels}: \\begin{enumerate*}\n",
       "\\item '1'\n",
       "\\item '2'\n",
       "\\end{enumerate*}\n"
      ],
      "text/markdown": [
       "1. 1\n",
       "2. 1\n",
       "3. 1\n",
       "4. 1\n",
       "5. 1\n",
       "6. 1\n",
       "7. 1\n",
       "8. 1\n",
       "9. 2\n",
       "10. 2\n",
       "11. 2\n",
       "12. 2\n",
       "13. 2\n",
       "14. 2\n",
       "15. 2\n",
       "16. 2\n",
       "\n",
       "\n",
       "\n",
       "**Levels**: 1. '1'\n",
       "2. '2'\n",
       "\n",
       "\n"
      ],
      "text/plain": [
       " [1] 1 1 1 1 1 1 1 1 2 2 2 2 2 2 2 2\n",
       "Levels: 1 2"
      ]
     },
     "metadata": {},
     "output_type": "display_data"
    }
   ],
   "source": [
    "gl(2, 8)"
   ]
  },
  {
   "cell_type": "code",
   "execution_count": 29,
   "id": "6a5b3393-0050-4914-baec-fcac1eabd690",
   "metadata": {},
   "outputs": [
    {
     "data": {
      "text/html": [
       "<style>\n",
       ".list-inline {list-style: none; margin:0; padding: 0}\n",
       ".list-inline>li {display: inline-block}\n",
       ".list-inline>li:not(:last-child)::after {content: \"\\00b7\"; padding: 0 .5ex}\n",
       "</style>\n",
       "<ol class=list-inline><li>1</li><li>1</li><li>1</li><li>1</li><li>1</li><li>2</li><li>2</li><li>2</li><li>2</li><li>2</li><li>3</li><li>3</li><li>3</li><li>3</li><li>3</li></ol>\n",
       "\n",
       "<details>\n",
       "\t<summary style=display:list-item;cursor:pointer>\n",
       "\t\t<strong>Levels</strong>:\n",
       "\t</summary>\n",
       "\t<style>\n",
       "\t.list-inline {list-style: none; margin:0; padding: 0}\n",
       "\t.list-inline>li {display: inline-block}\n",
       "\t.list-inline>li:not(:last-child)::after {content: \"\\00b7\"; padding: 0 .5ex}\n",
       "\t</style>\n",
       "\t<ol class=list-inline><li>'1'</li><li>'2'</li><li>'3'</li></ol>\n",
       "</details>"
      ],
      "text/latex": [
       "\\begin{enumerate*}\n",
       "\\item 1\n",
       "\\item 1\n",
       "\\item 1\n",
       "\\item 1\n",
       "\\item 1\n",
       "\\item 2\n",
       "\\item 2\n",
       "\\item 2\n",
       "\\item 2\n",
       "\\item 2\n",
       "\\item 3\n",
       "\\item 3\n",
       "\\item 3\n",
       "\\item 3\n",
       "\\item 3\n",
       "\\end{enumerate*}\n",
       "\n",
       "\\emph{Levels}: \\begin{enumerate*}\n",
       "\\item '1'\n",
       "\\item '2'\n",
       "\\item '3'\n",
       "\\end{enumerate*}\n"
      ],
      "text/markdown": [
       "1. 1\n",
       "2. 1\n",
       "3. 1\n",
       "4. 1\n",
       "5. 1\n",
       "6. 2\n",
       "7. 2\n",
       "8. 2\n",
       "9. 2\n",
       "10. 2\n",
       "11. 3\n",
       "12. 3\n",
       "13. 3\n",
       "14. 3\n",
       "15. 3\n",
       "\n",
       "\n",
       "\n",
       "**Levels**: 1. '1'\n",
       "2. '2'\n",
       "3. '3'\n",
       "\n",
       "\n"
      ],
      "text/plain": [
       " [1] 1 1 1 1 1 2 2 2 2 2 3 3 3 3 3\n",
       "Levels: 1 2 3"
      ]
     },
     "metadata": {},
     "output_type": "display_data"
    }
   ],
   "source": [
    "gl(3,5)"
   ]
  },
  {
   "cell_type": "markdown",
   "id": "6e13fa28-1047-44f3-90bd-7a44316ad265",
   "metadata": {},
   "source": [
    "Tạo ra biến gồm bậc 1 và 2; mỗi bậc được lặp lại 10 lần (do đó length=20):"
   ]
  },
  {
   "cell_type": "code",
   "execution_count": 30,
   "id": "7bdb5466-6537-4347-b1de-2301e7c205a7",
   "metadata": {
    "scrolled": true
   },
   "outputs": [
    {
     "data": {
      "text/html": [
       "<style>\n",
       ".list-inline {list-style: none; margin:0; padding: 0}\n",
       ".list-inline>li {display: inline-block}\n",
       ".list-inline>li:not(:last-child)::after {content: \"\\00b7\"; padding: 0 .5ex}\n",
       "</style>\n",
       "<ol class=list-inline><li>1</li><li>1</li><li>1</li><li>1</li><li>1</li><li>1</li><li>1</li><li>1</li><li>1</li><li>1</li><li>2</li><li>2</li><li>2</li><li>2</li><li>2</li><li>2</li><li>2</li><li>2</li><li>2</li><li>2</li></ol>\n",
       "\n",
       "<details>\n",
       "\t<summary style=display:list-item;cursor:pointer>\n",
       "\t\t<strong>Levels</strong>:\n",
       "\t</summary>\n",
       "\t<style>\n",
       "\t.list-inline {list-style: none; margin:0; padding: 0}\n",
       "\t.list-inline>li {display: inline-block}\n",
       "\t.list-inline>li:not(:last-child)::after {content: \"\\00b7\"; padding: 0 .5ex}\n",
       "\t</style>\n",
       "\t<ol class=list-inline><li>'1'</li><li>'2'</li></ol>\n",
       "</details>"
      ],
      "text/latex": [
       "\\begin{enumerate*}\n",
       "\\item 1\n",
       "\\item 1\n",
       "\\item 1\n",
       "\\item 1\n",
       "\\item 1\n",
       "\\item 1\n",
       "\\item 1\n",
       "\\item 1\n",
       "\\item 1\n",
       "\\item 1\n",
       "\\item 2\n",
       "\\item 2\n",
       "\\item 2\n",
       "\\item 2\n",
       "\\item 2\n",
       "\\item 2\n",
       "\\item 2\n",
       "\\item 2\n",
       "\\item 2\n",
       "\\item 2\n",
       "\\end{enumerate*}\n",
       "\n",
       "\\emph{Levels}: \\begin{enumerate*}\n",
       "\\item '1'\n",
       "\\item '2'\n",
       "\\end{enumerate*}\n"
      ],
      "text/markdown": [
       "1. 1\n",
       "2. 1\n",
       "3. 1\n",
       "4. 1\n",
       "5. 1\n",
       "6. 1\n",
       "7. 1\n",
       "8. 1\n",
       "9. 1\n",
       "10. 1\n",
       "11. 2\n",
       "12. 2\n",
       "13. 2\n",
       "14. 2\n",
       "15. 2\n",
       "16. 2\n",
       "17. 2\n",
       "18. 2\n",
       "19. 2\n",
       "20. 2\n",
       "\n",
       "\n",
       "\n",
       "**Levels**: 1. '1'\n",
       "2. '2'\n",
       "\n",
       "\n"
      ],
      "text/plain": [
       " [1] 1 1 1 1 1 1 1 1 1 1 2 2 2 2 2 2 2 2 2 2\n",
       "Levels: 1 2"
      ]
     },
     "metadata": {},
     "output_type": "display_data"
    }
   ],
   "source": [
    "gl(2, 10, length=20)"
   ]
  },
  {
   "cell_type": "markdown",
   "id": "c3bb3abd-6b98-465b-b64d-0707d15a3d51",
   "metadata": {},
   "source": [
    "Cho thêm kí hiệu:"
   ]
  },
  {
   "cell_type": "code",
   "execution_count": 31,
   "id": "338c9763-d5d6-431d-b754-4063fc55b1d2",
   "metadata": {},
   "outputs": [
    {
     "data": {
      "text/html": [
       "<style>\n",
       ".list-inline {list-style: none; margin:0; padding: 0}\n",
       ".list-inline>li {display: inline-block}\n",
       ".list-inline>li:not(:last-child)::after {content: \"\\00b7\"; padding: 0 .5ex}\n",
       "</style>\n",
       "<ol class=list-inline><li>C</li><li>C</li><li>C</li><li>C</li><li>C</li><li>T</li><li>T</li><li>T</li><li>T</li><li>T</li></ol>\n",
       "\n",
       "<details>\n",
       "\t<summary style=display:list-item;cursor:pointer>\n",
       "\t\t<strong>Levels</strong>:\n",
       "\t</summary>\n",
       "\t<style>\n",
       "\t.list-inline {list-style: none; margin:0; padding: 0}\n",
       "\t.list-inline>li {display: inline-block}\n",
       "\t.list-inline>li:not(:last-child)::after {content: \"\\00b7\"; padding: 0 .5ex}\n",
       "\t</style>\n",
       "\t<ol class=list-inline><li>'C'</li><li>'T'</li></ol>\n",
       "</details>"
      ],
      "text/latex": [
       "\\begin{enumerate*}\n",
       "\\item C\n",
       "\\item C\n",
       "\\item C\n",
       "\\item C\n",
       "\\item C\n",
       "\\item T\n",
       "\\item T\n",
       "\\item T\n",
       "\\item T\n",
       "\\item T\n",
       "\\end{enumerate*}\n",
       "\n",
       "\\emph{Levels}: \\begin{enumerate*}\n",
       "\\item 'C'\n",
       "\\item 'T'\n",
       "\\end{enumerate*}\n"
      ],
      "text/markdown": [
       "1. C\n",
       "2. C\n",
       "3. C\n",
       "4. C\n",
       "5. C\n",
       "6. T\n",
       "7. T\n",
       "8. T\n",
       "9. T\n",
       "10. T\n",
       "\n",
       "\n",
       "\n",
       "**Levels**: 1. 'C'\n",
       "2. 'T'\n",
       "\n",
       "\n"
      ],
      "text/plain": [
       " [1] C C C C C T T T T T\n",
       "Levels: C T"
      ]
     },
     "metadata": {},
     "output_type": "display_data"
    }
   ],
   "source": [
    "gl(2, 5, label=c(\"C\", \"T\"))"
   ]
  },
  {
   "cell_type": "markdown",
   "id": "0e7e2a84-4579-464b-9a30-b444ead1de41",
   "metadata": {},
   "source": [
    "Tạo một biến gồm 4 bậc 1, 2, 3, 4. Mỗi bậc lặp lại 2 lần."
   ]
  },
  {
   "cell_type": "code",
   "execution_count": 32,
   "id": "4f4e59ca-f12e-4e84-a0a0-9a5e6a9a71b7",
   "metadata": {},
   "outputs": [
    {
     "data": {
      "text/html": [
       "<style>\n",
       ".list-inline {list-style: none; margin:0; padding: 0}\n",
       ".list-inline>li {display: inline-block}\n",
       ".list-inline>li:not(:last-child)::after {content: \"\\00b7\"; padding: 0 .5ex}\n",
       "</style>\n",
       "<ol class=list-inline><li>1</li><li>1</li><li>2</li><li>2</li><li>3</li><li>3</li><li>4</li><li>4</li></ol>\n"
      ],
      "text/latex": [
       "\\begin{enumerate*}\n",
       "\\item 1\n",
       "\\item 1\n",
       "\\item 2\n",
       "\\item 2\n",
       "\\item 3\n",
       "\\item 3\n",
       "\\item 4\n",
       "\\item 4\n",
       "\\end{enumerate*}\n"
      ],
      "text/markdown": [
       "1. 1\n",
       "2. 1\n",
       "3. 2\n",
       "4. 2\n",
       "5. 3\n",
       "6. 3\n",
       "7. 4\n",
       "8. 4\n",
       "\n",
       "\n"
      ],
      "text/plain": [
       "[1] 1 1 2 2 3 3 4 4"
      ]
     },
     "metadata": {},
     "output_type": "display_data"
    }
   ],
   "source": [
    "rep(1:4, c(2,2,2,2))"
   ]
  },
  {
   "cell_type": "markdown",
   "id": "886f2d5f-5563-4bbf-8ae8-cbae3d8da30f",
   "metadata": {},
   "source": [
    "Cũng tương đương với:"
   ]
  },
  {
   "cell_type": "code",
   "execution_count": 33,
   "id": "b8e33caa-989b-4d4b-a7e9-ce05000f2786",
   "metadata": {},
   "outputs": [
    {
     "data": {
      "text/html": [
       "<style>\n",
       ".list-inline {list-style: none; margin:0; padding: 0}\n",
       ".list-inline>li {display: inline-block}\n",
       ".list-inline>li:not(:last-child)::after {content: \"\\00b7\"; padding: 0 .5ex}\n",
       "</style>\n",
       "<ol class=list-inline><li>1</li><li>1</li><li>2</li><li>2</li><li>3</li><li>3</li><li>4</li><li>4</li></ol>\n"
      ],
      "text/latex": [
       "\\begin{enumerate*}\n",
       "\\item 1\n",
       "\\item 1\n",
       "\\item 2\n",
       "\\item 2\n",
       "\\item 3\n",
       "\\item 3\n",
       "\\item 4\n",
       "\\item 4\n",
       "\\end{enumerate*}\n"
      ],
      "text/markdown": [
       "1. 1\n",
       "2. 1\n",
       "3. 2\n",
       "4. 2\n",
       "5. 3\n",
       "6. 3\n",
       "7. 4\n",
       "8. 4\n",
       "\n",
       "\n"
      ],
      "text/plain": [
       "[1] 1 1 2 2 3 3 4 4"
      ]
     },
     "metadata": {},
     "output_type": "display_data"
    }
   ],
   "source": [
    "rep(1:4, each = 2)"
   ]
  },
  {
   "cell_type": "markdown",
   "id": "d1977b4e-f1e8-45c9-92a1-058315ed059a",
   "metadata": {},
   "source": [
    "Với ngày giờ tháng:"
   ]
  },
  {
   "cell_type": "code",
   "execution_count": 34,
   "id": "3f46b056-984e-4cb0-8f2b-b29efc7bdf4c",
   "metadata": {},
   "outputs": [],
   "source": [
    "x <- .leap.seconds[1:3]"
   ]
  },
  {
   "cell_type": "code",
   "execution_count": 35,
   "id": "b2ccbc1e-d5c0-491b-bc01-11606e03fdb4",
   "metadata": {},
   "outputs": [
    {
     "data": {
      "text/plain": [
       "[1] \"1972-07-01 GMT\" \"1973-01-01 GMT\" \"1974-01-01 GMT\" \"1972-07-01 GMT\"\n",
       "[5] \"1973-01-01 GMT\" \"1974-01-01 GMT\""
      ]
     },
     "metadata": {},
     "output_type": "display_data"
    }
   ],
   "source": [
    "rep(x, 2)"
   ]
  },
  {
   "cell_type": "code",
   "execution_count": 36,
   "id": "61ad8109-367d-4b33-b379-26b3cb6ad3a2",
   "metadata": {},
   "outputs": [
    {
     "data": {
      "text/plain": [
       "[1] \"1972-07-01 GMT\" \"1972-07-01 GMT\" \"1973-01-01 GMT\" \"1973-01-01 GMT\"\n",
       "[5] \"1974-01-01 GMT\" \"1974-01-01 GMT\""
      ]
     },
     "metadata": {},
     "output_type": "display_data"
    }
   ],
   "source": [
    "rep(as.POSIXlt(x), rep(2, 3))"
   ]
  },
  {
   "cell_type": "markdown",
   "id": "b7b03984-5c52-47e7-829a-303e6cb74588",
   "metadata": {},
   "source": [
    "## 5.4 Sử dụng R cho các phép tính ma trận\n",
    "\n",
    "Như chúng ta biết ma trận (matrix), nói đơn giản, gồm có dòng (row) và cột\n",
    "(column). Khi viết A[m, n], chúng ta hiểu rằng ma trận A có m dòng và n cột. Trong R,\n",
    "chúng ta cũng có thể thể hiện như thế. Ví dụ: chúng ta muốn tạo một ma trận vuông A\n",
    "gồm 3 dòng và 3 cột, với các phần tử (element) 1, 2, 3, 4, 5, 6, 7, 8, 9, chúng ta viết:\n",
    "$$\n",
    "A = \n",
    "\\begin{pmatrix}\n",
    "1 & 4 & 7 \\\\\n",
    "2 & 5 & 8 \\\\\n",
    "3 & 6 & 9\n",
    "\\end{pmatrix}\n",
    "$$"
   ]
  },
  {
   "cell_type": "code",
   "execution_count": 37,
   "id": "034b66e1-c320-455f-be68-f1fa2d5e4f8f",
   "metadata": {},
   "outputs": [
    {
     "data": {
      "text/html": [
       "<table class=\"dataframe\">\n",
       "<caption>A matrix: 3 × 3 of type dbl</caption>\n",
       "<tbody>\n",
       "\t<tr><td>1</td><td>4</td><td>7</td></tr>\n",
       "\t<tr><td>2</td><td>5</td><td>8</td></tr>\n",
       "\t<tr><td>3</td><td>6</td><td>9</td></tr>\n",
       "</tbody>\n",
       "</table>\n"
      ],
      "text/latex": [
       "A matrix: 3 × 3 of type dbl\n",
       "\\begin{tabular}{lll}\n",
       "\t 1 & 4 & 7\\\\\n",
       "\t 2 & 5 & 8\\\\\n",
       "\t 3 & 6 & 9\\\\\n",
       "\\end{tabular}\n"
      ],
      "text/markdown": [
       "\n",
       "A matrix: 3 × 3 of type dbl\n",
       "\n",
       "| 1 | 4 | 7 |\n",
       "| 2 | 5 | 8 |\n",
       "| 3 | 6 | 9 |\n",
       "\n"
      ],
      "text/plain": [
       "     [,1] [,2] [,3]\n",
       "[1,] 1    4    7   \n",
       "[2,] 2    5    8   \n",
       "[3,] 3    6    9   "
      ]
     },
     "metadata": {},
     "output_type": "display_data"
    }
   ],
   "source": [
    "y <- c(1,2,3,4,5,6,7,8,9)\n",
    "A <- matrix(y, nrow=3)\n",
    "A"
   ]
  },
  {
   "cell_type": "code",
   "execution_count": 38,
   "id": "3872db2a-9f25-4e84-aa12-b12bf496173a",
   "metadata": {},
   "outputs": [
    {
     "data": {
      "text/html": [
       "<table class=\"dataframe\">\n",
       "<caption>A matrix: 3 × 3 of type dbl</caption>\n",
       "<tbody>\n",
       "\t<tr><td>1</td><td>2</td><td>3</td></tr>\n",
       "\t<tr><td>4</td><td>5</td><td>6</td></tr>\n",
       "\t<tr><td>7</td><td>8</td><td>9</td></tr>\n",
       "</tbody>\n",
       "</table>\n"
      ],
      "text/latex": [
       "A matrix: 3 × 3 of type dbl\n",
       "\\begin{tabular}{lll}\n",
       "\t 1 & 2 & 3\\\\\n",
       "\t 4 & 5 & 6\\\\\n",
       "\t 7 & 8 & 9\\\\\n",
       "\\end{tabular}\n"
      ],
      "text/markdown": [
       "\n",
       "A matrix: 3 × 3 of type dbl\n",
       "\n",
       "| 1 | 2 | 3 |\n",
       "| 4 | 5 | 6 |\n",
       "| 7 | 8 | 9 |\n",
       "\n"
      ],
      "text/plain": [
       "     [,1] [,2] [,3]\n",
       "[1,] 1    2    3   \n",
       "[2,] 4    5    6   \n",
       "[3,] 7    8    9   "
      ]
     },
     "metadata": {},
     "output_type": "display_data"
    }
   ],
   "source": [
    " A <- matrix(y, nrow=3, byrow=TRUE)\n",
    "A"
   ]
  },
  {
   "cell_type": "markdown",
   "id": "53452a2d-daa8-462b-87fc-892555ca24b0",
   "metadata": {},
   "source": [
    "Tức là một ma trận chuyển vị (transposed matrix). Một cách khác để tạo một ma trận\n",
    "hoán vị là dùng t(). Ví dụ:"
   ]
  },
  {
   "cell_type": "code",
   "execution_count": 39,
   "id": "44e77249-5aff-4e16-a7f2-39fedde4811d",
   "metadata": {},
   "outputs": [
    {
     "data": {
      "text/html": [
       "<table class=\"dataframe\">\n",
       "<caption>A matrix: 3 × 3 of type dbl</caption>\n",
       "<tbody>\n",
       "\t<tr><td>1</td><td>4</td><td>7</td></tr>\n",
       "\t<tr><td>2</td><td>5</td><td>8</td></tr>\n",
       "\t<tr><td>3</td><td>6</td><td>9</td></tr>\n",
       "</tbody>\n",
       "</table>\n"
      ],
      "text/latex": [
       "A matrix: 3 × 3 of type dbl\n",
       "\\begin{tabular}{lll}\n",
       "\t 1 & 4 & 7\\\\\n",
       "\t 2 & 5 & 8\\\\\n",
       "\t 3 & 6 & 9\\\\\n",
       "\\end{tabular}\n"
      ],
      "text/markdown": [
       "\n",
       "A matrix: 3 × 3 of type dbl\n",
       "\n",
       "| 1 | 4 | 7 |\n",
       "| 2 | 5 | 8 |\n",
       "| 3 | 6 | 9 |\n",
       "\n"
      ],
      "text/plain": [
       "     [,1] [,2] [,3]\n",
       "[1,] 1    4    7   \n",
       "[2,] 2    5    8   \n",
       "[3,] 3    6    9   "
      ]
     },
     "metadata": {},
     "output_type": "display_data"
    }
   ],
   "source": [
    "y <- c(1,2,3,4,5,6,7,8,9)\n",
    "A <- matrix(y, nrow=3)\n",
    "A"
   ]
  },
  {
   "cell_type": "markdown",
   "id": "e5cc0610-ae9f-45fd-a040-98536499862f",
   "metadata": {},
   "source": [
    "và B = A' có thể diễn tả bằng R như sau:"
   ]
  },
  {
   "cell_type": "code",
   "execution_count": 40,
   "id": "82f1c7eb-70f4-493a-9147-5dac0bf807f9",
   "metadata": {},
   "outputs": [
    {
     "data": {
      "text/html": [
       "<table class=\"dataframe\">\n",
       "<caption>A matrix: 3 × 3 of type dbl</caption>\n",
       "<tbody>\n",
       "\t<tr><td>1</td><td>2</td><td>3</td></tr>\n",
       "\t<tr><td>4</td><td>5</td><td>6</td></tr>\n",
       "\t<tr><td>7</td><td>8</td><td>9</td></tr>\n",
       "</tbody>\n",
       "</table>\n"
      ],
      "text/latex": [
       "A matrix: 3 × 3 of type dbl\n",
       "\\begin{tabular}{lll}\n",
       "\t 1 & 2 & 3\\\\\n",
       "\t 4 & 5 & 6\\\\\n",
       "\t 7 & 8 & 9\\\\\n",
       "\\end{tabular}\n"
      ],
      "text/markdown": [
       "\n",
       "A matrix: 3 × 3 of type dbl\n",
       "\n",
       "| 1 | 2 | 3 |\n",
       "| 4 | 5 | 6 |\n",
       "| 7 | 8 | 9 |\n",
       "\n"
      ],
      "text/plain": [
       "     [,1] [,2] [,3]\n",
       "[1,] 1    2    3   \n",
       "[2,] 4    5    6   \n",
       "[3,] 7    8    9   "
      ]
     },
     "metadata": {},
     "output_type": "display_data"
    }
   ],
   "source": [
    "B <- t(A)\n",
    "B"
   ]
  },
  {
   "cell_type": "markdown",
   "id": "0a7eba18-5036-408b-9232-fbad13b63f52",
   "metadata": {},
   "source": [
    "Ma trận vô hướng (scalar matrix) là một ma trận vuông (tức số dòng bằng số cột), và\n",
    "tất cả các phần tử ngoài đường chéo (off-diagonal elements) là 0, và phần tử đường chéo\n",
    "là 1. Chúng ta có thể tạo một ma trận như thế bằng R như sau:"
   ]
  },
  {
   "cell_type": "code",
   "execution_count": 42,
   "id": "26094622-ef2b-466d-92f1-8f933a636aeb",
   "metadata": {},
   "outputs": [
    {
     "data": {
      "text/html": [
       "<table class=\"dataframe\">\n",
       "<caption>A matrix: 3 × 3 of type dbl</caption>\n",
       "<tbody>\n",
       "\t<tr><td>0</td><td>0</td><td>0</td></tr>\n",
       "\t<tr><td>0</td><td>0</td><td>0</td></tr>\n",
       "\t<tr><td>0</td><td>0</td><td>0</td></tr>\n",
       "</tbody>\n",
       "</table>\n"
      ],
      "text/latex": [
       "A matrix: 3 × 3 of type dbl\n",
       "\\begin{tabular}{lll}\n",
       "\t 0 & 0 & 0\\\\\n",
       "\t 0 & 0 & 0\\\\\n",
       "\t 0 & 0 & 0\\\\\n",
       "\\end{tabular}\n"
      ],
      "text/markdown": [
       "\n",
       "A matrix: 3 × 3 of type dbl\n",
       "\n",
       "| 0 | 0 | 0 |\n",
       "| 0 | 0 | 0 |\n",
       "| 0 | 0 | 0 |\n",
       "\n"
      ],
      "text/plain": [
       "     [,1] [,2] [,3]\n",
       "[1,] 0    0    0   \n",
       "[2,] 0    0    0   \n",
       "[3,] 0    0    0   "
      ]
     },
     "metadata": {},
     "output_type": "display_data"
    }
   ],
   "source": [
    "# tạo ra mộ ma trận 3 x 3 với tất cả phần tử là 0.\n",
    "A <- matrix(0, 3, 3)\n",
    "A"
   ]
  },
  {
   "cell_type": "code",
   "execution_count": 43,
   "id": "0f7e4d8a-df7d-46f9-ab63-1a28b04aceea",
   "metadata": {},
   "outputs": [
    {
     "data": {
      "text/html": [
       "<style>\n",
       ".list-inline {list-style: none; margin:0; padding: 0}\n",
       ".list-inline>li {display: inline-block}\n",
       ".list-inline>li:not(:last-child)::after {content: \"\\00b7\"; padding: 0 .5ex}\n",
       "</style>\n",
       "<ol class=list-inline><li>1</li><li>1</li><li>1</li></ol>\n"
      ],
      "text/latex": [
       "\\begin{enumerate*}\n",
       "\\item 1\n",
       "\\item 1\n",
       "\\item 1\n",
       "\\end{enumerate*}\n"
      ],
      "text/markdown": [
       "1. 1\n",
       "2. 1\n",
       "3. 1\n",
       "\n",
       "\n"
      ],
      "text/plain": [
       "[1] 1 1 1"
      ]
     },
     "metadata": {},
     "output_type": "display_data"
    }
   ],
   "source": [
    " # cho các phần tử đường chéo bằng 1\n",
    "diag(A) <- 1\n",
    "diag(A)"
   ]
  },
  {
   "cell_type": "code",
   "execution_count": 44,
   "id": "f0e4a32e-0ca2-448f-80b8-381201738095",
   "metadata": {},
   "outputs": [
    {
     "data": {
      "text/html": [
       "<table class=\"dataframe\">\n",
       "<caption>A matrix: 3 × 3 of type dbl</caption>\n",
       "<tbody>\n",
       "\t<tr><td>1</td><td>0</td><td>0</td></tr>\n",
       "\t<tr><td>0</td><td>1</td><td>0</td></tr>\n",
       "\t<tr><td>0</td><td>0</td><td>1</td></tr>\n",
       "</tbody>\n",
       "</table>\n"
      ],
      "text/latex": [
       "A matrix: 3 × 3 of type dbl\n",
       "\\begin{tabular}{lll}\n",
       "\t 1 & 0 & 0\\\\\n",
       "\t 0 & 1 & 0\\\\\n",
       "\t 0 & 0 & 1\\\\\n",
       "\\end{tabular}\n"
      ],
      "text/markdown": [
       "\n",
       "A matrix: 3 × 3 of type dbl\n",
       "\n",
       "| 1 | 0 | 0 |\n",
       "| 0 | 1 | 0 |\n",
       "| 0 | 0 | 1 |\n",
       "\n"
      ],
      "text/plain": [
       "     [,1] [,2] [,3]\n",
       "[1,] 1    0    0   \n",
       "[2,] 0    1    0   \n",
       "[3,] 0    0    1   "
      ]
     },
     "metadata": {},
     "output_type": "display_data"
    }
   ],
   "source": [
    "A"
   ]
  },
  {
   "cell_type": "markdown",
   "id": "05bb148c-6e0f-4269-86ae-89bc2bc8d2e2",
   "metadata": {},
   "source": [
    "### 5.4.1 Chiết phần tử từ ma trận"
   ]
  },
  {
   "cell_type": "code",
   "execution_count": 45,
   "id": "f7faa6b5-5e4d-4255-a1d8-ce13051751b8",
   "metadata": {},
   "outputs": [
    {
     "data": {
      "text/html": [
       "<table class=\"dataframe\">\n",
       "<caption>A matrix: 3 × 3 of type dbl</caption>\n",
       "<tbody>\n",
       "\t<tr><td>1</td><td>4</td><td>7</td></tr>\n",
       "\t<tr><td>2</td><td>5</td><td>8</td></tr>\n",
       "\t<tr><td>3</td><td>6</td><td>9</td></tr>\n",
       "</tbody>\n",
       "</table>\n"
      ],
      "text/latex": [
       "A matrix: 3 × 3 of type dbl\n",
       "\\begin{tabular}{lll}\n",
       "\t 1 & 4 & 7\\\\\n",
       "\t 2 & 5 & 8\\\\\n",
       "\t 3 & 6 & 9\\\\\n",
       "\\end{tabular}\n"
      ],
      "text/markdown": [
       "\n",
       "A matrix: 3 × 3 of type dbl\n",
       "\n",
       "| 1 | 4 | 7 |\n",
       "| 2 | 5 | 8 |\n",
       "| 3 | 6 | 9 |\n",
       "\n"
      ],
      "text/plain": [
       "     [,1] [,2] [,3]\n",
       "[1,] 1    4    7   \n",
       "[2,] 2    5    8   \n",
       "[3,] 3    6    9   "
      ]
     },
     "metadata": {},
     "output_type": "display_data"
    }
   ],
   "source": [
    "y <- c(1,2,3,4,5,6,7,8,9)\n",
    "A <- matrix(y, nrow=3)\n",
    "A"
   ]
  },
  {
   "cell_type": "markdown",
   "id": "7fe71473-6741-435e-bdaa-57229b5239b0",
   "metadata": {},
   "source": [
    "[dòng, cột]"
   ]
  },
  {
   "cell_type": "code",
   "execution_count": 46,
   "id": "37eb340c-3072-4cee-a811-969e52ca19f3",
   "metadata": {},
   "outputs": [
    {
     "data": {
      "text/html": [
       "<style>\n",
       ".list-inline {list-style: none; margin:0; padding: 0}\n",
       ".list-inline>li {display: inline-block}\n",
       ".list-inline>li:not(:last-child)::after {content: \"\\00b7\"; padding: 0 .5ex}\n",
       "</style>\n",
       "<ol class=list-inline><li>1</li><li>2</li><li>3</li></ol>\n"
      ],
      "text/latex": [
       "\\begin{enumerate*}\n",
       "\\item 1\n",
       "\\item 2\n",
       "\\item 3\n",
       "\\end{enumerate*}\n"
      ],
      "text/markdown": [
       "1. 1\n",
       "2. 2\n",
       "3. 3\n",
       "\n",
       "\n"
      ],
      "text/plain": [
       "[1] 1 2 3"
      ]
     },
     "metadata": {},
     "output_type": "display_data"
    }
   ],
   "source": [
    "# cột 1 của ma trận A\n",
    "A[,1]"
   ]
  },
  {
   "cell_type": "code",
   "execution_count": 48,
   "id": "66205599-a182-4daa-ac34-49d9c3ceb144",
   "metadata": {},
   "outputs": [
    {
     "data": {
      "text/html": [
       "<style>\n",
       ".list-inline {list-style: none; margin:0; padding: 0}\n",
       ".list-inline>li {display: inline-block}\n",
       ".list-inline>li:not(:last-child)::after {content: \"\\00b7\"; padding: 0 .5ex}\n",
       "</style>\n",
       "<ol class=list-inline><li>3</li><li>6</li><li>9</li></ol>\n"
      ],
      "text/latex": [
       "\\begin{enumerate*}\n",
       "\\item 3\n",
       "\\item 6\n",
       "\\item 9\n",
       "\\end{enumerate*}\n"
      ],
      "text/markdown": [
       "1. 3\n",
       "2. 6\n",
       "3. 9\n",
       "\n",
       "\n"
      ],
      "text/plain": [
       "[1] 3 6 9"
      ]
     },
     "metadata": {},
     "output_type": "display_data"
    }
   ],
   "source": [
    "# dòng 3 của ma trận A\n",
    "A[3,]"
   ]
  },
  {
   "cell_type": "code",
   "execution_count": 49,
   "id": "1b897f9a-b853-4e91-9b9f-51272ec44a9f",
   "metadata": {},
   "outputs": [
    {
     "data": {
      "text/html": [
       "<style>\n",
       ".list-inline {list-style: none; margin:0; padding: 0}\n",
       ".list-inline>li {display: inline-block}\n",
       ".list-inline>li:not(:last-child)::after {content: \"\\00b7\"; padding: 0 .5ex}\n",
       "</style>\n",
       "<ol class=list-inline><li>1</li><li>4</li><li>7</li></ol>\n"
      ],
      "text/latex": [
       "\\begin{enumerate*}\n",
       "\\item 1\n",
       "\\item 4\n",
       "\\item 7\n",
       "\\end{enumerate*}\n"
      ],
      "text/markdown": [
       "1. 1\n",
       "2. 4\n",
       "3. 7\n",
       "\n",
       "\n"
      ],
      "text/plain": [
       "[1] 1 4 7"
      ]
     },
     "metadata": {},
     "output_type": "display_data"
    }
   ],
   "source": [
    "# dòng 1 của ma trận A\n",
    "A[1,]"
   ]
  },
  {
   "cell_type": "code",
   "execution_count": 50,
   "id": "6f70e811-53e2-4294-a68a-88db66a57e66",
   "metadata": {},
   "outputs": [
    {
     "data": {
      "text/html": [
       "8"
      ],
      "text/latex": [
       "8"
      ],
      "text/markdown": [
       "8"
      ],
      "text/plain": [
       "[1] 8"
      ]
     },
     "metadata": {},
     "output_type": "display_data"
    }
   ],
   "source": [
    "# dòng 2, cột 3 của ma trận A\n",
    "A[2,3]"
   ]
  },
  {
   "cell_type": "code",
   "execution_count": 51,
   "id": "36facd80-d472-4016-b1e2-7880b1656e9e",
   "metadata": {},
   "outputs": [
    {
     "data": {
      "text/html": [
       "<table class=\"dataframe\">\n",
       "<caption>A matrix: 2 × 3 of type dbl</caption>\n",
       "<tbody>\n",
       "\t<tr><td>1</td><td>4</td><td>7</td></tr>\n",
       "\t<tr><td>3</td><td>6</td><td>9</td></tr>\n",
       "</tbody>\n",
       "</table>\n"
      ],
      "text/latex": [
       "A matrix: 2 × 3 of type dbl\n",
       "\\begin{tabular}{lll}\n",
       "\t 1 & 4 & 7\\\\\n",
       "\t 3 & 6 & 9\\\\\n",
       "\\end{tabular}\n"
      ],
      "text/markdown": [
       "\n",
       "A matrix: 2 × 3 of type dbl\n",
       "\n",
       "| 1 | 4 | 7 |\n",
       "| 3 | 6 | 9 |\n",
       "\n"
      ],
      "text/plain": [
       "     [,1] [,2] [,3]\n",
       "[1,] 1    4    7   \n",
       "[2,] 3    6    9   "
      ]
     },
     "metadata": {},
     "output_type": "display_data"
    }
   ],
   "source": [
    "# tất cả các dòng của ma trận A, ngoại trừ dòng 2\n",
    "A[-2,]"
   ]
  },
  {
   "cell_type": "code",
   "execution_count": 52,
   "id": "b321b8ae-6ecd-4e11-8898-4fa58465c4d4",
   "metadata": {},
   "outputs": [
    {
     "data": {
      "text/html": [
       "<table class=\"dataframe\">\n",
       "<caption>A matrix: 3 × 2 of type dbl</caption>\n",
       "<tbody>\n",
       "\t<tr><td>4</td><td>7</td></tr>\n",
       "\t<tr><td>5</td><td>8</td></tr>\n",
       "\t<tr><td>6</td><td>9</td></tr>\n",
       "</tbody>\n",
       "</table>\n"
      ],
      "text/latex": [
       "A matrix: 3 × 2 of type dbl\n",
       "\\begin{tabular}{ll}\n",
       "\t 4 & 7\\\\\n",
       "\t 5 & 8\\\\\n",
       "\t 6 & 9\\\\\n",
       "\\end{tabular}\n"
      ],
      "text/markdown": [
       "\n",
       "A matrix: 3 × 2 of type dbl\n",
       "\n",
       "| 4 | 7 |\n",
       "| 5 | 8 |\n",
       "| 6 | 9 |\n",
       "\n"
      ],
      "text/plain": [
       "     [,1] [,2]\n",
       "[1,] 4    7   \n",
       "[2,] 5    8   \n",
       "[3,] 6    9   "
      ]
     },
     "metadata": {},
     "output_type": "display_data"
    }
   ],
   "source": [
    "# tất cả các cột của ma trận A, ngoại trừ cột 1\n",
    "A[,-1]"
   ]
  },
  {
   "cell_type": "code",
   "execution_count": 53,
   "id": "a548b868-82b0-43d6-bdd8-813d6c9afad7",
   "metadata": {},
   "outputs": [
    {
     "data": {
      "text/html": [
       "<table class=\"dataframe\">\n",
       "<caption>A matrix: 3 × 3 of type lgl</caption>\n",
       "<tbody>\n",
       "\t<tr><td>FALSE</td><td>TRUE</td><td>TRUE</td></tr>\n",
       "\t<tr><td>FALSE</td><td>TRUE</td><td>TRUE</td></tr>\n",
       "\t<tr><td>FALSE</td><td>TRUE</td><td>TRUE</td></tr>\n",
       "</tbody>\n",
       "</table>\n"
      ],
      "text/latex": [
       "A matrix: 3 × 3 of type lgl\n",
       "\\begin{tabular}{lll}\n",
       "\t FALSE & TRUE & TRUE\\\\\n",
       "\t FALSE & TRUE & TRUE\\\\\n",
       "\t FALSE & TRUE & TRUE\\\\\n",
       "\\end{tabular}\n"
      ],
      "text/markdown": [
       "\n",
       "A matrix: 3 × 3 of type lgl\n",
       "\n",
       "| FALSE | TRUE | TRUE |\n",
       "| FALSE | TRUE | TRUE |\n",
       "| FALSE | TRUE | TRUE |\n",
       "\n"
      ],
      "text/plain": [
       "     [,1]  [,2] [,3]\n",
       "[1,] FALSE TRUE TRUE\n",
       "[2,] FALSE TRUE TRUE\n",
       "[3,] FALSE TRUE TRUE"
      ]
     },
     "metadata": {},
     "output_type": "display_data"
    }
   ],
   "source": [
    "# xem phần tử nào cao hơn 3.\n",
    "A>3"
   ]
  },
  {
   "cell_type": "markdown",
   "id": "fe403676-f03e-4380-9d60-5cc079a0f663",
   "metadata": {},
   "source": [
    "### 5.4.2 Tính toán với ma trận\n",
    "Cộng và trừ hai ma trận. Cho hai ma trận A và B như sau:"
   ]
  },
  {
   "cell_type": "code",
   "execution_count": 54,
   "id": "e2b0ae95-e610-4cb0-a489-7a5069267f00",
   "metadata": {},
   "outputs": [
    {
     "data": {
      "text/html": [
       "<table class=\"dataframe\">\n",
       "<caption>A matrix: 3 × 4 of type int</caption>\n",
       "<tbody>\n",
       "\t<tr><td>1</td><td>4</td><td>7</td><td>10</td></tr>\n",
       "\t<tr><td>2</td><td>5</td><td>8</td><td>11</td></tr>\n",
       "\t<tr><td>3</td><td>6</td><td>9</td><td>12</td></tr>\n",
       "</tbody>\n",
       "</table>\n"
      ],
      "text/latex": [
       "A matrix: 3 × 4 of type int\n",
       "\\begin{tabular}{llll}\n",
       "\t 1 & 4 & 7 & 10\\\\\n",
       "\t 2 & 5 & 8 & 11\\\\\n",
       "\t 3 & 6 & 9 & 12\\\\\n",
       "\\end{tabular}\n"
      ],
      "text/markdown": [
       "\n",
       "A matrix: 3 × 4 of type int\n",
       "\n",
       "| 1 | 4 | 7 | 10 |\n",
       "| 2 | 5 | 8 | 11 |\n",
       "| 3 | 6 | 9 | 12 |\n",
       "\n"
      ],
      "text/plain": [
       "     [,1] [,2] [,3] [,4]\n",
       "[1,] 1    4    7    10  \n",
       "[2,] 2    5    8    11  \n",
       "[3,] 3    6    9    12  "
      ]
     },
     "metadata": {},
     "output_type": "display_data"
    }
   ],
   "source": [
    "A <- matrix(1:12, 3, 4)\n",
    "A"
   ]
  },
  {
   "cell_type": "code",
   "execution_count": 55,
   "id": "18f0650c-0a33-45ba-9b21-9e9cdc255043",
   "metadata": {},
   "outputs": [
    {
     "data": {
      "text/html": [
       "<table class=\"dataframe\">\n",
       "<caption>A matrix: 3 × 4 of type int</caption>\n",
       "<tbody>\n",
       "\t<tr><td>-1</td><td>-4</td><td>-7</td><td>-10</td></tr>\n",
       "\t<tr><td>-2</td><td>-5</td><td>-8</td><td>-11</td></tr>\n",
       "\t<tr><td>-3</td><td>-6</td><td>-9</td><td>-12</td></tr>\n",
       "</tbody>\n",
       "</table>\n"
      ],
      "text/latex": [
       "A matrix: 3 × 4 of type int\n",
       "\\begin{tabular}{llll}\n",
       "\t -1 & -4 & -7 & -10\\\\\n",
       "\t -2 & -5 & -8 & -11\\\\\n",
       "\t -3 & -6 & -9 & -12\\\\\n",
       "\\end{tabular}\n"
      ],
      "text/markdown": [
       "\n",
       "A matrix: 3 × 4 of type int\n",
       "\n",
       "| -1 | -4 | -7 | -10 |\n",
       "| -2 | -5 | -8 | -11 |\n",
       "| -3 | -6 | -9 | -12 |\n",
       "\n"
      ],
      "text/plain": [
       "     [,1] [,2] [,3] [,4]\n",
       "[1,] -1   -4   -7   -10 \n",
       "[2,] -2   -5   -8   -11 \n",
       "[3,] -3   -6   -9   -12 "
      ]
     },
     "metadata": {},
     "output_type": "display_data"
    }
   ],
   "source": [
    "B <- matrix(-1:-12, 3, 4)\n",
    "B"
   ]
  },
  {
   "cell_type": "markdown",
   "id": "ac3f8531-27c5-454b-ad6b-5dd4e2f52095",
   "metadata": {},
   "source": [
    "Chúng ta có thể cộng A+B:\n"
   ]
  },
  {
   "cell_type": "code",
   "execution_count": 56,
   "id": "150b1b8f-8cb2-4825-a21e-fbde8954a5f7",
   "metadata": {},
   "outputs": [
    {
     "data": {
      "text/html": [
       "<table class=\"dataframe\">\n",
       "<caption>A matrix: 3 × 4 of type int</caption>\n",
       "<tbody>\n",
       "\t<tr><td>0</td><td>0</td><td>0</td><td>0</td></tr>\n",
       "\t<tr><td>0</td><td>0</td><td>0</td><td>0</td></tr>\n",
       "\t<tr><td>0</td><td>0</td><td>0</td><td>0</td></tr>\n",
       "</tbody>\n",
       "</table>\n"
      ],
      "text/latex": [
       "A matrix: 3 × 4 of type int\n",
       "\\begin{tabular}{llll}\n",
       "\t 0 & 0 & 0 & 0\\\\\n",
       "\t 0 & 0 & 0 & 0\\\\\n",
       "\t 0 & 0 & 0 & 0\\\\\n",
       "\\end{tabular}\n"
      ],
      "text/markdown": [
       "\n",
       "A matrix: 3 × 4 of type int\n",
       "\n",
       "| 0 | 0 | 0 | 0 |\n",
       "| 0 | 0 | 0 | 0 |\n",
       "| 0 | 0 | 0 | 0 |\n",
       "\n"
      ],
      "text/plain": [
       "     [,1] [,2] [,3] [,4]\n",
       "[1,] 0    0    0    0   \n",
       "[2,] 0    0    0    0   \n",
       "[3,] 0    0    0    0   "
      ]
     },
     "metadata": {},
     "output_type": "display_data"
    }
   ],
   "source": [
    "C <- A+B\n",
    "C"
   ]
  },
  {
   "cell_type": "code",
   "execution_count": 57,
   "id": "756169c4-4a28-4b68-bf00-c0affde6e49b",
   "metadata": {},
   "outputs": [
    {
     "data": {
      "text/html": [
       "<table class=\"dataframe\">\n",
       "<caption>A matrix: 3 × 4 of type int</caption>\n",
       "<tbody>\n",
       "\t<tr><td>2</td><td> 8</td><td>14</td><td>20</td></tr>\n",
       "\t<tr><td>4</td><td>10</td><td>16</td><td>22</td></tr>\n",
       "\t<tr><td>6</td><td>12</td><td>18</td><td>24</td></tr>\n",
       "</tbody>\n",
       "</table>\n"
      ],
      "text/latex": [
       "A matrix: 3 × 4 of type int\n",
       "\\begin{tabular}{llll}\n",
       "\t 2 &  8 & 14 & 20\\\\\n",
       "\t 4 & 10 & 16 & 22\\\\\n",
       "\t 6 & 12 & 18 & 24\\\\\n",
       "\\end{tabular}\n"
      ],
      "text/markdown": [
       "\n",
       "A matrix: 3 × 4 of type int\n",
       "\n",
       "| 2 |  8 | 14 | 20 |\n",
       "| 4 | 10 | 16 | 22 |\n",
       "| 6 | 12 | 18 | 24 |\n",
       "\n"
      ],
      "text/plain": [
       "     [,1] [,2] [,3] [,4]\n",
       "[1,] 2     8   14   20  \n",
       "[2,] 4    10   16   22  \n",
       "[3,] 6    12   18   24  "
      ]
     },
     "metadata": {},
     "output_type": "display_data"
    }
   ],
   "source": [
    "# trừ\n",
    "D <- A-B\n",
    "D"
   ]
  },
  {
   "cell_type": "markdown",
   "id": "f1c56b2c-9991-4daf-b3a5-5e2b1031eb16",
   "metadata": {},
   "source": [
    "Nhân 2 ma trận, chúng ta muốn tính AB, và có thể triển khai bằng R bằng cách sử dụng %*% như sau:"
   ]
  },
  {
   "cell_type": "code",
   "execution_count": 58,
   "id": "5299a524-70f7-4d82-8621-2c1c1f7b6166",
   "metadata": {},
   "outputs": [
    {
     "data": {
      "text/html": [
       "<table class=\"dataframe\">\n",
       "<caption>A matrix: 3 × 3 of type dbl</caption>\n",
       "<tbody>\n",
       "\t<tr><td>66</td><td> 78</td><td> 90</td></tr>\n",
       "\t<tr><td>78</td><td> 93</td><td>108</td></tr>\n",
       "\t<tr><td>90</td><td>108</td><td>126</td></tr>\n",
       "</tbody>\n",
       "</table>\n"
      ],
      "text/latex": [
       "A matrix: 3 × 3 of type dbl\n",
       "\\begin{tabular}{lll}\n",
       "\t 66 &  78 &  90\\\\\n",
       "\t 78 &  93 & 108\\\\\n",
       "\t 90 & 108 & 126\\\\\n",
       "\\end{tabular}\n"
      ],
      "text/markdown": [
       "\n",
       "A matrix: 3 × 3 of type dbl\n",
       "\n",
       "| 66 |  78 |  90 |\n",
       "| 78 |  93 | 108 |\n",
       "| 90 | 108 | 126 |\n",
       "\n"
      ],
      "text/plain": [
       "     [,1] [,2] [,3]\n",
       "[1,] 66    78   90 \n",
       "[2,] 78    93  108 \n",
       "[3,] 90   108  126 "
      ]
     },
     "metadata": {},
     "output_type": "display_data"
    }
   ],
   "source": [
    "y <- c(1,2,3,4,5,6,7,8,9)\n",
    "A <- matrix(y, nrow=3)\n",
    "B <- t(A)\n",
    "AB <- A%*%B\n",
    "AB"
   ]
  },
  {
   "cell_type": "markdown",
   "id": "ed064076-15ea-426e-95df-abd7c54d9e9c",
   "metadata": {},
   "source": [
    "Hay tính BA, và có thể triển khai bằng R bằng cách sử dụng %*% như sau:\n"
   ]
  },
  {
   "cell_type": "code",
   "execution_count": 59,
   "id": "bc60d2fc-a3fc-44d3-94b8-417c696591c1",
   "metadata": {},
   "outputs": [
    {
     "data": {
      "text/html": [
       "<table class=\"dataframe\">\n",
       "<caption>A matrix: 3 × 3 of type dbl</caption>\n",
       "<tbody>\n",
       "\t<tr><td>14</td><td> 32</td><td> 50</td></tr>\n",
       "\t<tr><td>32</td><td> 77</td><td>122</td></tr>\n",
       "\t<tr><td>50</td><td>122</td><td>194</td></tr>\n",
       "</tbody>\n",
       "</table>\n"
      ],
      "text/latex": [
       "A matrix: 3 × 3 of type dbl\n",
       "\\begin{tabular}{lll}\n",
       "\t 14 &  32 &  50\\\\\n",
       "\t 32 &  77 & 122\\\\\n",
       "\t 50 & 122 & 194\\\\\n",
       "\\end{tabular}\n"
      ],
      "text/markdown": [
       "\n",
       "A matrix: 3 × 3 of type dbl\n",
       "\n",
       "| 14 |  32 |  50 |\n",
       "| 32 |  77 | 122 |\n",
       "| 50 | 122 | 194 |\n",
       "\n"
      ],
      "text/plain": [
       "     [,1] [,2] [,3]\n",
       "[1,] 14    32   50 \n",
       "[2,] 32    77  122 \n",
       "[3,] 50   122  194 "
      ]
     },
     "metadata": {},
     "output_type": "display_data"
    }
   ],
   "source": [
    "BA <- B%*%A\n",
    "BA"
   ]
  },
  {
   "cell_type": "markdown",
   "id": "85f13b57-86f9-4a7c-b5aa-eaa76d9476a7",
   "metadata": {},
   "source": [
    "Nghịch đảo ma trận và giải hệ phương trình. Ví dụ chúng ta có hệ phương trình sau\n",
    "đây:\n",
    "\n",
    "\\begin{aligned}\n",
    "3x_1 + 4x_2 &= 4 \\\\\n",
    "x_1 + 6x_2 &= 2\n",
    "\\end{aligned}\n",
    "\n",
    "Hệ phương trình này có thể viết bằng kí hiệu ma trận: $AX = Y$, trong đó:\n",
    "$$\n",
    "A = \\begin{pmatrix}\n",
    "3 & 4 \\\\\n",
    "1 & 6\n",
    "\\end{pmatrix}, \\quad\n",
    "X = \\begin{pmatrix}\n",
    "x_1 \\\\\n",
    "x_2\n",
    "\\end{pmatrix}, \\quad \\text{và} \\quad\n",
    "Y = \\begin{pmatrix}\n",
    "4 \\\\\n",
    "2\n",
    "\\end{pmatrix}\n",
    "$$\n",
    "\n",
    "Nghiệm của hệ phương trình này là: $X = A^{-1}Y$, hay trong R:"
   ]
  },
  {
   "cell_type": "code",
   "execution_count": 60,
   "id": "12e83d49-c466-4a7f-be6e-688c6efe7529",
   "metadata": {},
   "outputs": [
    {
     "data": {
      "text/html": [
       "<table class=\"dataframe\">\n",
       "<caption>A matrix: 2 × 1 of type dbl</caption>\n",
       "<tbody>\n",
       "\t<tr><td>1.1428571</td></tr>\n",
       "\t<tr><td>0.1428571</td></tr>\n",
       "</tbody>\n",
       "</table>\n"
      ],
      "text/latex": [
       "A matrix: 2 × 1 of type dbl\n",
       "\\begin{tabular}{l}\n",
       "\t 1.1428571\\\\\n",
       "\t 0.1428571\\\\\n",
       "\\end{tabular}\n"
      ],
      "text/markdown": [
       "\n",
       "A matrix: 2 × 1 of type dbl\n",
       "\n",
       "| 1.1428571 |\n",
       "| 0.1428571 |\n",
       "\n"
      ],
      "text/plain": [
       "     [,1]     \n",
       "[1,] 1.1428571\n",
       "[2,] 0.1428571"
      ]
     },
     "metadata": {},
     "output_type": "display_data"
    }
   ],
   "source": [
    "A <- matrix(c(3,1,4,6), nrow=2)\n",
    "Y <- matrix(c(4,2), nrow=2)\n",
    "X <- solve(A)%*%Y\n",
    "X"
   ]
  },
  {
   "cell_type": "markdown",
   "id": "2fbec7ac-a740-4747-9bb4-1a9be7e51cfd",
   "metadata": {},
   "source": [
    "Chúng ta có thể kiểm tra:"
   ]
  },
  {
   "cell_type": "code",
   "execution_count": 61,
   "id": "9cfd1205-56ba-45ab-96ed-f2574481466d",
   "metadata": {},
   "outputs": [
    {
     "data": {
      "text/html": [
       "4"
      ],
      "text/latex": [
       "4"
      ],
      "text/markdown": [
       "4"
      ],
      "text/plain": [
       "[1] 4"
      ]
     },
     "metadata": {},
     "output_type": "display_data"
    }
   ],
   "source": [
    "3*X[1,1]+4*X[2,1]"
   ]
  },
  {
   "cell_type": "markdown",
   "id": "3af9e0a9-d305-4844-89bf-25790110f7d7",
   "metadata": {},
   "source": [
    "Trị số eigen cũng có thể tính toán bằng function eigen như sau:"
   ]
  },
  {
   "cell_type": "code",
   "execution_count": 62,
   "id": "5594cab6-eef7-45f2-a699-c4cb40a4efe7",
   "metadata": {},
   "outputs": [
    {
     "data": {
      "text/plain": [
       "eigen() decomposition\n",
       "$values\n",
       "[1] 7 2\n",
       "\n",
       "$vectors\n",
       "           [,1]       [,2]\n",
       "[1,] -0.7071068 -0.9701425\n",
       "[2,] -0.7071068  0.2425356\n"
      ]
     },
     "metadata": {},
     "output_type": "display_data"
    }
   ],
   "source": [
    "eigen(A)"
   ]
  },
  {
   "cell_type": "markdown",
   "id": "264d0de7-3561-46a3-812e-02dd59251767",
   "metadata": {},
   "source": [
    "Định thức (determinant). Làm sao chúng ta xác định một ma trận có thể đảo nghịch\n",
    "hay không? Ma trận mà định thức bằng 0 là ma trận suy biến (singular matrix) và\n",
    "không thể đảo nghịch. Để kiểm tra định thức, R dùng lệnh **det()**:"
   ]
  },
  {
   "cell_type": "code",
   "execution_count": 63,
   "id": "1c410055-ef00-4951-aeec-3923fdb88054",
   "metadata": {},
   "outputs": [
    {
     "data": {
      "text/html": [
       "<table class=\"dataframe\">\n",
       "<caption>A matrix: 3 × 3 of type int</caption>\n",
       "<tbody>\n",
       "\t<tr><td>1</td><td>4</td><td>7</td></tr>\n",
       "\t<tr><td>2</td><td>5</td><td>8</td></tr>\n",
       "\t<tr><td>3</td><td>6</td><td>9</td></tr>\n",
       "</tbody>\n",
       "</table>\n"
      ],
      "text/latex": [
       "A matrix: 3 × 3 of type int\n",
       "\\begin{tabular}{lll}\n",
       "\t 1 & 4 & 7\\\\\n",
       "\t 2 & 5 & 8\\\\\n",
       "\t 3 & 6 & 9\\\\\n",
       "\\end{tabular}\n"
      ],
      "text/markdown": [
       "\n",
       "A matrix: 3 × 3 of type int\n",
       "\n",
       "| 1 | 4 | 7 |\n",
       "| 2 | 5 | 8 |\n",
       "| 3 | 6 | 9 |\n",
       "\n"
      ],
      "text/plain": [
       "     [,1] [,2] [,3]\n",
       "[1,] 1    4    7   \n",
       "[2,] 2    5    8   \n",
       "[3,] 3    6    9   "
      ]
     },
     "metadata": {},
     "output_type": "display_data"
    }
   ],
   "source": [
    "E <- matrix((1:9), 3, 3)\n",
    "E"
   ]
  },
  {
   "cell_type": "markdown",
   "id": "00eaa709-48aa-4e7a-930e-529bc39c2ac7",
   "metadata": {},
   "source": [
    "Nhưng ma trận F sau đây thì có thể đảo nghịch:"
   ]
  },
  {
   "cell_type": "code",
   "execution_count": 64,
   "id": "ecdfcd29-a423-4332-9e10-c16fef6dc997",
   "metadata": {},
   "outputs": [
    {
     "data": {
      "text/html": [
       "<table class=\"dataframe\">\n",
       "<caption>A matrix: 3 × 3 of type dbl</caption>\n",
       "<tbody>\n",
       "\t<tr><td>1</td><td>16</td><td>49</td></tr>\n",
       "\t<tr><td>4</td><td>25</td><td>64</td></tr>\n",
       "\t<tr><td>9</td><td>36</td><td>81</td></tr>\n",
       "</tbody>\n",
       "</table>\n"
      ],
      "text/latex": [
       "A matrix: 3 × 3 of type dbl\n",
       "\\begin{tabular}{lll}\n",
       "\t 1 & 16 & 49\\\\\n",
       "\t 4 & 25 & 64\\\\\n",
       "\t 9 & 36 & 81\\\\\n",
       "\\end{tabular}\n"
      ],
      "text/markdown": [
       "\n",
       "A matrix: 3 × 3 of type dbl\n",
       "\n",
       "| 1 | 16 | 49 |\n",
       "| 4 | 25 | 64 |\n",
       "| 9 | 36 | 81 |\n",
       "\n"
      ],
      "text/plain": [
       "     [,1] [,2] [,3]\n",
       "[1,] 1    16   49  \n",
       "[2,] 4    25   64  \n",
       "[3,] 9    36   81  "
      ]
     },
     "metadata": {},
     "output_type": "display_data"
    }
   ],
   "source": [
    "F <- matrix((1:9)^2, 3, 3)\n",
    "F"
   ]
  },
  {
   "cell_type": "code",
   "execution_count": 65,
   "id": "d39e418f-f520-45cf-a2a7-67d318d6560d",
   "metadata": {},
   "outputs": [
    {
     "data": {
      "text/html": [
       "-216"
      ],
      "text/latex": [
       "-216"
      ],
      "text/markdown": [
       "-216"
      ],
      "text/plain": [
       "[1] -216"
      ]
     },
     "metadata": {},
     "output_type": "display_data"
    }
   ],
   "source": [
    "det(F)"
   ]
  },
  {
   "cell_type": "markdown",
   "id": "e48ee4ad-ca6c-40fd-9641-2770ced7100c",
   "metadata": {},
   "source": [
    "Và nghịch đảo của ma trận F $(F^{_1})$ có thể tính bằng function solve() như sau:"
   ]
  },
  {
   "cell_type": "code",
   "execution_count": 66,
   "id": "2bfc178c-134d-4417-8095-0ea2baac5d4f",
   "metadata": {},
   "outputs": [
    {
     "data": {
      "text/html": [
       "<table class=\"dataframe\">\n",
       "<caption>A matrix: 3 × 3 of type dbl</caption>\n",
       "<tbody>\n",
       "\t<tr><td> 1.291667</td><td>-2.166667</td><td> 0.9305556</td></tr>\n",
       "\t<tr><td>-1.166667</td><td> 1.666667</td><td>-0.6111111</td></tr>\n",
       "\t<tr><td> 0.375000</td><td>-0.500000</td><td> 0.1805556</td></tr>\n",
       "</tbody>\n",
       "</table>\n"
      ],
      "text/latex": [
       "A matrix: 3 × 3 of type dbl\n",
       "\\begin{tabular}{lll}\n",
       "\t  1.291667 & -2.166667 &  0.9305556\\\\\n",
       "\t -1.166667 &  1.666667 & -0.6111111\\\\\n",
       "\t  0.375000 & -0.500000 &  0.1805556\\\\\n",
       "\\end{tabular}\n"
      ],
      "text/markdown": [
       "\n",
       "A matrix: 3 × 3 of type dbl\n",
       "\n",
       "|  1.291667 | -2.166667 |  0.9305556 |\n",
       "| -1.166667 |  1.666667 | -0.6111111 |\n",
       "|  0.375000 | -0.500000 |  0.1805556 |\n",
       "\n"
      ],
      "text/plain": [
       "     [,1]      [,2]      [,3]      \n",
       "[1,]  1.291667 -2.166667  0.9305556\n",
       "[2,] -1.166667  1.666667 -0.6111111\n",
       "[3,]  0.375000 -0.500000  0.1805556"
      ]
     },
     "metadata": {},
     "output_type": "display_data"
    }
   ],
   "source": [
    "solve(F)"
   ]
  },
  {
   "cell_type": "markdown",
   "id": "e0187abf-d57a-43cc-b8c4-c29d46c5f8cf",
   "metadata": {},
   "source": [
    "Ngoài những phép tính đơn giản này, R còn có thể sử dụng cho các phép tính\n",
    "phức tạp khác. Một lợi thế đáng kể của R là phần mềm cung cấp cho người sử dụng tự\n",
    "do tạo ra những phép tính phù hợp cho từng vấn đề cụ thể. Trong vài chương sau, tôi sẽ\n",
    "quay lại vấn đề này chi tiết hơn.\n",
    "\n",
    "R có một package Matrix chuyên thiết kế cho tính toán ma trận. Bạn đọc có thể\n",
    "tải package xuống, cài vào máy, và sử dụng, nếu cần. Địa chỉ để tải là:\n",
    "\n",
    "http://cran.au.r-project.org/bin/windows/contrib/r-release/Matrix_0.995-8.zip\n",
    "\n",
    "cùng với tài liệu chỉ dẫn cách sử dụng (dài khoảng 80 trang):\n",
    "\n",
    "http://cran.au.r-project.org/doc/packages/Matrix.pdf"
   ]
  },
  {
   "cell_type": "code",
   "execution_count": null,
   "id": "93536124-8253-4604-a350-8e9fae1ffbad",
   "metadata": {},
   "outputs": [],
   "source": []
  },
  {
   "cell_type": "code",
   "execution_count": null,
   "id": "45f21ce9-065a-4fbe-b077-ac12b0b62a62",
   "metadata": {},
   "outputs": [],
   "source": []
  }
 ],
 "metadata": {
  "kernelspec": {
   "display_name": "R",
   "language": "R",
   "name": "ir"
  },
  "language_info": {
   "codemirror_mode": "r",
   "file_extension": ".r",
   "mimetype": "text/x-r-source",
   "name": "R",
   "pygments_lexer": "r",
   "version": "4.3.3"
  }
 },
 "nbformat": 4,
 "nbformat_minor": 5
}
